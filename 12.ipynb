{
 "cells": [
  {
   "cell_type": "code",
   "execution_count": null,
   "id": "fcb861af-1059-4c45-bb1a-19feef9c71eb",
   "metadata": {},
   "outputs": [],
   "source": [
    "#basic operation in numpy\n",
    "import numpy as np\n",
    "\n",
    "# Creating two arrays\n",
    "array1 = np.array([1, 2, 3, 4])\n",
    "array2 = np.array([5, 6, 7, 8])\n",
    "\n",
    "# Array addition\n",
    "addition = array1 + array2\n",
    "print(\"Addition:\", addition)\n",
    "\n",
    "# Array subtraction\n",
    "subtraction = array2 - array1\n",
    "print(\"Subtraction:\", subtraction)\n",
    "\n",
    "# Array multiplication (element-wise)\n",
    "multiplication = array1 * array2\n",
    "print(\"Multiplication:\", multiplication)\n"
   ]
  },
  {
   "cell_type": "code",
   "execution_count": null,
   "id": "ee03d4a8-9307-4434-b6f2-75c78314fe6f",
   "metadata": {},
   "outputs": [],
   "source": [
    "#2array reshaping and slicing \n",
    "import numpy as np\n",
    "\n",
    "# Creating a 1D array of 9 elements\n",
    "array = np.array([1, 2, 3, 4, 5, 6, 7, 8, 9])\n",
    "\n",
    "# Reshaping it into a 3x3 matrix\n",
    "matrix = array.reshape(3, 3)\n",
    "print(\"3x3 Matrix:\\n\", matrix)\n",
    "\n",
    "# Slicing: Extracting the first two rows and the first two columns\n",
    "sub_matrix = matrix[:2, :2]\n",
    "print(\"\\nSliced Sub-matrix:\\n\", sub_matrix)\n"
   ]
  }
 ],
 "metadata": {
  "kernelspec": {
   "display_name": "Python 3 (ipykernel)",
   "language": "python",
   "name": "python3"
  },
  "language_info": {
   "codemirror_mode": {
    "name": "ipython",
    "version": 3
   },
   "file_extension": ".py",
   "mimetype": "text/x-python",
   "name": "python",
   "nbconvert_exporter": "python",
   "pygments_lexer": "ipython3",
   "version": "3.11.7"
  }
 },
 "nbformat": 4,
 "nbformat_minor": 5
}
