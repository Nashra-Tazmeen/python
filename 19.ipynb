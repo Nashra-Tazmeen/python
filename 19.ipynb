{
 "cells": [
  {
   "cell_type": "markdown",
   "id": "6f7ed56d-509f-4219-853f-5ee199dbe42d",
   "metadata": {},
   "source": [
    "ITEMGETTER:\n",
    "\n",
    "What is itemgetter, and which module is it part of?\n",
    "(Answer: It's a function in Python's operator module used to access elements by index or key.)\n",
    "\n",
    "How does itemgetter differ from using indexing directly (e.g., list[0])?\n",
    "(Answer: itemgetter allows retrieving multiple items or keys at once and works seamlessly in higher-order functions like map or sorted.)\n",
    "\n",
    "In what scenarios is itemgetter preferred over lambda functions?\n",
    "(Answer: When efficiency is crucial, as itemgetter is implemented in C and faster than lambda.)\n",
    "\n",
    "Can itemgetter work with dictionaries? If yes, how?\n",
    "(Answer: Yes, by providing the key to retrieve values directly from dictionaries.)\n",
    "\n",
    "Is itemgetter limited to single-index access? Explain with an example.\n",
    "(Answer: No, it supports retrieving multiple indices or keys at once.)"
   ]
  },
  {
   "cell_type": "code",
   "execution_count": 2,
   "id": "78b063e9-39f3-4974-9736-56613f3552cb",
   "metadata": {},
   "outputs": [
    {
     "name": "stdout",
     "output_type": "stream",
     "text": [
      "[1, 2, 3]\n"
     ]
    }
   ],
   "source": [
    "##1Extract the second element from each tuple in the list data = [(1, 'A'), (2, 'B'), (3, 'C')] using itemgetter.\n",
    "#(Expected Output: ['A', 'B', 'C'])\n",
    "\n",
    "from operator import itemgetter\n",
    "data= [(1, 'A'), (2, 'B'), (3, 'C')]\n",
    "names=list(map(itemgetter(0),data))\n",
    "print(names)"
   ]
  },
  {
   "cell_type": "code",
   "execution_count": 3,
   "id": "a88d5c84-4855-4b6a-a7e8-bce46bf8ea3e",
   "metadata": {},
   "outputs": [
    {
     "name": "stdout",
     "output_type": "stream",
     "text": [
      "[(2, 'B', 80), (3, 'C', 85), (1, 'A', 90)]\n"
     ]
    }
   ],
   "source": [
    "##2Sort the list of tuples data = [(1, 'A', 90), (2, 'B', 80), (3, 'C', 85)] by the third element using itemgetter.\n",
    "\n",
    "data=[(1, 'A', 90), (2, 'B', 80), (3, 'C', 85)]  \n",
    "\n",
    "res=sorted(data,key=itemgetter(2))\n",
    "print(res)"
   ]
  },
  {
   "cell_type": "code",
   "execution_count": 4,
   "id": "2a5adcc1-5ad6-42d1-8ff0-166136476506",
   "metadata": {},
   "outputs": [
    {
     "name": "stdout",
     "output_type": "stream",
     "text": [
      "[(1, 90), (2, 80)]\n"
     ]
    }
   ],
   "source": [
    "##3Extract multiple indices (e.g., the first and third elements) from each tuple in data = [(1, 'A', 90), (2, 'B', 80)] \n",
    "#using itemgetter.\n",
    "data=[(1, 'A', 90), (2, 'B', 80)] \n",
    "res=list(map(itemgetter(0,2),data))\n",
    "print(res)\n"
   ]
  },
  {
   "cell_type": "code",
   "execution_count": 5,
   "id": "8ae99c65-59f9-48eb-94c5-51ad02aa39de",
   "metadata": {},
   "outputs": [
    {
     "name": "stdout",
     "output_type": "stream",
     "text": [
      "('Alice', 25)\n"
     ]
    }
   ],
   "source": [
    "#4Access specific keys from a dictionary data = {'name': 'Alice', 'age': 25, 'score': 90} using itemgetter.\n",
    "data = {'name': 'Alice', 'age': 25, 'score': 90} \n",
    "res=itemgetter('name','age')(data)\n",
    "print(res)\n"
   ]
  },
  {
   "cell_type": "code",
   "execution_count": 6,
   "id": "02f8ffe1-bf58-48a6-a153-230014c0e456",
   "metadata": {},
   "outputs": [
    {
     "name": "stdout",
     "output_type": "stream",
     "text": [
      "[{'name': 'B', 'age': 20}, {'name': 'A', 'age': 25}]\n"
     ]
    }
   ],
   "source": [
    "##5Sort a list of dictionaries data = [{'name': 'A', 'age': 25}, {'name': 'B', 'age': 20}] by the value of the key 'age' using itemgetter.\n",
    "data= [{'name': 'A', 'age': 25}, {'name': 'B', 'age': 20}]\n",
    "res=sorted(data,key=itemgetter('age'))\n",
    "print(res)\n"
   ]
  },
  {
   "cell_type": "code",
   "execution_count": 8,
   "id": "3c4c2620-54cb-4c6c-9d15-d245e99de8cd",
   "metadata": {},
   "outputs": [
    {
     "name": "stdout",
     "output_type": "stream",
     "text": [
      "[2, 5, 8]\n"
     ]
    }
   ],
   "source": [
    "##6  Extract the second column from the matrix data = [[1, 2, 3], [4, 5, 6], [7, 8, 9]] using itemgetter.\n",
    "#(Expected Output: [2, 5, 8])  \n",
    "data=[[1, 2, 3], [4, 5, 6], [7, 8, 9]]\n",
    "res=list(map(itemgetter(1),data))\n",
    "print(res)"
   ]
  },
  {
   "cell_type": "code",
   "execution_count": null,
   "id": "318bccbe-5010-47c5-87d7-2b0a83d116c7",
   "metadata": {},
   "outputs": [],
   "source": []
  }
 ],
 "metadata": {
  "kernelspec": {
   "display_name": "Python 3 (ipykernel)",
   "language": "python",
   "name": "python3"
  },
  "language_info": {
   "codemirror_mode": {
    "name": "ipython",
    "version": 3
   },
   "file_extension": ".py",
   "mimetype": "text/x-python",
   "name": "python",
   "nbconvert_exporter": "python",
   "pygments_lexer": "ipython3",
   "version": "3.11.7"
  }
 },
 "nbformat": 4,
 "nbformat_minor": 5
}
