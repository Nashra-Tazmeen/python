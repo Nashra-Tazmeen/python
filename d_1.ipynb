{
 "cells": [
  {
   "cell_type": "code",
   "execution_count": 1,
   "id": "1550a861-26d7-41b8-a801-936488390de0",
   "metadata": {},
   "outputs": [
    {
     "data": {
      "text/plain": [
       "[5, 2, 3, 4, 1]"
      ]
     },
     "execution_count": 1,
     "metadata": {},
     "output_type": "execute_result"
    }
   ],
   "source": [
    "##interchange first nd last element\n",
    "def interchange(list):\n",
    "  list[0],list[-1]=list[-1],list[0]\n",
    "  return list\n",
    "list=[1,2,3,4,5]\n",
    "interchange(list)##interchange first nd last element\n",
    "def interchange(list):\n",
    "  list[0],list[-1]=list[-1],list[0]\n",
    "  return list\n",
    "list=[1,2,3,4,5]\n",
    "interchange(list)"
   ]
  },
  {
   "cell_type": "code",
   "execution_count": 2,
   "id": "8b216d30-40d7-4986-ab6f-abd384e4be44",
   "metadata": {},
   "outputs": [
    {
     "data": {
      "text/plain": [
       "[1, 3, 2, 4]"
      ]
     },
     "execution_count": 2,
     "metadata": {},
     "output_type": "execute_result"
    }
   ],
   "source": [
    "##swap of elements:\n",
    "def swap(list,pos1,pos2):\n",
    "  list[pos1],list[pos2]=list[pos2],list[pos1]\n",
    "  return list\n",
    "list=[1,2,3,4]\n",
    "pos1=2\n",
    "pos2=3\n",
    "swap(list,pos1-1,pos2-1)"
   ]
  },
  {
   "cell_type": "code",
   "execution_count": 3,
   "id": "c7bf4b74-325c-46e2-87e9-a003a730cdd6",
   "metadata": {},
   "outputs": [
    {
     "data": {
      "text/plain": [
       "[3, 9, 6, 12]"
      ]
     },
     "execution_count": 3,
     "metadata": {},
     "output_type": "execute_result"
    }
   ],
   "source": [
    "##swap element in string list\n",
    "def swap_str_list(str_list):\n",
    "  str_list[1],str_list[2]=str_list[2],str_list[1]\n",
    "  return str_list\n",
    "list=[3,6,9,12]\n",
    "swap_str_list(list)"
   ]
  },
  {
   "cell_type": "code",
   "execution_count": 4,
   "id": "cb20b46b-4129-4395-b8f9-1a393b43acdc",
   "metadata": {},
   "outputs": [
    {
     "name": "stdout",
     "output_type": "stream",
     "text": [
      "yes\n"
     ]
    }
   ],
   "source": [
    "##ele in list or not\n",
    "str_list=['apple','banana','grapes']\n",
    "str='apple'\n",
    "if str in str_list:\n",
    "  print(\"yes\")\n",
    "else:\n",
    "  print(\"no\")\n"
   ]
  },
  {
   "cell_type": "code",
   "execution_count": 8,
   "id": "84ca0189-4989-49ff-a5ba-ae1ca480f477",
   "metadata": {},
   "outputs": [
    {
     "data": {
      "text/plain": [
       "'hi'"
      ]
     },
     "execution_count": 8,
     "metadata": {},
     "output_type": "execute_result"
    }
   ],
   "source": [
    "##diff ways to clear a list\n",
    "list1=[\"hello\",\"world\"]\n",
    "list2=[\"geeks\",\"for\",\"geeks\"]\n",
    "list3=[\"hello\",\"hi\"]\n",
    "list1.clear()\n",
    "\n",
    "del list2[:]\n",
    "list3.pop()"
   ]
  },
  {
   "cell_type": "code",
   "execution_count": 9,
   "id": "de7446e0-7558-4de2-b96f-d7c56e9344e8",
   "metadata": {},
   "outputs": [
    {
     "data": {
      "text/plain": [
       "[1, 2, 3, 4]"
      ]
     },
     "execution_count": 9,
     "metadata": {},
     "output_type": "execute_result"
    }
   ],
   "source": [
    "##cloning list\n",
    "list=[1,2,3,4]\n",
    "new_list=list[:]\n",
    "new_list"
   ]
  },
  {
   "cell_type": "code",
   "execution_count": 10,
   "id": "38668da9-7d37-4cd9-a569-1a1f20a27999",
   "metadata": {},
   "outputs": [
    {
     "name": "stdout",
     "output_type": "stream",
     "text": [
      "{1: 1, 3: 2, 2: 2, 4: 1}\n"
     ]
    }
   ],
   "source": [
    "##count occurences of elem\n",
    "list=[1,3,3,2,2,4]\n",
    "char_count={}\n",
    "for i in list:\n",
    "  if i in char_count:\n",
    "    char_count[i]+=1\n",
    "  else:\n",
    "    char_count[i]=1\n",
    "print(char_count)"
   ]
  },
  {
   "cell_type": "code",
   "execution_count": 11,
   "id": "89d2cd79-8a9b-456d-957e-45a86d83f37f",
   "metadata": {},
   "outputs": [
    {
     "data": {
      "text/plain": [
       "[2]"
      ]
     },
     "execution_count": 11,
     "metadata": {},
     "output_type": "execute_result"
    }
   ],
   "source": [
    "#duplicates frm lst of elmts\n",
    "\n",
    "list=[1,3,3,2,4,4,4,1]\n",
    "char_count={}\n",
    "result=[]\n",
    "for i in list:\n",
    "  if i in char_count:\n",
    "    char_count[i]+=1\n",
    "  else:\n",
    "    char_count[i]=1\n",
    "for i in list:\n",
    "  if char_count[i]==1:\n",
    "    result.append(i)\n",
    "result"
   ]
  },
  {
   "cell_type": "markdown",
   "id": "d0423681-3e56-4eb5-9b4c-3f147a2b3b50",
   "metadata": {},
   "source": [
    "STRINGS\n"
   ]
  },
  {
   "cell_type": "code",
   "execution_count": 12,
   "id": "65b162ee-033b-4b04-a9f2-423da4911420",
   "metadata": {},
   "outputs": [
    {
     "name": "stdout",
     "output_type": "stream",
     "text": [
      "yes\n"
     ]
    }
   ],
   "source": [
    "##palindrome\n",
    "string=\"madam\"\n",
    "if string==string[::-1]:\n",
    "  print(\"yes\")\n",
    "else:\n",
    "  print(\"no\")"
   ]
  },
  {
   "cell_type": "code",
   "execution_count": 15,
   "id": "6294e9b0-e81c-4579-8b5b-6a091386cfdb",
   "metadata": {},
   "outputs": [
    {
     "data": {
      "text/plain": [
       "'best the is geeks for geeks '"
      ]
     },
     "execution_count": 15,
     "metadata": {},
     "output_type": "execute_result"
    }
   ],
   "source": [
    "##rvrs wrds in str\n",
    "str=\"geeks for geeks is the best\"\n",
    "list=str.split()[::-1]\n",
    "result=\"\"\n",
    "for i in list:\n",
    "    result=result+i+\" \"\n",
    "result   "
   ]
  },
  {
   "cell_type": "code",
   "execution_count": 29,
   "id": "0905479d-b099-420c-8043-76de9c5c721e",
   "metadata": {},
   "outputs": [
    {
     "data": {
      "text/plain": [
       "'geks for geeks'"
      ]
     },
     "execution_count": 29,
     "metadata": {},
     "output_type": "execute_result"
    }
   ],
   "source": [
    "##rmv ith chr frm str\n",
    "str=\"geeks for geeks\"\n",
    "\n",
    "result=\"\"\n",
    "for i in range(len(str)):\n",
    "    if i!=2:\n",
    "        result+=str[i]\n",
    "result        \n",
    "    "
   ]
  },
  {
   "cell_type": "code",
   "execution_count": 30,
   "id": "360e511c-6143-47a1-8f82-f6409a37b622",
   "metadata": {},
   "outputs": [
    {
     "data": {
      "text/plain": [
       "'geeksforgeeks'"
      ]
     },
     "execution_count": 30,
     "metadata": {},
     "output_type": "execute_result"
    }
   ],
   "source": [
    "##am   avoid spcs in str\n",
    "str=\"geeks for geeks\"\n",
    "new_str=str.replace(\" \",\"\")\n",
    "new_str"
   ]
  },
  {
   "cell_type": "code",
   "execution_count": 25,
   "id": "8cc61b73-40de-4ac4-9697-21b47c7bdd03",
   "metadata": {},
   "outputs": [
    {
     "data": {
      "text/plain": [
       "'GEEKSForgeeks'"
      ]
     },
     "execution_count": 25,
     "metadata": {},
     "output_type": "execute_result"
    }
   ],
   "source": [
    "#str with half capital \n",
    "str=\"geeksforgeeks\"\n",
    "mid_index=len(str)//2\n",
    "first_half=str[:mid_index].upper()\n",
    "second_half=str[mid_index:]\n",
    "final_str=first_half+second_half\n",
    "final_str"
   ]
  },
  {
   "cell_type": "code",
   "execution_count": 31,
   "id": "6225aa5d-4155-4f48-b016-6eac1b1fc6c3",
   "metadata": {},
   "outputs": [
    {
     "data": {
      "text/plain": [
       "'GeeksforgeekS'"
      ]
     },
     "execution_count": 31,
     "metadata": {},
     "output_type": "execute_result"
    }
   ],
   "source": [
    "##first and last char chapitalize\n",
    "str=\"geeksforgeeks\"\n",
    "final_str=str[0].upper()+str[1:-1]+str[-1].upper()\n",
    "final_str"
   ]
  },
  {
   "cell_type": "code",
   "execution_count": 36,
   "id": "93c4744d-62ef-436f-bfe3-6d01d6bedd32",
   "metadata": {},
   "outputs": [
    {
     "name": "stdout",
     "output_type": "stream",
     "text": [
      "str have all vowles\n"
     ]
    }
   ],
   "source": [
    "##str is vowel or not\n",
    "str=\"aeiou\"\n",
    "vowel=\"aeiou\"\n",
    "new_str=set(str)\n",
    "if new_str==set(vowel):\n",
    "    print(\"str have all vowles\")\n",
    "else: \n",
    "    print(\"not\")\n"
   ]
  },
  {
   "cell_type": "code",
   "execution_count": 40,
   "id": "e21bed85-c96d-49bc-9110-44cfdcb733b5",
   "metadata": {},
   "outputs": [
    {
     "data": {
      "text/plain": [
       "'gokersf'"
      ]
     },
     "execution_count": 40,
     "metadata": {},
     "output_type": "execute_result"
    }
   ],
   "source": [
    "##remove duplicates from given str:\n",
    "str=\"geeksforgeeks\"\n",
    "new_str=set(str)\n",
    "final_str=\"\".join(new_str)\n",
    "final_str\n"
   ]
  },
  {
   "cell_type": "code",
   "execution_count": 50,
   "id": "cb7d13d8-0b59-4963-a7b9-af3d6249bc65",
   "metadata": {},
   "outputs": [
    {
     "data": {
      "text/plain": [
       "'geksfor'"
      ]
     },
     "execution_count": 50,
     "metadata": {},
     "output_type": "execute_result"
    }
   ],
   "source": [
    "##remove duplicates from a str\n",
    "str = \"geeksforgeeks\"\n",
    "seen = set()\n",
    "final_str = \"\"\n",
    "\n",
    "for char in str:\n",
    "    if char not in seen:\n",
    "        seen.add(char)\n",
    "        final_str += char\n",
    "\n",
    "final_str\n",
    "tr\r\n",
    "\n",
    "\n",
    "\n",
    "\n",
    "\n",
    "\n"
   ]
  },
  {
   "cell_type": "code",
   "execution_count": 62,
   "id": "e7f7bb33-f3c6-46ad-9fef-e17156bf69bf",
   "metadata": {},
   "outputs": [
    {
     "name": "stdout",
     "output_type": "stream",
     "text": [
      "f e\n"
     ]
    }
   ],
   "source": [
    "##least fre char in str:\n",
    "str=\"geeksforgeeks\"\n",
    "char_count={}\n",
    "for char in str:\n",
    "    if char in char_count:\n",
    "        char_count[char]+=1\n",
    "    else:\n",
    "        char_count[char]=1\n",
    "min_char=min(char_count,key=char_count.get)\n",
    "max_char=max(char_count,key=char_count.get)\n",
    "print(min_char,max_char)\n"
   ]
  },
  {
   "cell_type": "code",
   "execution_count": 66,
   "id": "2cd0f2b8-6234-4ef2-908f-b3628573f70f",
   "metadata": {},
   "outputs": [
    {
     "data": {
      "text/plain": [
       "['g', 'e', 'k', 's']"
      ]
     },
     "execution_count": 66,
     "metadata": {},
     "output_type": "execute_result"
    }
   ],
   "source": [
    "##even and odd frequency:\n",
    "str=\"geeksforgeeks\"\n",
    "char_count={}\n",
    "for char in str:\n",
    "    if char in char_count:\n",
    "        char_count[char]+=1\n",
    "    else:\n",
    "        char_count[char]=1\n",
    "even_fre=[]\n",
    "odd_fre=[]\n",
    "for char,count in char_count.items():\n",
    "    if count%2==0:\n",
    "        even_fre.append(char)\n",
    "    else:\n",
    "        odd_fre.append(char)\n",
    "even_fre\n",
    "\n",
    "        \n"
   ]
  },
  {
   "cell_type": "code",
   "execution_count": 68,
   "id": "2689766c-0775-4798-a025-c0010abcab9c",
   "metadata": {},
   "outputs": [
    {
     "data": {
      "text/plain": [
       "['computer', 'science', 'portal']"
      ]
     },
     "execution_count": 68,
     "metadata": {},
     "output_type": "execute_result"
    }
   ],
   "source": [
    "##words greater than k length\n",
    "str=\"geeks for geeks is a computer science portal\"\n",
    "k=5\n",
    "result=[word for word in str.split() if len(word)>k]\n",
    "result"
   ]
  },
  {
   "cell_type": "code",
   "execution_count": 75,
   "id": "a1c6e314-4335-4103-8853-d17cb9fc6601",
   "metadata": {},
   "outputs": [
    {
     "data": {
      "text/plain": [
       "'geesforgeeks'"
      ]
     },
     "execution_count": 75,
     "metadata": {},
     "output_type": "execute_result"
    }
   ],
   "source": [
    "str=\"geeksforgeeks\"\n",
    "res=\"\"\n",
    "for i in range(len(str)):\n",
    "    if i!=3:\n",
    "        res+=str[i]\n",
    "res        "
   ]
  },
  {
   "cell_type": "code",
   "execution_count": null,
   "id": "ead66a46-ca0c-4f1e-a5c5-683b3b468547",
   "metadata": {},
   "outputs": [],
   "source": [
    "##uncommon words in two strings:\n",
    "str2=\"geeks for geeks\"\n",
    "str1=\"learning from geeks for geeks\"\n",
    "words_str1=str1.split()\n",
    "words_str2=str2.split()\n",
    "\n",
    "result=[word for word in words_str1 if word not in words_str2]\n",
    "result\n"
   ]
  },
  {
   "cell_type": "code",
   "execution_count": 84,
   "id": "f70e2ba8-9e15-4329-ab36-e3cc51f4f3e7",
   "metadata": {},
   "outputs": [
    {
     "name": "stdout",
     "output_type": "stream",
     "text": [
      "['abc', 'acb', 'bac', 'bca', 'cab', 'cba']\n"
     ]
    }
   ],
   "source": [
    "##A str of length n has n permutations\n",
    "import itertools\n",
    "\n",
    "# Define the input string\n",
    "string = \"abc\"\n",
    "\n",
    "# Generate all permutations of the string\n",
    "permutations = itertools.permutations(string)\n",
    "\n",
    "# Convert permutations from tuples to strings\n",
    "permutations_list = [''.join(p) for p in permutations]\n",
    "\n",
    "# Print the list of permutations\n",
    "print(permutations_list)\n"
   ]
  },
  {
   "cell_type": "markdown",
   "id": "f3cdfc7c-7cc4-4e03-98ee-c27fff48b23e",
   "metadata": {},
   "source": [
    "Dictionary"
   ]
  },
  {
   "cell_type": "code",
   "execution_count": null,
   "id": "3bfd135e-00d9-49b6-96bc-2d02babc27db",
   "metadata": {},
   "outputs": [],
   "source": []
  }
 ],
 "metadata": {
  "kernelspec": {
   "display_name": "Python 3 (ipykernel)",
   "language": "python",
   "name": "python3"
  },
  "language_info": {
   "codemirror_mode": {
    "name": "ipython",
    "version": 3
   },
   "file_extension": ".py",
   "mimetype": "text/x-python",
   "name": "python",
   "nbconvert_exporter": "python",
   "pygments_lexer": "ipython3",
   "version": "3.11.7"
  }
 },
 "nbformat": 4,
 "nbformat_minor": 5
}
