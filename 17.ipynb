{
 "cells": [
  {
   "cell_type": "markdown",
   "id": "02797c95-d3e7-457a-b08a-a54d4f8ed99d",
   "metadata": {},
   "source": [
    "1. What is Encapsulation in Object-Oriented Programming?\n",
    "Answer: Encapsulation is a fundamental concept in object-oriented programming where the internal state of an object is hidden from the outside world. It combines data (attributes) and methods (functions) into a single unit (class) and restricts direct access to some of the object's components. Instead, access is provided through public methods, often known as getters and setters.\n",
    "\n",
    "2. Why is Encapsulation important in Python?\n",
    "Answer: Encapsulation is important in Python because it helps:\n",
    "\n",
    "    Data protection: Prevents unauthorized access to an object’s internal state.\n",
    "    Abstraction: Hides the internal workings of an object and exposes only the necessary functionality.\n",
    "    Flexibility: Provides controlled access to data, allowing you to modify the internal representation without affecting the external interface.\n",
    "    Maintainability: Makes code easier to maintain and modify by limiting the effects of changes.\n",
    "    \n",
    "\n",
    "\n",
    "3. What are getters and setters, and how do they relate to Encapsulation?\n",
    "Answer: Getters and setters are public methods used to access or modify private attributes of a class. A getter method retrieves the value of an attribute, while a setter method modifies the value. They help in maintaining control over the data by allowing validation or modification before interacting with the private data"
   ]
  },
  {
   "cell_type": "markdown",
   "id": "d26554b6-3cf7-4811-a812-70ecf16c8813",
   "metadata": {},
   "source": [
    "class Person:\n",
    "    def __init__(self, name, age):\n",
    "        self.__name = name\n",
    "        self.__age = age\n",
    "\n",
    "    def get_name(self):\n",
    "        return self.__name\n",
    "\n",
    "    def set_name(self, name):\n",
    "        if name:  # Example validation\n",
    "            self.__name = name\n",
    "\n",
    "p = Person(\"Alice\", 30)\n",
    "print(p.get_name())  # Access via getter\n",
    "p.set_name(\"Bob\")  # Modify via setter\n"
   ]
  },
  {
   "cell_type": "markdown",
   "id": "c44be935-cebc-495e-98bc-e9a07e1547ce",
   "metadata": {},
   "source": [
    "4. Can you access a private attribute directly in Python?\n",
    "Answer: No, you cannot directly access a private attribute from outside the class. Private attributes are marked with a double underscore (e.g., __attribute). However, you can access it indirectly via a public method (getter or setter) or using name mangling, which changes the name of the private attribute (e.g., _ClassName__attribute)."
   ]
  },
  {
   "cell_type": "markdown",
   "id": "1facf549-e112-42fc-828a-4d77de8f6a64",
   "metadata": {},
   "source": [
    "5. What is name mangling in Python?\n",
    "Answer: Name mangling is a technique used by Python to make the attribute or method name \"private\". Python automatically changes the name of the variable by adding a prefix with _ClassName, making it harder to accidentally access or override. For example, __name will become _Person__name."
   ]
  },
  {
   "cell_type": "markdown",
   "id": "812ada36-9504-4d0e-b487-1316dd22dede",
   "metadata": {},
   "source": [
    "6. What happens if you try to access a private variable directly outside its class?\n",
    "Answer: If you attempt to access a private variable directly outside the class, Python will raise an AttributeError because private variables are not accessible directly. However, you can use name mangling to access them, although it's not recommended."
   ]
  },
  {
   "cell_type": "markdown",
   "id": "7cec46a0-8515-4b99-983b-4ab25a66671c",
   "metadata": {},
   "source": [
    "7. How can you make an attribute or method private in Python?\n",
    "Answer: You can make an attribute or method private in Python by prefixing it with a double underscore (__). This is called name mangling, which makes it harder to access the attribute directly from outside the class."
   ]
  },
  {
   "cell_type": "markdown",
   "id": "17f55241-88f6-41f1-a17e-4fa6926eb97d",
   "metadata": {},
   "source": [
    "8. Can you access private attributes from a subclass?\n",
    "Answer: No, private attributes (those with double underscores) are not directly accessible from subclasses due to name mangling. However, protected attributes (those with a single underscore) can be accessed from subclasses, as they are intended to be inherited."
   ]
  },
  {
   "cell_type": "markdown",
   "id": "225332d6-cf3b-4273-a9c9-62288647632e",
   "metadata": {},
   "source": [
    "9. What is the benefit of using Encapsulation over directly exposing class attributes?\n",
    "Answer: The main benefits of using encapsulation over directly exposing attributes are:\n",
    "\n",
    "Control over data: You can enforce validation or transformation when setting or getting attributes.\n",
    "Data security: It prevents unauthorized access or modification of the internal state.\n",
    "Reduced complexity: The internal implementation can change without affecting external code that uses the class.\n",
    "Improved maintainability: You can modify internal attributes without breaking other parts of the program."
   ]
  },
  {
   "cell_type": "markdown",
   "id": "3882e66e-b776-4034-b370-cc0ac0ecc919",
   "metadata": {},
   "source": [
    "10. What is the difference between a private and protected attribute in Python?\n",
    "Answer:\n",
    "\n",
    "Private attributes: These are prefixed with double underscores (__) and are intended to be inaccessible from outside the class. Python uses name mangling to make them harder to access.\n",
    "Protected attributes: These are prefixed with a single underscore (_). They are intended to be used only within the class and its subclasses but can still be accessed from outside if necessary"
   ]
  },
  {
   "cell_type": "code",
   "execution_count": 6,
   "id": "ee144323-3009-47ab-af05-31045fccde34",
   "metadata": {},
   "outputs": [],
   "source": [
    "class MyClass:\n",
    "    def __init__(self):\n",
    "        self._protected_var = 20  # Protected attribute\n",
    "        self.__private_var = 30   # Private attribute\n"
   ]
  },
  {
   "cell_type": "code",
   "execution_count": null,
   "id": "e8ef2d13-edd7-4d9e-b5bb-e4392013166c",
   "metadata": {},
   "outputs": [],
   "source": []
  }
 ],
 "metadata": {
  "kernelspec": {
   "display_name": "Python 3 (ipykernel)",
   "language": "python",
   "name": "python3"
  },
  "language_info": {
   "codemirror_mode": {
    "name": "ipython",
    "version": 3
   },
   "file_extension": ".py",
   "mimetype": "text/x-python",
   "name": "python",
   "nbconvert_exporter": "python",
   "pygments_lexer": "ipython3",
   "version": "3.11.7"
  }
 },
 "nbformat": 4,
 "nbformat_minor": 5
}
