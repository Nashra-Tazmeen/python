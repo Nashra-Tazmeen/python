{
 "cells": [
  {
   "cell_type": "markdown",
   "id": "23020763-b751-403e-b026-ae7b29210643",
   "metadata": {},
   "source": [
    "Step 1: What is the Two-Pointer Technique?\n",
    "The two-pointer technique is an algorithmic approach where two pointers (often represented by two indices) are used to traverse a data structure, typically an array or a list, in a strategic manner. These pointers move through the structure either:\n",
    "\n",
    "Toward each other (e.g., from the beginning and end of an array).\n",
    "In the same direction (e.g., both moving from left to right).\n",
    "At different speeds (e.g., one pointer moving twice as fast as the other).\n",
    "\n",
    "\n",
    "\n",
    "Step 2: Why Use Two Pointers?\n",
    "The two-pointer technique can reduce the need for nested loops, making the solution much more efficient. In many problems, especially those involving arrays or lists, the two-pointer approach helps you solve problems in \n",
    "\n",
    "O(n) or  O(logn) time rather than O(n2). This efficiency boost makes it a highly valuable technique.\n",
    "\n",
    "    \n",
    "\n",
    "Step 3: How Does It Work?\n",
    "Here’s how the two-pointer technique works in different scenarios:\n",
    "\n",
    "Finding pairs: Set two pointers, left and right, at the beginning and end of a sorted array. Move left and right based on conditions (e.g., sum of elements at left and right is greater or less than a target value).\n",
    "Reversing data or partitioning: Place one pointer at each end and move them toward each other, swapping elements as needed.\n",
    "Fast and slow pointers: Use two pointers that move at different speeds, often in linked lists (e.g., to detect cycles).\n",
    "\n",
    "\n",
    "\n",
    "Step 4: Time Complexity and Efficiency\n",
    "Using two pointers often reduces time complexity from \n",
    "\n",
    "O(n2) (with nested loops) to O(n) because:\n",
    "\n",
    "Each pointer typically only traverses the array once.\n",
    "In sorted arrays or data with specific structures, we can strategically skip unnecessary comparisons by adjusting one pointer based on the position of the other.\n",
    "For example, finding a pair that sums to a target in a sorted array can be solved in \n",
    "\n",
    "O(n) using two pointers, compared to the O(n2) complexity of a brute-force approach that checks all pairs.\n",
    "\n",
    "\n",
    "\n",
    "Step 5: Key Benefits\n",
    "Optimized Performance: By moving pointers in a single pass or based on conditions, it eliminates unnecessary comparisons.\n",
    "Simplicity: Once understood, the approach is often easier to implement than recursive or heavily nested loop solutions.\n",
    "Widely Applicable: Works on a variety of data structures and problems.\n",
    "\n",
    "\n",
    "\n",
    "Step 6: Limitations\n",
    "While powerful, the two-pointer technique requires certain conditions:\n",
    "\n",
    "Sorted Data or Predictable Structure: Works best on sorted arrays or structures with a clear pattern.\n",
    "Careful Index Management: Requires managing pointers to avoid out-of-bound errors."
   ]
  },
  {
   "cell_type": "markdown",
   "id": "0b8c97cc-2252-4e21-9a34-29716643db3a",
   "metadata": {},
   "source": [
    "Beginner-Level Two-Pointer Questions\n",
    "1. Find Pair with Target Sum in a Sorted Array\n",
    "Description: Given a sorted array of integers, find two numbers that add up to a target sum.\n",
    "Example: arr = [1, 3, 4, 5, 7, 10, 11], target = 9\n",
    "2. Remove Duplicates from Sorted Array\n",
    "Description: Remove duplicates from a sorted array in place and return the length of the unique elements.\n",
    "Example: arr = [1, 1, 2, 2, 3, 4, 4, 5]\n",
    "3. Square of a Sorted Array\n",
    "Description: Given a sorted array of integers (can be negative), return a sorted array of their squares.\n",
    "Example: arr = [-4, -1, 0, 3, 10] → [0, 1, 9, 16, 100]\n",
    "4. Move Zeros to the End\n",
    "Description: Move all zeros in an array to the end while maintaining the relative order of non-zero elements.\n",
    "Example: arr = [0, 1, 0, 3, 12]\n",
    "5. Find Triplet with Target Sum\n",
    "Description: Given an array and a target sum, check if there is a triplet (three numbers) in the array that adds up to the target sum.\n",
    "Example: arr = [1, 4, 6, 8, 10], target = 15\n",
    "6. Valid Palindrome\n",
    "Description: Check if a given string is a palindrome, considering only alphanumeric characters and ignoring cases.\n",
    "Example: s = \"A man, a plan, a canal: Panama\"\n",
    "7. Container With Most Water\n",
    "Description: Given an array where each element represents the height of a vertical line, find the two lines that, together with the x-axis, form a container with the most water.\n",
    "Example: height = [1,8,6,2,5,4,8,3,7]\n",
    "8. Reverse Only Vowels of a String\n",
    "Description: Reverse only the vowels in a given string.\n",
    "Example: s = \"hello\" → \"holle\"\n",
    "9. Find Intersection of Two Sorted Arrays\n",
    "Description: Given two sorted arrays, find the intersection (common elements) of the two arrays.\n",
    "Example: arr1 = [1, 3, 4, 5], arr2 = [3, 4, 5, 6]\n",
    "10. Shortest Unsorted Continuous Subarray\n",
    "Description: Find the shortest continuous subarray that needs to be sorted for the whole array to become sorted.\n",
    "Example: arr = [2, 6, 4, 8, 10, 9, 15]\n",
    "11. Check if Array is a Palindrome\n",
    "Description: Check if a given array is a palindrome.\n",
    "Example: arr = [1, 2, 3, 2, 1]\n",
    "12. Merge Two Sorted Arrays (In Place)\n",
    "Description: Merge two sorted arrays without using extra space.\n",
    "Example: arr1 = [1, 2, 3, 0, 0, 0], arr2 = [2, 5, 6]\n",
    "13. Longest Subarray with Sum at Most K\n",
    "Description: Find the length of the longest subarray with a sum at most K.\n",
    "Example: arr = [3, 1, 2, 1, 1], K = 4\n",
    "14. Rotate Array\n",
    "Description: Rotate the elements of an array k positions to the right.\n",
    "Example: arr = [1, 2, 3, 4, 5], k = 2\n",
    "15. Maximum Number of Consecutive 1s\n",
    "Description: Given a binary array, find the maximum number of consecutive 1s.\n",
    "Example: arr = [1, 1, 0, 1, 1, 1]\n"
   ]
  },
  {
   "cell_type": "code",
   "execution_count": 1,
   "id": "a14abc03-7d3e-42d2-aeff-5637442a1f06",
   "metadata": {},
   "outputs": [
    {
     "name": "stdout",
     "output_type": "stream",
     "text": [
      "2 5\n"
     ]
    }
   ],
   "source": [
    "##1.Find Pair with Target Sum in a Sorted Array(two sum prblm)\n",
    "lst=[1,2,3,4,5]\n",
    "target=7\n",
    "start=0\n",
    "end=len(lst)-1 \n",
    "while start<end:\n",
    "    sum1=lst[start]+lst[end]\n",
    "    if sum1==target:\n",
    "        print(lst[start],lst[end])\n",
    "        break\n",
    "    elif sum1<target:\n",
    "        start+=1 \n",
    "    else:\n",
    "        end-=1\n"
   ]
  },
  {
   "cell_type": "code",
   "execution_count": 2,
   "id": "7e297e63-db0b-4914-a4c7-dc4011c375d0",
   "metadata": {},
   "outputs": [
    {
     "name": "stdout",
     "output_type": "stream",
     "text": [
      "[1, 2, 3, 4, 5]\n"
     ]
    }
   ],
   "source": [
    "##2remove duplicates form the array\n",
    "arr = [1, 1, 2, 2, 3, 4, 4, 5]##naive approach 0(n2) \n",
    "res=[]\n",
    "for i in range(len(arr)):\n",
    "    if arr[i] not in res:\n",
    "        res.append(arr[i]) \n",
    "print(res)"
   ]
  },
  {
   "cell_type": "code",
   "execution_count": 11,
   "id": "a14801a6-d788-469f-87fb-0e45c9e6283e",
   "metadata": {},
   "outputs": [
    {
     "name": "stdout",
     "output_type": "stream",
     "text": [
      "[1, 2, 3, 4, 5]\n"
     ]
    }
   ],
   "source": [
    "##two pointer approach-o(n) \n",
    "arr = [1, 1, 2, 2, 3, 4, 4, 5]  \n",
    "start=1 \n",
    "end=len(arr)\n",
    "for i in range(1,end):\n",
    "    if arr[i]!=arr[i-1]:\n",
    "        arr[start]=arr[i]\n",
    "        start+=1 \n",
    "print(arr[:start])\n",
    "\n"
   ]
  },
  {
   "cell_type": "code",
   "execution_count": 12,
   "id": "aa6de9f0-256b-4f40-9588-fc35459a3f0f",
   "metadata": {},
   "outputs": [
    {
     "name": "stdout",
     "output_type": "stream",
     "text": [
      "Sorted squares (naive approach): [0, 1, 9, 16, 100]\n"
     ]
    }
   ],
   "source": [
    "##3Square of a Sorted Array\n",
    "##naive approach\n",
    "##time comple-o(nlogn)\n",
    "def sorted_squares_naive(arr):\n",
    "    # Step 1: Square all elements\n",
    "    squared_arr = [x**2 for x in arr]\n",
    "    \n",
    "    # Step 2: Sort the squared array\n",
    "    squared_arr.sort()\n",
    "    \n",
    "    return squared_arr\n",
    "\n",
    "# Example usage:\n",
    "arr = [-4, -1, 0, 3, 10]\n",
    "result = sorted_squares_naive(arr)\n",
    "print(\"Sorted squares (naive approach):\", result)\n"
   ]
  },
  {
   "cell_type": "code",
   "execution_count": null,
   "id": "12b1acc9-cf36-421c-bec3-a2bbbfbb20ab",
   "metadata": {},
   "outputs": [],
   "source": [
    "##two pointer approach:\n",
    "\n"
   ]
  }
 ],
 "metadata": {
  "kernelspec": {
   "display_name": "Python 3 (ipykernel)",
   "language": "python",
   "name": "python3"
  },
  "language_info": {
   "codemirror_mode": {
    "name": "ipython",
    "version": 3
   },
   "file_extension": ".py",
   "mimetype": "text/x-python",
   "name": "python",
   "nbconvert_exporter": "python",
   "pygments_lexer": "ipython3",
   "version": "3.11.7"
  }
 },
 "nbformat": 4,
 "nbformat_minor": 5
}
