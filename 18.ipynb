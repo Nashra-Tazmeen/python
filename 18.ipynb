{
 "cells": [
  {
   "cell_type": "code",
   "execution_count": 12,
   "id": "d54d0d68-07b0-441f-a4ea-cf85deab437b",
   "metadata": {},
   "outputs": [
    {
     "name": "stdout",
     "output_type": "stream",
     "text": [
      "gninraeL nohtyP si nuf \n"
     ]
    }
   ],
   "source": [
    "###practice questions(strings)\n",
    "##1Write a function that takes a sentence as input and returns the sentence with the words reversed but keeps their order intact.\n",
    "def reverse_string(sentence):\n",
    "    new_str=\"\"\n",
    "    new_sen=sentence.split()\n",
    "    for word in new_sen:\n",
    "        new_str=new_str+word[::-1]+\" \" \n",
    "    return new_str  \n",
    "\n",
    "res=reverse_string(\"Learning Python is fun\")\n",
    "print(res)\n",
    "        \n",
    "    "
   ]
  },
  {
   "cell_type": "code",
   "execution_count": 18,
   "id": "829317cd-c6c6-4021-8a38-081c658b99eb",
   "metadata": {},
   "outputs": [
    {
     "name": "stdout",
     "output_type": "stream",
     "text": [
      "yes palindrome\n"
     ]
    }
   ],
   "source": [
    "str1 = \"A man, a plan, a canal: Panama\"\n",
    "str2=\"\".join(char.lower() for char in str1 if char.isalnum())\n",
    "if str2==str2[::-1]:\n",
    "    print(\"yes palindrome\")\n",
    "else:\n",
    "    print(\"not a palindrome\")\n"
   ]
  },
  {
   "cell_type": "code",
   "execution_count": 22,
   "id": "3b00cee0-980a-4e32-9488-ae0a6dd0414a",
   "metadata": {},
   "outputs": [
    {
     "name": "stdout",
     "output_type": "stream",
     "text": [
      "The first unique character in \"swiss\" is \"w\".\n"
     ]
    }
   ],
   "source": [
    "##3Identify the Unique Hero\n",
    "# Find the first character in a string that doesn’t repeat anywhere. Return -1 if no such character exists.\n",
    "# Example: \"swiss\" → \"w\"\n",
    "from collections import Counter\n",
    "\n",
    "\n",
    "def first_unique_char(s: str) -> str:\n",
    "    # Count the occurrences of each character\n",
    "    char_count = Counter(s)\n",
    "    \n",
    "    # Iterate through the string to find the first unique character\n",
    "    for char in s:\n",
    "        if char_count[char] == 1:\n",
    "            return char\n",
    "    \n",
    "    # If no unique character is found, return -1\n",
    "    return -1\n",
    "\n",
    "# Test the function\n",
    "test_str = \"swiss\"\n",
    "result = first_unique_char(test_str)\n",
    "if result != -1:\n",
    "    print(f'The first unique character in \"{test_str}\" is \"{result}\".')\n",
    "else:\n",
    "    print(f'There are no unique characters in \"{test_str}\".')\n",
    "\n"
   ]
  },
  {
   "cell_type": "code",
   "execution_count": 24,
   "id": "8f5cea0b-bb09-4f95-bd94-7ab7a44b42fb",
   "metadata": {},
   "outputs": [
    {
     "name": "stdout",
     "output_type": "stream",
     "text": [
      "{'a': 0, 'e': 0, 'i': 1, 'o': 0, 'u': 0}\n"
     ]
    }
   ],
   "source": [
    "##5Vowel Harmony\n",
    "# Write a program to count the total number of vowels in a string. Return a list of vowels and their counts.\n",
    "# Example: \"Hello World!\" → {a: 0, e: 1, i: 0, o: 2, u: 0}  \n",
    "from collections import Counter \n",
    "srt1=\"hello world\"\n",
    "vowel=\"aeiou\"\n",
    "char_count=Counter(str1.lower()) \n",
    "\n",
    "vowel_count={v:char_count[v] for v in vowel}\n",
    "print(vowel_count)\n",
    "\n",
    "\n"
   ]
  },
  {
   "cell_type": "markdown",
   "id": "cca70013-4302-4787-b470-8f5e9bff4ceb",
   "metadata": {},
   "source": [
    "5. Twin Check\n",
    "Two words are called anagrams if their letters can be rearranged to form each other. Write a function that checks if two strings are anagrams.\n",
    "Example: \"listen\" and \"silent\" → True\n",
    "\n",
    "6. Clean the Garbage\n",
    "Write a program to remove all spaces, numbers, and special characters from a string, leaving only alphabets.\n",
    "Example: \"H3ll0, W0rld!123\" → \"HllWrld\"\n",
    "\n",
    "7. Spinning Strings\n",
    "Check whether one string is a rotation of another using only one call to a substring check.\n",
    "Example: \"rotation\" and \"ationrot\" → True\n",
    "\n",
    "8. Key to Substrings\n",
    "Find all substrings in a given string that contain unique characters and return the longest one.\n",
    "Example: \"abcabcbb\" → \"abc\"\n",
    "\n",
    "9. The Frequency Game\n",
    "Find the character that occurs most frequently in a string. In case of a tie, return the first one.\n",
    "Example: \"success\" → \"s\"\n",
    "\n",
    "10. Recursive Mystery\n",
    "Reverse a string using recursion. Avoid using loops or slicing.\n",
    "Example: \"hello\" → \"olleh\"\n",
    "\n",
    "11. Subtle Subsequence\n",
    "Determine if one string is a subsequence of another. Subsequence means the characters appear in the same order, but not necessarily consecutively.\n",
    "Example: \"ace\" is a subsequence of \"abcde\" → True\n",
    "\n",
    "12. Prefix Finder\n",
    "Write a function that returns the longest common prefix of an array of strings. If there is no common prefix, return an empty string.\n",
    "Example: [\"flower\", \"flow\", \"flight\"] → \"fl\"\n",
    "\n",
    "13. Erase and Replace\n",
    "Remove all occurrences of a specified character in a string and replace it with another character.\n",
    "Example: \"hello world\" (remove 'o', replace with 'x') → \"hellx wxrld\"\n",
    "\n",
    "14. The Cipher Challenge\n",
    "Decode a run-length encoded string. For example, \"a2b3c1\" means \"aabbbc\". Write a function that performs the decoding.\n",
    "Example: \"a4b2c3\" → \"aaaabbccc\"\n",
    "\n",
    "15. Missing Alphabet Mystery\n",
    "A pangram is a sentence that contains every letter of the alphabet. Find out which letters are missing to make a string a pangram.\n",
    "Example: \"The quick brown fox jumps over the lazy dog\" → \"\" (already a pangram)\n",
    "Example: \"Hello World\" → \"abcfgijknpqstuvxz\"\n",
    "\n"
   ]
  },
  {
   "cell_type": "code",
   "execution_count": null,
   "id": "c0a45265-484f-4d5c-bc93-a3c6ead94bc2",
   "metadata": {},
   "outputs": [],
   "source": []
  }
 ],
 "metadata": {
  "kernelspec": {
   "display_name": "Python 3 (ipykernel)",
   "language": "python",
   "name": "python3"
  },
  "language_info": {
   "codemirror_mode": {
    "name": "ipython",
    "version": 3
   },
   "file_extension": ".py",
   "mimetype": "text/x-python",
   "name": "python",
   "nbconvert_exporter": "python",
   "pygments_lexer": "ipython3",
   "version": "3.11.7"
  }
 },
 "nbformat": 4,
 "nbformat_minor": 5
}
