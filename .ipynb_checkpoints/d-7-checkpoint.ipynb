{
 "cells": [
  {
   "cell_type": "markdown",
   "id": "060fd745-832a-4a6a-ac6c-7189fd4b6a0e",
   "metadata": {},
   "source": [
    "level-1"
   ]
  },
  {
   "cell_type": "markdown",
   "id": "0e6c519f-1ee5-4948-9bc2-9cacff57e544",
   "metadata": {},
   "source": [
    "1. Python has many built-in functions, and if you do not know how to use it, you can read document online or find some books. But Python has a built-in document function for every built-in functions.\n",
    "    Please write a program to print some Python built-in functions documents, such as abs(), int(), raw_input()\n",
    "    And add document for your own function\n",
    "    "
   ]
  },
  {
   "cell_type": "code",
   "execution_count": 7,
   "id": "c7d4d230-ba80-4d24-a59c-90fcc972c4e9",
   "metadata": {},
   "outputs": [
    {
     "name": "stdout",
     "output_type": "stream",
     "text": [
      "Return the absolute value of the argument.\n",
      "int([x]) -> integer\n",
      "int(x, base=10) -> integer\n",
      "\n",
      "Convert a number or string to an integer, or return 0 if no arguments\n",
      "are given.  If x is a number, return x.__int__().  For floating point\n",
      "numbers, this truncates towards zero.\n",
      "\n",
      "If x is not a number or if base is given, then x must be a string,\n",
      "bytes, or bytearray instance representing an integer literal in the\n",
      "given base.  The literal can be preceded by '+' or '-' and be surrounded\n",
      "by whitespace.  The base defaults to 10.  Valid bases are 0 and 2-36.\n",
      "Base 0 means to interpret the base from the string as an integer literal.\n",
      ">>> int('0b100', base=0)\n",
      "4\n",
      "4\n",
      "Return the square value of the input number.\n",
      "    \n",
      "    The input number must be integer.\n",
      "    \n"
     ]
    }
   ],
   "source": [
    "print(abs.__doc__)\n",
    "print (int.__doc__)\n",
    "\n",
    "\n",
    "def square(num):\n",
    "    '''Return the square value of the input number.\n",
    "    \n",
    "    The input number must be integer.\n",
    "    '''\n",
    "    return num ** 2\n",
    "\n",
    "print (square(2))\n",
    "print (square.__doc__)"
   ]
  },
  {
   "cell_type": "markdown",
   "id": "b0598039-e7b1-4077-bfc4-1c78b6ef86ff",
   "metadata": {},
   "source": [
    "class parameter:"
   ]
  },
  {
   "cell_type": "markdown",
   "id": "0f62a659-7237-4502-89a8-7348e878f197",
   "metadata": {},
   "source": [
    "1.A class parameter (also called a class variable) is shared across all instances of the class. It is defined at the class level, outside any instance methods, \n",
    "and belongs to the class itself rather than any particular object or instance.\n",
    "\n",
    "2.All instances of the class share the same value for the class parameter unless it is specifically overridden in an instance."
   ]
  },
  {
   "cell_type": "code",
   "execution_count": 12,
   "id": "1f358801-9eaf-42d0-81fb-c50540bee451",
   "metadata": {},
   "outputs": [
    {
     "name": "stdout",
     "output_type": "stream",
     "text": [
      "4\n",
      "4\n"
     ]
    }
   ],
   "source": [
    "class Car:\n",
    "    wheels = 4  # Class parameter (shared by all instances)\n",
    "\n",
    "# Creating two instances of the Car class\n",
    "car1 = Car()\n",
    "car2 = Car()\n",
    "\n",
    "print(car1.wheels)  # Output: 4\n",
    "print(car2.wheels)  # Output: 4\n"
   ]
  },
  {
   "cell_type": "markdown",
   "id": "754c33f4-1191-4d86-87e2-4ff50a1b252b",
   "metadata": {},
   "source": [
    "Instance Parameter (Instance Variable)"
   ]
  },
  {
   "cell_type": "markdown",
   "id": "ece0be48-adb0-46ad-a1c7-38e6db3dfbc8",
   "metadata": {},
   "source": [
    "1.An instance parameter (also called an instance variable) is specific to an individual object (instance) of a class. \n",
    "\n",
    "2.It is typically defined inside the __init__ method or another instance method using self.\n",
    "Each instance of the class has its own copy of the instance parameter, meaning changes to the instance variable for one object do not affect others"
   ]
  },
  {
   "cell_type": "code",
   "execution_count": null,
   "id": "885cadcf-f335-4d6d-971c-3eabdfb90372",
   "metadata": {},
   "outputs": [],
   "source": [
    "2.  Define a class, which have a class parameter and have a same instance parameter.\n",
    "    Define a instance parameter, need add it in __init__ method\n",
    "    You can init a object with construct parameter or set the value later"
   ]
  },
  {
   "cell_type": "code",
   "execution_count": 28,
   "id": "d2be2e63-1b8f-45d8-b3a4-07a265befc21",
   "metadata": {},
   "outputs": [
    {
     "name": "stdout",
     "output_type": "stream",
     "text": [
      "red\n",
      "red\n"
     ]
    }
   ],
   "source": [
    "class Car:\n",
    "    wheels = 4  # Class variable\n",
    "    \n",
    "    def __init__(self, color):\n",
    "        self.color = color  # Assigning color to the instance variable\n",
    "        print(self.color)   # Now you can access the instance variable\n",
    "\n",
    "car1 = Car(\"red\")  # This will print \"red\"\n",
    "print(car1.color)  # This will also print \"red\"\n",
    "\n"
   ]
  },
  {
   "cell_type": "markdown",
   "id": "cff7984a-c579-49b4-970b-9bde137edc47",
   "metadata": {},
   "source": [
    " 2.Define a class, which have a class parameter and have a same instance parameter."
   ]
  },
  {
   "cell_type": "code",
   "execution_count": 22,
   "id": "02e51e24-00a2-4b82-99b4-ec9ea56a3f6c",
   "metadata": {},
   "outputs": [
    {
     "name": "stdout",
     "output_type": "stream",
     "text": [
      "Person name is Jeffrey\n",
      "Person name is Nico\n"
     ]
    }
   ],
   "source": [
    "class Person: \n",
    "    # Define the class parameter of\"name\"\n",
    "    name = \"Person\" \n",
    "    \n",
    "    def __init__(self, name = None):\n",
    "        # self.name is the instance parameter \n",
    "        self.name = name \n",
    "\n",
    "jeffrey = Person(\"Jeffrey\")\n",
    "print(\"%s name is %s\" % (Person.name, jeffrey.name))\n",
    "\n",
    "nico = Person()\n",
    "nico.name = \"Nico\"\n",
    "print(\"%s name is %s\" % (Person.name, nico.name))"
   ]
  },
  {
   "cell_type": "code",
   "execution_count": 36,
   "id": "77017baf-25c6-4cbb-b31d-4aec78133f16",
   "metadata": {},
   "outputs": [
    {
     "name": "stdout",
     "output_type": "stream",
     "text": [
      "herbivorous\n",
      "carni\n"
     ]
    }
   ],
   "source": [
    "class animal:\n",
    "    type=\"herbi\" #class parameter\n",
    "    def __init__(self,type=None):\n",
    "        self.type=type\n",
    "        print(self.type)\n",
    "\n",
    "print(deer.type)\n",
    "lion=animal(\"carni\")\n",
    "\n",
    "    "
   ]
  },
  {
   "cell_type": "code",
   "execution_count": 39,
   "id": "7f20e451-988b-4bff-aad2-bc819bf70ce7",
   "metadata": {},
   "outputs": [
    {
     "name": "stdout",
     "output_type": "stream",
     "text": [
      "<class 'str'>\n"
     ]
    }
   ],
   "source": [
    "##conersting int to str type\n",
    "def num(n):\n",
    "    new_num=str(n)\n",
    "    print(type(new_num))\n",
    "\n",
    "num(4)"
   ]
  },
  {
   "cell_type": "markdown",
   "id": "7d5f6ce1-0aab-4dc0-8099-3b150c126e54",
   "metadata": {},
   "source": [
    "3.Define a function that can receive two integral numbers in string form and compute their sum and then print it in console.\n"
   ]
  },
  {
   "cell_type": "code",
   "execution_count": 48,
   "id": "6e8551fe-a45f-4c7b-9a3a-1967cc3ea62c",
   "metadata": {},
   "outputs": [
    {
     "name": "stdout",
     "output_type": "stream",
     "text": [
      "7\n"
     ]
    }
   ],
   "source": [
    "def sum(s1,s2):\n",
    "    print(int(s1)+int(s2))\n",
    "sum(\"3\",\"4\")"
   ]
  },
  {
   "cell_type": "markdown",
   "id": "169cf74f-b7b9-4376-af23-f100ded447f5",
   "metadata": {},
   "source": [
    "4.Define a function that can accept two strings as input and print the string with maximum length in console. If two strings have the same length, then the function should print al l strings line by line.\n"
   ]
  },
  {
   "cell_type": "code",
   "execution_count": 49,
   "id": "f4125000-7b59-4cea-bc95-972e161a8e31",
   "metadata": {},
   "outputs": [
    {
     "name": "stdout",
     "output_type": "stream",
     "text": [
      "three\n"
     ]
    }
   ],
   "source": [
    "def printValue(s1,s2):\n",
    "\tlen1 = len(s1)\n",
    "\tlen2 = len(s2)\n",
    "\tif len1>len2:\n",
    "\t\tprint(s1)\n",
    "\telif len2>len1:\n",
    "\t\tprint (s2)\n",
    "\telse:\n",
    "\t\tprint (s1)\n",
    "\t\tprint (s2)\n",
    "printValue(\"six\",\"three\")\n",
    "    \n",
    "    "
   ]
  },
  {
   "cell_type": "markdown",
   "id": "6aa3c47e-448b-4a31-bc4c-b43f71bf4580",
   "metadata": {},
   "source": [
    "5.Define a function which can print a dictionary where the keys are numbers between 1 and 3 (both included) and the values are square of keys"
   ]
  },
  {
   "cell_type": "code",
   "execution_count": 54,
   "id": "cba50e81-4e27-4bd6-8594-e81a8f835eee",
   "metadata": {},
   "outputs": [
    {
     "data": {
      "text/plain": [
       "{1: 1, 2: 4, 3: 9}"
      ]
     },
     "execution_count": 54,
     "metadata": {},
     "output_type": "execute_result"
    }
   ],
   "source": [
    "\n",
    "dict={i:i**2 for i in range(1,4)}\n",
    "dict\n",
    "    \n",
    "    \n",
    "   \n",
    "    \n",
    "    "
   ]
  },
  {
   "cell_type": "code",
   "execution_count": 55,
   "id": "bac08cbe-613b-4ae3-a592-4a5024f04064",
   "metadata": {},
   "outputs": [
    {
     "data": {
      "text/plain": [
       "{1: 1,\n",
       " 2: 4,\n",
       " 3: 9,\n",
       " 4: 16,\n",
       " 5: 25,\n",
       " 6: 36,\n",
       " 7: 49,\n",
       " 8: 64,\n",
       " 9: 81,\n",
       " 10: 100,\n",
       " 11: 121,\n",
       " 12: 144,\n",
       " 13: 169,\n",
       " 14: 196,\n",
       " 15: 225,\n",
       " 16: 256,\n",
       " 17: 289,\n",
       " 18: 324,\n",
       " 19: 361}"
      ]
     },
     "execution_count": 55,
     "metadata": {},
     "output_type": "execute_result"
    }
   ],
   "source": [
    "dict={i:i**2 for i in range(1,20)}\n",
    "dict"
   ]
  },
  {
   "cell_type": "markdown",
   "id": "5d0f8d9c-de41-4a36-8565-d9ff7df875de",
   "metadata": {},
   "source": [
    "6.Define a function which can generate and print a list where the values are square of numbers between 1 and 20 (both included).\n"
   ]
  },
  {
   "cell_type": "code",
   "execution_count": 104,
   "id": "77e8e2cc-838c-475b-8476-44a25b788002",
   "metadata": {},
   "outputs": [
    {
     "name": "stdout",
     "output_type": "stream",
     "text": [
      "[1, 4, 9, 16, 25]\n",
      "[225, 256, 289, 324, 361]\n",
      "[36, 49, 64, 81, 100, 121, 144, 169, 196, 225, 256, 289, 324, 361]\n"
     ]
    }
   ],
   "source": [
    "def display_list():\n",
    "    result=[]\n",
    "    for i in range(1,20):\n",
    "        result.append(i**2)\n",
    "    print(result[:5])#first five elmts\n",
    "    print(result[-5:])#last five elmts\n",
    "    print(result[5:])#except first five elmts\n",
    "\n",
    "display_list()\n",
    "       \n",
    "\n",
    "        \n"
   ]
  },
  {
   "cell_type": "markdown",
   "id": "d38052d6-6025-48eb-be86-b92fa429a417",
   "metadata": {},
   "source": [
    "7.Define a function which can generate and print a tuple where the value are square of numbers between 1 and 20 (both included). \n"
   ]
  },
  {
   "cell_type": "code",
   "execution_count": 105,
   "id": "ba558ead-8daf-4610-9a7a-3cb019396bc9",
   "metadata": {},
   "outputs": [
    {
     "ename": "TypeError",
     "evalue": "'tuple' object is not callable",
     "output_type": "error",
     "traceback": [
      "\u001b[1;31m---------------------------------------------------------------------------\u001b[0m",
      "\u001b[1;31mTypeError\u001b[0m                                 Traceback (most recent call last)",
      "Cell \u001b[1;32mIn[105], line 6\u001b[0m\n\u001b[0;32m      4\u001b[0m         result\u001b[38;5;241m.\u001b[39mappend(i\u001b[38;5;241m*\u001b[39m\u001b[38;5;241m*\u001b[39m\u001b[38;5;241m2\u001b[39m)\n\u001b[0;32m      5\u001b[0m     \u001b[38;5;28mprint\u001b[39m(\u001b[38;5;28mtuple\u001b[39m(result))\n\u001b[1;32m----> 6\u001b[0m display_list()\n",
      "Cell \u001b[1;32mIn[105], line 5\u001b[0m, in \u001b[0;36mdisplay_list\u001b[1;34m()\u001b[0m\n\u001b[0;32m      3\u001b[0m \u001b[38;5;28;01mfor\u001b[39;00m i \u001b[38;5;129;01min\u001b[39;00m \u001b[38;5;28mrange\u001b[39m(\u001b[38;5;241m1\u001b[39m,\u001b[38;5;241m20\u001b[39m):\n\u001b[0;32m      4\u001b[0m     result\u001b[38;5;241m.\u001b[39mappend(i\u001b[38;5;241m*\u001b[39m\u001b[38;5;241m*\u001b[39m\u001b[38;5;241m2\u001b[39m)\n\u001b[1;32m----> 5\u001b[0m \u001b[38;5;28mprint\u001b[39m(\u001b[38;5;28mtuple\u001b[39m(result))\n",
      "\u001b[1;31mTypeError\u001b[0m: 'tuple' object is not callable"
     ]
    }
   ],
   "source": [
    "def display_list():\n",
    "    result=[]\n",
    "    for i in range(1,20):\n",
    "        result.append(i**2)\n",
    "    print(tuple(result))\n",
    "display_list()\n",
    " "
   ]
  },
  {
   "cell_type": "markdown",
   "id": "975a1079-86da-4568-a50b-b6ff9a6122e4",
   "metadata": {},
   "source": [
    "8.With a given tuple (1,2,3,4,5,6,7,8,9,10), write a program to print the first half values in one line and the last half values in one line. \n"
   ]
  },
  {
   "cell_type": "code",
   "execution_count": 91,
   "id": "e752799a-3856-4189-a9c5-f035c3133704",
   "metadata": {},
   "outputs": [
    {
     "name": "stdout",
     "output_type": "stream",
     "text": [
      "(1, 2, 3, 4, 5)\n",
      "(6, 7, 8, 9, 10)\n"
     ]
    }
   ],
   "source": [
    "tp= (1,2,3,4,5,6,7,8,9,10)\n",
    "mid=len(tp)//2\n",
    "tp1=tp[:mid]\n",
    "tp2=tp[mid:]\n",
    "print(tp1)\n",
    "print(tp2)\n",
    "\n"
   ]
  },
  {
   "cell_type": "markdown",
   "id": "75f5544c-c19e-4649-9807-222d53821ed9",
   "metadata": {},
   "source": [
    "9.Write a program to generate and print another tuple whose values are even numbers in the given tuple (1,2,3,4,5,6,7,8,9,10). \n",
    "\n",
    "Hints:"
   ]
  },
  {
   "cell_type": "code",
   "execution_count": 113,
   "id": "002ebec5-c28a-4e5d-bb52-ae50f522de06",
   "metadata": {},
   "outputs": [
    {
     "ename": "TypeError",
     "evalue": "'tuple' object is not callable",
     "output_type": "error",
     "traceback": [
      "\u001b[1;31m---------------------------------------------------------------------------\u001b[0m",
      "\u001b[1;31mTypeError\u001b[0m                                 Traceback (most recent call last)",
      "Cell \u001b[1;32mIn[113], line 9\u001b[0m\n\u001b[0;32m      6\u001b[0m     \u001b[38;5;28;01mif\u001b[39;00m i \u001b[38;5;241m%\u001b[39m \u001b[38;5;241m2\u001b[39m \u001b[38;5;241m==\u001b[39m \u001b[38;5;241m0\u001b[39m:  \u001b[38;5;66;03m# Check if the index is even\u001b[39;00m\n\u001b[0;32m      7\u001b[0m         res\u001b[38;5;241m.\u001b[39mappend(x[i])  \u001b[38;5;66;03m# Append the value at even index\u001b[39;00m\n\u001b[1;32m----> 9\u001b[0m new\u001b[38;5;241m=\u001b[39m\u001b[38;5;28mtuple\u001b[39m(res)\n\u001b[0;32m     10\u001b[0m \u001b[38;5;28mprint\u001b[39m(new)\n",
      "\u001b[1;31mTypeError\u001b[0m: 'tuple' object is not callable"
     ]
    }
   ],
   "source": [
    "x = (1, 2, 3, 4, 5, 6, 7, 8, 9, 10)  # Tuple variable\n",
    "n = len(x)  # Length of the tuple\n",
    "res = []  # Empty list to store the result\n",
    "\n",
    "for i in range(n):\n",
    "    if i % 2 == 0:  # Check if the index is even\n",
    "        res.append(x[i])  # Append the value at even index\n",
    "\n",
    "new=tuple(res)\n",
    "print(new)\n",
    "\n"
   ]
  },
  {
   "cell_type": "markdown",
   "id": "3a9f4b59-4f67-47d7-9a0e-031ccf565822",
   "metadata": {},
   "source": [
    "10.Write a program which accepts a string as input to print \"Yes\" if the string is \"yes\" or \"YES\" or \"Yes\", otherwise print \"No\""
   ]
  },
  {
   "cell_type": "code",
   "execution_count": 115,
   "id": "ef4a4fc2-096d-4acf-a323-7a13e1dbfac4",
   "metadata": {},
   "outputs": [
    {
     "name": "stdin",
     "output_type": "stream",
     "text": [
      " yes\n"
     ]
    },
    {
     "name": "stdout",
     "output_type": "stream",
     "text": [
      "Yes\n"
     ]
    }
   ],
   "source": [
    "s=input()\n",
    "if s==\"yes\"or s==\"Yes\" or s==\"YES\":\n",
    "    print(\"Yes\")\n",
    "else:\n",
    "    print(\"no\")"
   ]
  },
  {
   "cell_type": "markdown",
   "id": "08da8b0f-22f6-4494-9c01-d46b847b1eff",
   "metadata": {},
   "source": [
    "10.Write a program which can filter even numbers in a list by using filter function. The list is: [1,2,3,4,5,6,7,8,9,10].\n",
    "\n"
   ]
  },
  {
   "cell_type": "code",
   "execution_count": 121,
   "id": "22e6447b-47c3-4ddf-8a01-4bafe4ce71f4",
   "metadata": {},
   "outputs": [
    {
     "name": "stdout",
     "output_type": "stream",
     "text": [
      "[2, 4, 6, 8, 10]\n"
     ]
    }
   ],
   "source": [
    "li = [1,2,3,4,5,6,7,8,9,10]/#with lambda function\n",
    "evenNumbers = filter(lambda x: x%2==0, li)\n",
    "print(list(evenNumbers))"
   ]
  },
  {
   "cell_type": "code",
   "execution_count": 128,
   "id": "f26b4d19-4ff2-4311-a82c-100aadd20606",
   "metadata": {},
   "outputs": [
    {
     "name": "stdout",
     "output_type": "stream",
     "text": [
      "[2, 4]\n"
     ]
    }
   ],
   "source": [
    "def even_list(li):#with regular function\n",
    "    return li%2==0\n",
    "li=[1,2,3,4,5]\n",
    "print(list(filter(even_list,li)))\n",
    "        \n",
    "    "
   ]
  },
  {
   "cell_type": "markdown",
   "id": "3ceabc13-2384-4a30-ba20-75a3e25efea9",
   "metadata": {},
   "source": [
    "11.Write a program which can map() to make a list whose elements are square of elements in [1,2,3,4,5,6,7,8,9,10]."
   ]
  },
  {
   "cell_type": "code",
   "execution_count": null,
   "id": "9ae2db5a-d3bc-4a74-91ad-7cc348c41dbb",
   "metadata": {},
   "outputs": [],
   "source": []
  }
 ],
 "metadata": {
  "kernelspec": {
   "display_name": "Python 3 (ipykernel)",
   "language": "python",
   "name": "python3"
  },
  "language_info": {
   "codemirror_mode": {
    "name": "ipython",
    "version": 3
   },
   "file_extension": ".py",
   "mimetype": "text/x-python",
   "name": "python",
   "nbconvert_exporter": "python",
   "pygments_lexer": "ipython3",
   "version": "3.11.7"
  }
 },
 "nbformat": 4,
 "nbformat_minor": 5
}
