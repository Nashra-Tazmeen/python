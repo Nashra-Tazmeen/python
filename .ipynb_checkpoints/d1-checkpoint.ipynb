{
 "cells": [
  {
   "cell_type": "code",
   "execution_count": 2,
   "id": "f6359b57-2a3a-46bf-9896-d7a3bcacc199",
   "metadata": {},
   "outputs": [
    {
     "name": "stdout",
     "output_type": "stream",
     "text": [
      "abcd\n"
     ]
    }
   ],
   "source": [
    "#1Convert a list of characters into a string\n",
    "lst=['a','b','c','d']\n",
    "str=''.join(lst)\n",
    "print(str)"
   ]
  },
  {
   "cell_type": "code",
   "execution_count": 3,
   "id": "473059e7-2fe4-4c17-b49e-eae5996c86b1",
   "metadata": {},
   "outputs": [
    {
     "name": "stdout",
     "output_type": "stream",
     "text": [
      "1\n"
     ]
    }
   ],
   "source": [
    "#2print the index of the list\n",
    "lst=[1,2,3]\n",
    "print(lst.index(2))"
   ]
  },
  {
   "cell_type": "code",
   "execution_count": 4,
   "id": "4510597b-77fc-45a2-ac36-0b61e5c43dae",
   "metadata": {},
   "outputs": [
    {
     "name": "stdout",
     "output_type": "stream",
     "text": [
      "[2, 4, 3, 1, 5, 6, 9, 7, 9, 0]\n"
     ]
    }
   ],
   "source": [
    "#3Flatten a shallow list\n",
    "a=[[2, 4, 3], [1, 5, 6], [9], [7, 9, 0]]\n",
    "res=[j for i in a for j in i]\n",
    "print(res)"
   ]
  },
  {
   "cell_type": "code",
   "execution_count": 6,
   "id": "1b8c1ec4-1f61-4524-9830-c84cd69f4279",
   "metadata": {},
   "outputs": [
    {
     "name": "stdout",
     "output_type": "stream",
     "text": [
      "[1, 2, 3, 4, 3, 4, 5, 8]\n"
     ]
    }
   ],
   "source": [
    "#4 append a list into second list \n",
    "list1=[1,2,3,4]\n",
    "list2=[3,4,5,8]\n",
    "print(list1+list2)"
   ]
  },
  {
   "cell_type": "code",
   "execution_count": 12,
   "id": "3155ff5b-2f06-4c38-b03d-67b7aa0ed605",
   "metadata": {},
   "outputs": [
    {
     "name": "stdout",
     "output_type": "stream",
     "text": [
      "4\n"
     ]
    }
   ],
   "source": [
    "#5 select an item randomly form list \n",
    "import random\n",
    "list1=[1,2,3,4]\n",
    "print(random.choice(list1))"
   ]
  },
  {
   "cell_type": "code",
   "execution_count": null,
   "id": "83a3e4b1-f159-45ee-b2f4-96080bafb15a",
   "metadata": {},
   "outputs": [],
   "source": [
    "# two list are circular or not\n",
    "list1 = [10, 10, 0, 0, 10]\n",
    "list2 = [10, 10, 10, 0, 0]\n",
    "n=len(list1)\n",
    "for i in range(len(list1)):\n",
    "    if list1[i:n]==list2"
   ]
  },
  {
   "cell_type": "code",
   "execution_count": 6,
   "id": "044c41d5-7063-48f8-95d0-bdded3ba8063",
   "metadata": {},
   "outputs": [
    {
     "name": "stdout",
     "output_type": "stream",
     "text": [
      "2\n"
     ]
    }
   ],
   "source": [
    "#7 second smallest number in the array \n",
    "lst=[2,3,4,5,1]\n",
    "new_lst=sorted(lst)\n",
    "print(new_lst[1])\n"
   ]
  },
  {
   "cell_type": "code",
   "execution_count": 8,
   "id": "ed937bbc-abbc-4583-a2c0-3bce5342f60f",
   "metadata": {},
   "outputs": [
    {
     "name": "stdout",
     "output_type": "stream",
     "text": [
      "5\n"
     ]
    }
   ],
   "source": [
    "#8second largest number in the list \n",
    "lst=[3,4,5,6,1,2]\n",
    "new_lst=sorted(lst)\n",
    "print(new_lst[-2])"
   ]
  },
  {
   "cell_type": "code",
   "execution_count": 9,
   "id": "a3ee7156-c2d1-40a7-88e3-33b1ab009af7",
   "metadata": {},
   "outputs": [
    {
     "name": "stdout",
     "output_type": "stream",
     "text": [
      "[1, 3, 4, 5, 6]\n"
     ]
    }
   ],
   "source": [
    "#9 unique values from a list \n",
    "lst=[3,3,4,5,6,1,3,4]\n",
    "new_lst=set(lst) \n",
    "print(list(new_lst))\n"
   ]
  },
  {
   "cell_type": "code",
   "execution_count": 10,
   "id": "71371bf3-b3bf-474a-b39c-4eb7766dd2ad",
   "metadata": {},
   "outputs": [
    {
     "name": "stdout",
     "output_type": "stream",
     "text": [
      "{0: 1, 1: 1, 2: 1, 3: 1, 4: 1, 5: 1, 6: 1, 7: 1}\n"
     ]
    }
   ],
   "source": [
    "#10.frequency of elements in the list \n",
    "lst=[1,2,3,2,1,4,5,6]\n",
    "dict={} \n",
    "for i in range(len(lst)):\n",
    "    if i not in dict:\n",
    "        dict[i]=1 \n",
    "    else:\n",
    "        dict[i]+=1  \n",
    "print(dict)\n",
    "\n"
   ]
  },
  {
   "cell_type": "code",
   "execution_count": 15,
   "id": "9eb2020b-8889-409a-a4d3-5db6cce97932",
   "metadata": {},
   "outputs": [
    {
     "name": "stdout",
     "output_type": "stream",
     "text": [
      "[12, 15, 20]\n",
      "number of elements within the given range 3\n"
     ]
    }
   ],
   "source": [
    "#11.number of elements within the given range of elements \n",
    "def count_elements_range(lower,upper,my_list):\n",
    "    res=[i for i in my_list if lower<=i<=upper]\n",
    "    return res\n",
    "my_list = [1, 5, 8, 12, 15, 20, 25]\n",
    "lower = 10\n",
    "upper = 20 \n",
    "result=count_elements_range(lower,upper,my_list)\n",
    "print(result)\n",
    "print(f\"number of elements within the given range\",len(result))\n"
   ]
  },
  {
   "cell_type": "code",
   "execution_count": 21,
   "id": "c6c5c23d-c8ee-4b0e-a5f9-98de5570d095",
   "metadata": {},
   "outputs": [
    {
     "name": "stdout",
     "output_type": "stream",
     "text": [
      "NO\n"
     ]
    }
   ],
   "source": [
    "#12 check whether list contains sublist or not \n",
    "lst=[12,34,1,2,4]\n",
    "lst1=[1,2,4] \n",
    "n=len(lst)\n",
    "m=len(lst1)   \n",
    "for i in range(n):\n",
    "    if lst[i:i+m]==lst1:\n",
    "        print(\"YES\")\n",
    "        break\n",
    "else:\n",
    "    print(\"NO\")\n",
    "        \n",
    "    \n"
   ]
  },
  {
   "cell_type": "markdown",
   "id": "4434148d-ce5b-4cc4-a757-2442390936d1",
   "metadata": {},
   "source": [
    "Sublists\n",
    "Definition: Contiguous sequences of elements from a list.\n",
    "Order: Must maintain the original order of elements.\n",
    "Example: For the list [1, 2, 3], possible sublists include [1], [2], [3], [1, 2], [2, 3], and [1, 2, 3].\n",
    "Formula: None (obtained through direct slicing).\n",
    "Context of Use: Useful for extracting continuous segments of a list.\n",
    "\n",
    "Permutations\n",
    "Definition: Arrangements of elements in a specific order.\n",
    "Order: Order matters; different arrangements count as different permutations.\n",
    "Example: For the list [1, 2], the permutations are [1, 2] and [2, 1].\n",
    "Context of Use: Useful when order is important (e.g., arranging books).\n",
    "\n",
    "\n",
    "Combinations\n",
    "Definition: Selections of elements without regard to order.\n",
    "Order: Order does not matter; different arrangements count as the same combination.\n",
    "Example: For the list [1, 2], the combination is just [1, 2].\n",
    "Context of Use: Useful when order is not important (e.g., forming teams).\n"
   ]
  },
  {
   "cell_type": "code",
   "execution_count": 26,
   "id": "140a2e34-22b5-4a07-b9a3-26b7549c10f0",
   "metadata": {},
   "outputs": [
    {
     "name": "stdout",
     "output_type": "stream",
     "text": [
      "[('a', 'b', 'c'), ('a', 'c', 'b'), ('b', 'a', 'c'), ('b', 'c', 'a'), ('c', 'a', 'b'), ('c', 'b', 'a')]\n"
     ]
    }
   ],
   "source": [
    "#1 permutation\n",
    "import itertools\n",
    "str='abc'\n",
    "res=itertools.permutations(str)\n",
    "print(list(res))"
   ]
  },
  {
   "cell_type": "code",
   "execution_count": 27,
   "id": "9994fb47-b4de-4284-93c6-9aa39060eaa5",
   "metadata": {},
   "outputs": [
    {
     "ename": "TypeError",
     "evalue": "combinations() missing required argument 'r' (pos 2)",
     "output_type": "error",
     "traceback": [
      "\u001b[1;31m---------------------------------------------------------------------------\u001b[0m",
      "\u001b[1;31mTypeError\u001b[0m                                 Traceback (most recent call last)",
      "Cell \u001b[1;32mIn[27], line 4\u001b[0m\n\u001b[0;32m      2\u001b[0m \u001b[38;5;28;01mimport\u001b[39;00m \u001b[38;5;21;01mitertools\u001b[39;00m\n\u001b[0;32m      3\u001b[0m \u001b[38;5;28mstr\u001b[39m\u001b[38;5;241m=\u001b[39m\u001b[38;5;124m'\u001b[39m\u001b[38;5;124mabc\u001b[39m\u001b[38;5;124m'\u001b[39m\n\u001b[1;32m----> 4\u001b[0m res\u001b[38;5;241m=\u001b[39mitertools\u001b[38;5;241m.\u001b[39mcombinations(\u001b[38;5;28mstr\u001b[39m)\n\u001b[0;32m      5\u001b[0m \u001b[38;5;28mprint\u001b[39m(\u001b[38;5;28mlist\u001b[39m(res))\n",
      "\u001b[1;31mTypeError\u001b[0m: combinations() missing required argument 'r' (pos 2)"
     ]
    }
   ],
   "source": [
    "#2combinations :\n",
    "import itertools\n",
    "str='abc'\n",
    "res=itertools.combinations(str)\n",
    "print(list(res))"
   ]
  },
  {
   "cell_type": "code",
   "execution_count": 42,
   "id": "0e2e3c7c-3165-49bf-afde-be67382d436c",
   "metadata": {},
   "outputs": [
    {
     "name": "stdout",
     "output_type": "stream",
     "text": [
      "[[1], [1, 2], [1, 2, 4], [1, 2, 4, 3], [2], [2, 4], [2, 4, 3], [4], [4, 3], [3]]\n"
     ]
    }
   ],
   "source": [
    "#3 sublists of a list\n",
    "lst=[1,2,4,3]\n",
    "res=[]\n",
    "n=len(lst) u\n",
    "for i in range(n):\n",
    "    for j in range(i+1,n+1):\n",
    "        res.append(lst[i:j]) \n",
    "print(res)\n",
    "        \n",
    "\n"
   ]
  },
  {
   "cell_type": "code",
   "execution_count": 39,
   "id": "ed0815f9-8251-4416-a9c0-1e8709a1a51c",
   "metadata": {},
   "outputs": [
    {
     "name": "stdout",
     "output_type": "stream",
     "text": [
      "{'age': [3, 5, 2], 'd': 6, 'name': ['a', 'c', 'd']}\n"
     ]
    }
   ],
   "source": [
    "#Create a dictionary, add elements to it, modify an element, and then print the dictionary in alphabetical order of keys.\n",
    "my_dict = {'name': ['a', 'c', 'd'], 'age': [3, 5, 2]}\n",
    "\n",
    "# Add a new key-value pair\n",
    "my_dict['d'] = 6\n",
    "\n",
    "# Create a new dictionary with sorted keys (alphabetical order)\n",
    "dict1 = {key: my_dict[key] for key in sorted(my_dict)}\n",
    "\n",
    "print(dict1)\n",
    "\n"
   ]
  },
  {
   "cell_type": "code",
   "execution_count": null,
   "id": "70a3a1a6-1269-4ec0-bcc7-48dea6fda5db",
   "metadata": {},
   "outputs": [],
   "source": []
  }
 ],
 "metadata": {
  "kernelspec": {
   "display_name": "Python 3 (ipykernel)",
   "language": "python",
   "name": "python3"
  },
  "language_info": {
   "codemirror_mode": {
    "name": "ipython",
    "version": 3
   },
   "file_extension": ".py",
   "mimetype": "text/x-python",
   "name": "python",
   "nbconvert_exporter": "python",
   "pygments_lexer": "ipython3",
   "version": "3.11.7"
  }
 },
 "nbformat": 4,
 "nbformat_minor": 5
}
