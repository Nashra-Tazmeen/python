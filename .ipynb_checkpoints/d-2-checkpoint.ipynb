{
 "cells": [
  {
   "cell_type": "markdown",
   "id": "602541d7-5f2c-4669-ab5f-9ef3cdfd6067",
   "metadata": {},
   "source": [
    "Pandas"
   ]
  },
  {
   "cell_type": "markdown",
   "id": "7549b50b-f2c1-4885-9ddb-114cfb58988e",
   "metadata": {},
   "source": [
    "1.Creating DataFrames"
   ]
  },
  {
   "cell_type": "code",
   "execution_count": 48,
   "id": "c3196fd8-2ca2-432d-b58c-27190ade291a",
   "metadata": {},
   "outputs": [
    {
     "data": {
      "text/html": [
       "<div>\n",
       "<style scoped>\n",
       "    .dataframe tbody tr th:only-of-type {\n",
       "        vertical-align: middle;\n",
       "    }\n",
       "\n",
       "    .dataframe tbody tr th {\n",
       "        vertical-align: top;\n",
       "    }\n",
       "\n",
       "    .dataframe thead th {\n",
       "        text-align: right;\n",
       "    }\n",
       "</style>\n",
       "<table border=\"1\" class=\"dataframe\">\n",
       "  <thead>\n",
       "    <tr style=\"text-align: right;\">\n",
       "      <th></th>\n",
       "      <th>name</th>\n",
       "      <th>age</th>\n",
       "      <th>dep</th>\n",
       "    </tr>\n",
       "  </thead>\n",
       "  <tbody>\n",
       "    <tr>\n",
       "      <th>0</th>\n",
       "      <td>rani</td>\n",
       "      <td>21</td>\n",
       "      <td>cse</td>\n",
       "    </tr>\n",
       "    <tr>\n",
       "      <th>1</th>\n",
       "      <td>laxmi</td>\n",
       "      <td>19</td>\n",
       "      <td>ece</td>\n",
       "    </tr>\n",
       "    <tr>\n",
       "      <th>2</th>\n",
       "      <td>tina</td>\n",
       "      <td>20</td>\n",
       "      <td>cse</td>\n",
       "    </tr>\n",
       "  </tbody>\n",
       "</table>\n",
       "</div>"
      ],
      "text/plain": [
       "    name  age  dep\n",
       "0   rani   21  cse\n",
       "1  laxmi   19  ece\n",
       "2   tina   20  cse"
      ]
     },
     "execution_count": 48,
     "metadata": {},
     "output_type": "execute_result"
    }
   ],
   "source": [
    "#1.From dic of list\n",
    "import pandas as pd\n",
    "data={'name':['rani','laxmi','tina'],'age':[21,19,20],'dep':['cse','ece','cse']}\n",
    "df1=pd.DataFrame(data)\n",
    "df1\n"
   ]
  },
  {
   "cell_type": "code",
   "execution_count": 49,
   "id": "1b099721-d40d-461f-b1e4-05a8537eceae",
   "metadata": {},
   "outputs": [
    {
     "data": {
      "text/html": [
       "<div>\n",
       "<style scoped>\n",
       "    .dataframe tbody tr th:only-of-type {\n",
       "        vertical-align: middle;\n",
       "    }\n",
       "\n",
       "    .dataframe tbody tr th {\n",
       "        vertical-align: top;\n",
       "    }\n",
       "\n",
       "    .dataframe thead th {\n",
       "        text-align: right;\n",
       "    }\n",
       "</style>\n",
       "<table border=\"1\" class=\"dataframe\">\n",
       "  <thead>\n",
       "    <tr style=\"text-align: right;\">\n",
       "      <th></th>\n",
       "      <th>name</th>\n",
       "      <th>age</th>\n",
       "      <th>dep</th>\n",
       "    </tr>\n",
       "  </thead>\n",
       "  <tbody>\n",
       "    <tr>\n",
       "      <th>0</th>\n",
       "      <td>rani</td>\n",
       "      <td>22</td>\n",
       "      <td>cse</td>\n",
       "    </tr>\n",
       "    <tr>\n",
       "      <th>1</th>\n",
       "      <td>tiya</td>\n",
       "      <td>14</td>\n",
       "      <td>ece</td>\n",
       "    </tr>\n",
       "  </tbody>\n",
       "</table>\n",
       "</div>"
      ],
      "text/plain": [
       "   name  age  dep\n",
       "0  rani   22  cse\n",
       "1  tiya   14  ece"
      ]
     },
     "execution_count": 49,
     "metadata": {},
     "output_type": "execute_result"
    }
   ],
   "source": [
    "#2.from list of dic\n",
    "import pandas as pd\n",
    "data=[{'name':'rani','age':22,'dep':'cse'},{'name':'tiya','age':14,'dep':'ece'}]\n",
    "df2=pd.DataFrame(data)\n",
    "df2"
   ]
  },
  {
   "cell_type": "code",
   "execution_count": null,
   "id": "338e1c8e-a036-4b21-a9bd-a9ca574ee455",
   "metadata": {},
   "outputs": [],
   "source": [
    "#3.from csv files\n",
    "df3=pd.read_csv(\"\")"
   ]
  },
  {
   "cell_type": "markdown",
   "id": "095eebf2-b4e0-49e9-a785-44b715497999",
   "metadata": {},
   "source": [
    "2.Indexinga and selecting data"
   ]
  },
  {
   "cell_type": "code",
   "execution_count": 51,
   "id": "5d8179c1-5251-43fa-86b9-267cad74108c",
   "metadata": {},
   "outputs": [
    {
     "name": "stdout",
     "output_type": "stream",
     "text": [
      "0     rani\n",
      "1    laxmi\n",
      "2     tina\n",
      "Name: name, dtype: object\n",
      "\n",
      "\n",
      "    name  age\n",
      "0   rani   21\n",
      "1  laxmi   19\n",
      "2   tina   20\n",
      "\n",
      "\n",
      "   name  age  dep\n",
      "0  rani   22  cse\n",
      "\n",
      "\n",
      "name    laxmi\n",
      "age        19\n",
      "dep       ece\n",
      "Name: 1, dtype: object\n",
      "\n",
      "\n",
      "    name  age  dep\n",
      "0   rani   21  cse\n",
      "1  laxmi   19  ece\n"
     ]
    }
   ],
   "source": [
    "#select specfic column\n",
    "print( df1['name'])\n",
    "print(\"\\n\")\n",
    "#select multiple columns\n",
    "print(df1[['name','age']])\n",
    "print(\"\\n\")\n",
    "#filter row based on condition\n",
    "print(df[df['age']>20])\n",
    "print(\"\\n\")\n",
    "##select rows based on indexing\n",
    "print(df1.loc[1])\n",
    "print(\"\\n\")\n",
    "##index rows based on positional indexing\n",
    "print(df1.iloc[0:2])"
   ]
  },
  {
   "cell_type": "markdown",
   "id": "c66a3016-aa3a-49e0-be34-861aca415156",
   "metadata": {},
   "source": [
    "3.Data cleaning"
   ]
  },
  {
   "cell_type": "code",
   "execution_count": 52,
   "id": "c061b77e-bb40-4e19-9209-694743cb17f9",
   "metadata": {},
   "outputs": [
    {
     "ename": "SyntaxError",
     "evalue": "incomplete input (1058002066.py, line 8)",
     "output_type": "error",
     "traceback": [
      "\u001b[1;36m  Cell \u001b[1;32mIn[52], line 8\u001b[1;36m\u001b[0m\n\u001b[1;33m    \u001b[0m\n\u001b[1;37m    ^\u001b[0m\n\u001b[1;31mSyntaxError\u001b[0m\u001b[1;31m:\u001b[0m incomplete input\n"
     ]
    }
   ],
   "source": [
    "##handling missing data\n",
    "df.fillna(0)\n",
    "df.dropna()\n",
    "##remove duplicates rows\n",
    "df.drop_duplicates()\n",
    "##replace values\n",
    "df.replace({'old_val':'new_val'}\n",
    "           "
   ]
  },
  {
   "cell_type": "markdown",
   "id": "0690977f-60a1-444f-8394-c62ef580b221",
   "metadata": {},
   "source": [
    "4.Aggregation and grouping "
   ]
  },
  {
   "cell_type": "code",
   "execution_count": 53,
   "id": "0b50ecfb-70cf-4a92-9dc1-4f035d9d65d0",
   "metadata": {},
   "outputs": [
    {
     "name": "stdout",
     "output_type": "stream",
     "text": [
      "20.0\n",
      "60\n",
      "3\n"
     ]
    }
   ],
   "source": [
    "#Calculate mean, sum, count:\n",
    "print(df1['age'].mean())\n",
    "print(df1['age'].sum())\n",
    "print(df1['age'].count())\n"
   ]
  },
  {
   "cell_type": "code",
   "execution_count": 56,
   "id": "8dbd661a-8291-4fea-9eda-244dd11c215d",
   "metadata": {},
   "outputs": [
    {
     "name": "stderr",
     "output_type": "stream",
     "text": [
      "C:\\Users\\UZMA\\AppData\\Local\\Temp\\ipykernel_24880\\3062097823.py:2: FutureWarning: The default value of numeric_only in DataFrameGroupBy.mean is deprecated. In a future version, numeric_only will default to False. Either specify numeric_only or select only columns which should be valid for the function.\n",
      "  df1.groupby('dep').mean()\n"
     ]
    },
    {
     "data": {
      "text/html": [
       "<div>\n",
       "<style scoped>\n",
       "    .dataframe tbody tr th:only-of-type {\n",
       "        vertical-align: middle;\n",
       "    }\n",
       "\n",
       "    .dataframe tbody tr th {\n",
       "        vertical-align: top;\n",
       "    }\n",
       "\n",
       "    .dataframe thead th {\n",
       "        text-align: right;\n",
       "    }\n",
       "</style>\n",
       "<table border=\"1\" class=\"dataframe\">\n",
       "  <thead>\n",
       "    <tr style=\"text-align: right;\">\n",
       "      <th></th>\n",
       "      <th>age</th>\n",
       "    </tr>\n",
       "    <tr>\n",
       "      <th>dep</th>\n",
       "      <th></th>\n",
       "    </tr>\n",
       "  </thead>\n",
       "  <tbody>\n",
       "    <tr>\n",
       "      <th>cse</th>\n",
       "      <td>20.5</td>\n",
       "    </tr>\n",
       "    <tr>\n",
       "      <th>ece</th>\n",
       "      <td>19.0</td>\n",
       "    </tr>\n",
       "  </tbody>\n",
       "</table>\n",
       "</div>"
      ],
      "text/plain": [
       "      age\n",
       "dep      \n",
       "cse  20.5\n",
       "ece  19.0"
      ]
     },
     "execution_count": 56,
     "metadata": {},
     "output_type": "execute_result"
    }
   ],
   "source": [
    "#Group by columns and aggregate:\n",
    "df1.groupby('dep').mean()"
   ]
  },
  {
   "cell_type": "markdown",
   "id": "b90fba26-7e80-40bd-aef4-4cf9b8ee437a",
   "metadata": {},
   "source": [
    "5.Merging and joing"
   ]
  },
  {
   "cell_type": "code",
   "execution_count": 3,
   "id": "53230439-0a33-46e9-8099-8fe16b3591c4",
   "metadata": {},
   "outputs": [
    {
     "data": {
      "text/html": [
       "<div>\n",
       "<style scoped>\n",
       "    .dataframe tbody tr th:only-of-type {\n",
       "        vertical-align: middle;\n",
       "    }\n",
       "\n",
       "    .dataframe tbody tr th {\n",
       "        vertical-align: top;\n",
       "    }\n",
       "\n",
       "    .dataframe thead th {\n",
       "        text-align: right;\n",
       "    }\n",
       "</style>\n",
       "<table border=\"1\" class=\"dataframe\">\n",
       "  <thead>\n",
       "    <tr style=\"text-align: right;\">\n",
       "      <th></th>\n",
       "      <th>Name</th>\n",
       "      <th>Age</th>\n",
       "      <th>Height</th>\n",
       "    </tr>\n",
       "  </thead>\n",
       "  <tbody>\n",
       "    <tr>\n",
       "      <th>0</th>\n",
       "      <td>Alice</td>\n",
       "      <td>25</td>\n",
       "      <td>165</td>\n",
       "    </tr>\n",
       "  </tbody>\n",
       "</table>\n",
       "</div>"
      ],
      "text/plain": [
       "    Name  Age  Height\n",
       "0  Alice   25     165"
      ]
     },
     "execution_count": 3,
     "metadata": {},
     "output_type": "execute_result"
    }
   ],
   "source": [
    "#merge two dataframes\n",
    "a = pd.DataFrame({'Name': ['Alice', 'Bob'], 'Age': [25, 30]})\n",
    "b = pd.DataFrame({'Name': ['Alice', 'Charlie'], 'Height': [165, 175]})\n",
    "merged_df = pd.merge(a, b, on='Name')\n",
    "merged_df"
   ]
  },
  {
   "cell_type": "code",
   "execution_count": 7,
   "id": "e7d3c45c-df03-4ca8-a5fa-8426b06efff4",
   "metadata": {},
   "outputs": [
    {
     "name": "stdout",
     "output_type": "stream",
     "text": [
      "    Name  Age  Height\n",
      "0  Alice   25   165.0\n",
      "1    Bob   30     NaN\n",
      "\n",
      "\n",
      "      Name   Age  Height\n",
      "0    Alice  25.0     165\n",
      "1  Charlie   NaN     175\n"
     ]
    }
   ],
   "source": [
    "#perform left and right join\n",
    "import pandas as pd\n",
    "left_join = pd.merge(a, b,on='Name', how='left')\n",
    "right_join = pd.merge(a, b, on='Name', how='right')\n",
    "print(left_join)\n",
    "print(\"\\n\")\n",
    "print(right_join)\n"
   ]
  },
  {
   "cell_type": "markdown",
   "id": "fd5cb56e-b347-4842-b9f6-71547d6df66f",
   "metadata": {},
   "source": [
    "II.Numpy"
   ]
  },
  {
   "cell_type": "code",
   "execution_count": 9,
   "id": "f6309532-dac3-49a0-b611-34041f74c2d1",
   "metadata": {},
   "outputs": [
    {
     "data": {
      "text/plain": [
       "array([ 1,  2,  3,  4,  5,  6,  7,  8,  9, 10])"
      ]
     },
     "execution_count": 9,
     "metadata": {},
     "output_type": "execute_result"
    }
   ],
   "source": [
    "1##creating numpy arrays\n",
    "import numpy as np\n",
    "arr=np.arange(1,11)\n",
    "arr"
   ]
  },
  {
   "cell_type": "code",
   "execution_count": 10,
   "id": "891a8bb8-06df-42ef-b69b-c5c4360d3eee",
   "metadata": {},
   "outputs": [
    {
     "data": {
      "text/plain": [
       "array([[4, 1, 6],\n",
       "       [8, 1, 3],\n",
       "       [4, 9, 0]])"
      ]
     },
     "execution_count": 10,
     "metadata": {},
     "output_type": "execute_result"
    }
   ],
   "source": [
    "2#creating 2d array\n",
    "arr=np.random.randint(0,10,size=(3,3))\n",
    "arr"
   ]
  },
  {
   "cell_type": "code",
   "execution_count": 15,
   "id": "fba5e703-8a84-4d9f-ab80-619ae1570371",
   "metadata": {},
   "outputs": [
    {
     "data": {
      "text/plain": [
       "array([0, 1, 2])"
      ]
     },
     "execution_count": 15,
     "metadata": {},
     "output_type": "execute_result"
    }
   ],
   "source": [
    "3#array indexing\n",
    "arr=np.arange(0,11)\n",
    "first_thr_index=arr[:3]\n",
    "first_thr_index"
   ]
  },
  {
   "cell_type": "code",
   "execution_count": 21,
   "id": "f88f1b0b-fc9a-42e2-9b8c-0f616da7f345",
   "metadata": {},
   "outputs": [
    {
     "data": {
      "text/plain": [
       "array([[1, 2],\n",
       "       [4, 5]])"
      ]
     },
     "execution_count": 21,
     "metadata": {},
     "output_type": "execute_result"
    }
   ],
   "source": [
    "4#array slicing\n",
    "arr=np.array([[1,2,3],[4,5,6],[6,7,8]])\n",
    "subarray=arr[:2,:2]\n",
    "subarray\n",
    "             "
   ]
  },
  {
   "cell_type": "code",
   "execution_count": 22,
   "id": "ecaff1a5-4158-4249-a33a-38a894e5735a",
   "metadata": {},
   "outputs": [
    {
     "name": "stdout",
     "output_type": "stream",
     "text": [
      "Addition: [5 7 9]\n",
      "Subtraction: [-3 -3 -3]\n",
      "Multiplication: [ 4 10 18]\n",
      "Division: [0.25 0.4  0.5 ]\n"
     ]
    }
   ],
   "source": [
    "5#Basic arthemetic operations\n",
    "import numpy as np\n",
    "\n",
    "arr1 = np.array([1, 2, 3])\n",
    "arr2 = np.array([4, 5, 6])\n",
    "\n",
    "print(\"Addition:\", arr1 + arr2)\n",
    "print(\"Subtraction:\", arr1 - arr2)\n",
    "print(\"Multiplication:\", arr1 * arr2)\n",
    "print(\"Division:\", arr1 / arr2)\n",
    "\n",
    "\n"
   ]
  },
  {
   "cell_type": "code",
   "execution_count": 24,
   "id": "1a5eeecb-9566-4b52-a666-109fd7687472",
   "metadata": {},
   "outputs": [
    {
     "data": {
      "text/plain": [
       "array([[ 0,  1,  2,  3],\n",
       "       [ 4,  5,  6,  7],\n",
       "       [ 8,  9, 10, 11]])"
      ]
     },
     "execution_count": 24,
     "metadata": {},
     "output_type": "execute_result"
    }
   ],
   "source": [
    "6#Array reshaping:\n",
    "arr=np.arange(12)\n",
    "res_arr=arr.reshape(3,4)\n",
    "res_arr\n"
   ]
  },
  {
   "cell_type": "code",
   "execution_count": 26,
   "id": "a7cf7594-ee24-45cc-947b-bde881a424b2",
   "metadata": {},
   "outputs": [
    {
     "data": {
      "text/plain": [
       "array([2, 4, 6, 8])"
      ]
     },
     "execution_count": 26,
     "metadata": {},
     "output_type": "execute_result"
    }
   ],
   "source": [
    "7#Boolean indexing:\n",
    "arr=np.array([1,2,3,4,5,6,7,8])\n",
    "even_index=arr[arr%2==0]\n",
    "even_index"
   ]
  },
  {
   "cell_type": "code",
   "execution_count": 29,
   "id": "043c0018-8c8a-4980-a765-b5dae9197cc7",
   "metadata": {},
   "outputs": [
    {
     "data": {
      "text/plain": [
       "array([[ 2,  4,  6],\n",
       "       [ 4,  6,  8],\n",
       "       [ 7,  9, 11]])"
      ]
     },
     "execution_count": 29,
     "metadata": {},
     "output_type": "execute_result"
    }
   ],
   "source": [
    "#8Broadcasting:\n",
    "\n",
    "arr1=np.array([[1,2,3],[3,4,5],[6,7,8]])\n",
    "arr2=np.array([1,2,3])\n",
    "result=arr1+arr2\n",
    "result\n",
    "\n"
   ]
  },
  {
   "cell_type": "code",
   "execution_count": 33,
   "id": "6132e9b7-916e-4c09-9e41-e79db3d1c137",
   "metadata": {
    "scrolled": true
   },
   "outputs": [
    {
     "name": "stdout",
     "output_type": "stream",
     "text": [
      "[[1 2 3]\n",
      " [1 2 3]]\n",
      "\n",
      "\n",
      "[1 2 3 1 2 3]\n"
     ]
    }
   ],
   "source": [
    "#9stacking arrays:\n",
    "arr1=np.array([1,2,3])\n",
    "arr2=np.array([1,2,3])\n",
    "result1=np.vstack((arr1,arr2))\n",
    "print(result1)\n",
    "print(\"\\n\")\n",
    "result2=np.hstack((arr1,arr2))\n",
    "print(result2)\n",
    "\n"
   ]
  },
  {
   "cell_type": "code",
   "execution_count": 36,
   "id": "42716c10-e043-46a3-9ae6-fe69c9108f29",
   "metadata": {},
   "outputs": [
    {
     "name": "stdout",
     "output_type": "stream",
     "text": [
      "[[ 7 10]\n",
      " [15 22]]\n"
     ]
    }
   ],
   "source": [
    "#10.linear algebra operations\n",
    "import numpy as np\n",
    "\n",
    "arr1 = np.array([[1, 2], [3, 4]])\n",
    "arr2 = np.array([[1, 2], [3, 4]])\n",
    "\n",
    "dot_product = np.dot(arr1, arr2)\n",
    "print(dot_product)\n",
    "\n"
   ]
  },
  {
   "cell_type": "code",
   "execution_count": 38,
   "id": "ecc69d0d-d9f0-4464-8ecf-5d505ee7e68a",
   "metadata": {},
   "outputs": [
    {
     "data": {
      "text/plain": [
       "array([[1, 4],\n",
       "       [2, 5],\n",
       "       [3, 6]])"
      ]
     },
     "execution_count": 38,
     "metadata": {},
     "output_type": "execute_result"
    }
   ],
   "source": [
    "#11.matrix transposition:\n",
    "arr=np.array([[1,2,3],[4,5,6]])\n",
    "transposed=arr.T\n",
    "transposed\n",
    "\n"
   ]
  },
  {
   "cell_type": "code",
   "execution_count": 39,
   "id": "9e731645-2f8c-4d1a-958b-682de75ea95b",
   "metadata": {},
   "outputs": [
    {
     "name": "stdout",
     "output_type": "stream",
     "text": [
      "[1 2 3 4 5]\n"
     ]
    }
   ],
   "source": [
    "##12.finding the unique elements\n",
    "import numpy as np\n",
    "\n",
    "arr = np.array([1, 2, 2, 3, 4, 4, 5])\n",
    "unique_elements = np.unique(arr)\n",
    "print(unique_elements)\n"
   ]
  },
  {
   "cell_type": "code",
   "execution_count": 40,
   "id": "ab1e3225-d8ce-42f8-bf7c-91af47c1ba5a",
   "metadata": {},
   "outputs": [
    {
     "name": "stdout",
     "output_type": "stream",
     "text": [
      "[False  True False]\n"
     ]
    }
   ],
   "source": [
    "##13 element wise comparision\n",
    "import numpy as np\n",
    "\n",
    "arr1 = np.array([1, 2, 3])\n",
    "arr2 = np.array([3, 2, 1])\n",
    "\n",
    "comparison = arr1 == arr2\n",
    "print(comparison)\n"
   ]
  },
  {
   "cell_type": "code",
   "execution_count": 41,
   "id": "d60a9b62-2478-4913-92b7-9ea5a02aab17",
   "metadata": {},
   "outputs": [
    {
     "data": {
      "text/plain": [
       "5"
      ]
     },
     "execution_count": 41,
     "metadata": {},
     "output_type": "execute_result"
    }
   ],
   "source": [
    "##14 index of max element:\n",
    "arr=np.array([1,2,4,5,6,9,8])\n",
    "max_index=np.argmax(arr)\n",
    "max_index"
   ]
  },
  {
   "cell_type": "code",
   "execution_count": 42,
   "id": "ac982c47-9091-453f-bdfd-109d0565d271",
   "metadata": {},
   "outputs": [
    {
     "data": {
      "text/plain": [
       "array([-1,  2, -1,  4, -1,  6, -1])"
      ]
     },
     "execution_count": 42,
     "metadata": {},
     "output_type": "execute_result"
    }
   ],
   "source": [
    "15.##advance indexing:\n",
    "arr=np.array([1,2,3,4,5,6,7])\n",
    "arr[arr%2==1]=-1\n",
    "arr"
   ]
  },
  {
   "cell_type": "markdown",
   "id": "783a06cc-27e2-4cfd-9413-229b84576e7d",
   "metadata": {},
   "source": [
    "III.Matplotlib"
   ]
  },
  {
   "cell_type": "code",
   "execution_count": 47,
   "id": "35118673-3a97-4eb4-a6c8-354a5620b016",
   "metadata": {},
   "outputs": [
    {
     "data": {
      "image/png": "[encoded data removed]",
      "text/plain": [
       "<Figure size 640x480 with 1 Axes>"
      ]
     },
     "metadata": {},
     "output_type": "display_data"
    }
   ],
   "source": [
    "#1.plot a simple line chart\n",
    "import matplotlib.pyplot as plt\n",
    "x=[1,2,3,4,5]\n",
    "y=[2,4,6,8,10]\n",
    "plt.plot(x,y)\n",
    "plt.xlabel('x-axis')\n",
    "plt.ylabel('y-axis')\n",
    "plt.title('line-chart')\n",
    "plt.show()\n"
   ]
  },
  {
   "cell_type": "code",
   "execution_count": 48,
   "id": "54e98e67-dd72-4631-835b-6b9197ac313a",
   "metadata": {},
   "outputs": [
    {
     "data": {
      "image/png": "[encoded data removed]",
      "text/plain": [
       "<Figure size 640x480 with 1 Axes>"
      ]
     },
     "metadata": {},
     "output_type": "display_data"
    }
   ],
   "source": [
    "2#plotting multiple lines:\n",
    "x = [1, 2, 3, 4, 5]\n",
    "y1 = [1, 4, 9, 16, 25]\n",
    "y2 = [1, 2, 3, 4, 5]\n",
    "\n",
    "plt.plot(x, y1, label='y = x^2')\n",
    "plt.plot(x, y2, label='y = x')\n",
    "plt.xlabel('X-axis')\n",
    "plt.ylabel('Y-axis')\n",
    "plt.title('Multiple Lines on Same Graph')\n",
    "plt.legend()\n",
    "plt.show()\n",
    "\n"
   ]
  },
  {
   "cell_type": "code",
   "execution_count": null,
   "id": "d20b13df-f778-4b05-bdcb-605259828686",
   "metadata": {},
   "outputs": [],
   "source": []
  }
 ],
 "metadata": {
  "kernelspec": {
   "display_name": "Python 3 (ipykernel)",
   "language": "python",
   "name": "python3"
  },
  "language_info": {
   "codemirror_mode": {
    "name": "ipython",
    "version": 3
   },
   "file_extension": ".py",
   "mimetype": "text/x-python",
   "name": "python",
   "nbconvert_exporter": "python",
   "pygments_lexer": "ipython3",
   "version": "3.11.7"
  }
 },
 "nbformat": 4,
 "nbformat_minor": 5
}
