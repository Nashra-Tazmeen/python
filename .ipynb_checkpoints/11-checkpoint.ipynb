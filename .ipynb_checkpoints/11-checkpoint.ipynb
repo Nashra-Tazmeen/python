{
 "cells": [
  {
   "cell_type": "markdown",
   "id": "f7f0d290-bbd3-4dd0-aef9-8aa12d1c3a4c",
   "metadata": {},
   "source": [
    "Q1: Given two arrays, write a python function to return the intersection of the two? For example, X = [1,5,9,0] and Y = [3,0,2,9] it should return [9,0]"
   ]
  },
  {
   "cell_type": "markdown",
   "id": "18167df1-9888-4d41-9cca-a3926cc98db2",
   "metadata": {},
   "source": [
    "\n",
    "SET INTERSECTION\n",
    "list(set(arr1) & set(arr2)) and res = set(arr1).intersection(set(arr2))\n",
    "\n",
    "Final note: The & operator and .intersection() method are interchangeable for set intersections.\n",
    "The only difference is that the intersection() method can take multiple sets as arguments, while the & operator is limited to two sets at a time.\n",
    "Use Case: Quick intersection when duplicates don't matter.\n",
    "Time Complexity: O(n+m)\n",
    "\n",
    "O(n+m) (where \n",
    "𝑛\n",
    "n and \n",
    "𝑚\n",
    "m are the lengths of the arrays).\n",
    "\n",
    "                                                                            \n",
    "\n",
    "\n",
    "\n",
    "\n",
    "\n",
    "\n"
   ]
  },
  {
   "cell_type": "code",
   "execution_count": null,
   "id": "ff22a70f-5564-4d33-92b3-835fa976b756",
   "metadata": {},
   "outputs": [],
   "source": [
    "##1 approach :\n",
    "def intersection(x,y):\n",
    "    res=set(x).intersection(set(y))\n",
    "    return res \n",
    "x=[1,5,9,0]\n",
    "y=[3,0,9,2] \n",
    "result=intersection(x,y) \n",
    "print(result)\n",
    "    \n",
    "    "
   ]
  },
  {
   "cell_type": "markdown",
   "id": "41a79ef8-7390-4004-a4f9-d59e228a0af1",
   "metadata": {},
   "source": [
    "\n",
    "LIST COMPREHENSION:\n",
    "Use Case: Faster membership checks; retains duplicates from arr1 only.\n",
    "Time Complexity:\n",
    "O(n+m)."
   ]
  },
  {
   "cell_type": "code",
   "execution_count": 11,
   "id": "f9b41c88-a39e-48d2-bf42-ab0bef627b17",
   "metadata": {},
   "outputs": [
    {
     "name": "stdout",
     "output_type": "stream",
     "text": [
      "[9, 0, 9]\n"
     ]
    }
   ],
   "source": [
    "##2 approach:\n",
    "x=[1,5,9,0,9]\n",
    "y=[3,0,9,2,9] \n",
    "res=[i for i in x if i in y]\n",
    "print(res)\n",
    "\n"
   ]
  },
  {
   "cell_type": "markdown",
   "id": "e44e0981-c7f2-4da6-9fc4-6b77bafc3444",
   "metadata": {},
   "source": [
    "\n",
    "COUNTER FROM COLECTIONS \n",
    "Use Case: Required when you want the intersection with duplicates based on their counts.\n",
    "Time Complexity: \n",
    "O(n+m) due to counter creation and iteration"
   ]
  },
  {
   "cell_type": "code",
   "execution_count": 12,
   "id": "59b95231-3cb1-4d2c-a348-321e1ff0ff02",
   "metadata": {},
   "outputs": [
    {
     "name": "stdout",
     "output_type": "stream",
     "text": [
      "[2, 2, 3]\n"
     ]
    }
   ],
   "source": [
    "from collections import Counter\n",
    "\n",
    "def array_intersection_with_counts(arr1, arr2):\n",
    "    # Count the occurrences in both arrays\n",
    "    counts1 = Counter(arr1)\n",
    "    counts2 = Counter(arr2)\n",
    "    \n",
    "    # Find the intersection considering duplicates\n",
    "    intersection = []\n",
    "    for element in counts1:\n",
    "        if element in counts2:\n",
    "            # Add the minimum count of duplicates to the result\n",
    "            intersection.extend([element] * min(counts1[element], counts2[element]))\n",
    "    return intersection\n",
    "\n",
    "# Example usage\n",
    "array1 = [1, 2, 2, 3, 4]\n",
    "array2 = [2, 2, 3, 5, 6]\n",
    "result = array_intersection_with_counts(array1, array2)\n",
    "print(result)  # Output: [2, 2, 3]\n"
   ]
  },
  {
   "cell_type": "markdown",
   "id": "5ce60c46-4e6a-4e63-8c51-612be7f43126",
   "metadata": {},
   "source": [
    "\n",
    "USING NUMPY ARRAYS\n",
    "Use Case: Numeric arrays with duplicates removed; ideal for scientific/numeric data.\n",
    "Time Complexity: \n",
    "O(nlogn+mlogm) as it internally sorts arrays."
   ]
  },
  {
   "cell_type": "code",
   "execution_count": 13,
   "id": "4e9c9af8-89f4-4c80-99f9-97c22a9f690a",
   "metadata": {},
   "outputs": [
    {
     "name": "stdout",
     "output_type": "stream",
     "text": [
      "[2 3]\n"
     ]
    }
   ],
   "source": [
    "import numpy as np\n",
    "\n",
    "def array_intersection_numpy(arr1, arr2):\n",
    "    # Use numpy's intersect1d function to find common elements\n",
    "    return np.intersect1d(arr1, arr2)\n",
    "\n",
    "# Example usage\n",
    "array1 = np.array([1, 2, 2, 3, 4])\n",
    "array2 = np.array([2, 3, 5, 6])\n",
    "result = array_intersection_numpy(array1, array2)\n",
    "print(result)  # Output: [2 3]\n"
   ]
  },
  {
   "cell_type": "markdown",
   "id": "ec3cfb39-fd10-4b67-90df-32080ab22fd5",
   "metadata": {},
   "source": [
    "\n",
    "UISNG TWO POINTERS :\n",
    "Use Case: Efficient for large, sorted arrays; retains duplicates.\n",
    "Time Complexity: \n",
    "\n",
    "O(n+m).\n",
    "\n"
   ]
  },
  {
   "cell_type": "code",
   "execution_count": 14,
   "id": "4e34c758-af97-4cb8-a371-346243423e61",
   "metadata": {},
   "outputs": [
    {
     "name": "stdout",
     "output_type": "stream",
     "text": [
      "[2, 3]\n"
     ]
    }
   ],
   "source": [
    "def array_intersection_two_pointers(arr1, arr2):\n",
    "    arr1.sort()\n",
    "    arr2.sort()\n",
    "    intersection = []\n",
    "    i, j = 0, 0\n",
    "    \n",
    "    while i < len(arr1) and j < len(arr2):\n",
    "        if arr1[i] == arr2[j]:\n",
    "            intersection.append(arr1[i])\n",
    "            i += 1\n",
    "            j += 1\n",
    "        elif arr1[i] < arr2[j]:\n",
    "            i += 1\n",
    "        else:\n",
    "            j += 1\n",
    "    return intersection\n",
    "\n",
    "# Example usage\n",
    "array1 = [1, 2, 2, 3, 4]\n",
    "array2 = [2, 3, 5, 6]\n",
    "result = array_intersection_two_pointers(array1, array2)\n",
    "print(result)  # Output: [2, 3]\n"
   ]
  },
  {
   "cell_type": "markdown",
   "id": "56c3f5f9-b0cf-47a6-b4ee-02508fceda0a",
   "metadata": {},
   "source": [
    "Each method's efficiency and suitability depend on whether you need duplicates, sorted data, or numeric handling. \n",
    "For example, Counter is best for counting duplicates, numpy is optimal for scientific use, and two-pointer works well for sorted data.\n",
    "\n",
    "\n",
    "\n",
    "\n",
    "\n",
    "\n",
    "\n",
    "\n"
   ]
  },
  {
   "cell_type": "code",
   "execution_count": null,
   "id": "b7a4d203-48ee-42d6-8c12-fb41fd1e4aa3",
   "metadata": {},
   "outputs": [],
   "source": [
    "2Q :iven an array, find all the duplicates in this array? For example: input: [1,2,3,1,3,6,5] output: [1,3]"
   ]
  },
  {
   "cell_type": "code",
   "execution_count": 18,
   "id": "f0cdf6f7-0d16-4e08-9f2d-c2c4f5d4342b",
   "metadata": {},
   "outputs": [
    {
     "name": "stdout",
     "output_type": "stream",
     "text": [
      "[1, 3]\n"
     ]
    }
   ],
   "source": [
    "##1 approach\n",
    "from collections import  Counter \n",
    "lst=[1,2,3,1,3,6,5]\n",
    "res=[]\n",
    "values_count=Counter(lst) \n",
    "for i,j in values_count.items():\n",
    "    if j!=1:\n",
    "        res.append(i) \n",
    "print(res)\n"
   ]
  },
  {
   "cell_type": "code",
   "execution_count": null,
   "id": "bbca1f85-58b2-4243-8b8c-93b317b544ad",
   "metadata": {},
   "outputs": [],
   "source": [
    "##2 approach:\n",
    "\n"
   ]
  },
  {
   "cell_type": "code",
   "execution_count": 19,
   "id": "aeadc8d1-42b3-4c4c-bafb-ea69ef57bb89",
   "metadata": {},
   "outputs": [],
   "source": [
    "3# Given an integer array, return the maximum product of any three numbers in the array?\n",
    "import heapq\n",
    "\n",
    "def max_three(arr):\n",
    "    a = heapq.nlargest(3, arr) # largerst 3 numbers for postive case\n",
    "    b = heapq.nsmallest(2, arr) # for negative case\n",
    "    return max(a[2]*a[1]*a[0], b[1]*b[0]*a[0])"
   ]
  },
  {
   "cell_type": "code",
   "execution_count": 27,
   "id": "94a69bbf-73de-4789-8889-5261d077a498",
   "metadata": {},
   "outputs": [
    {
     "name": "stdout",
     "output_type": "stream",
     "text": [
      "17\n"
     ]
    }
   ],
   "source": [
    "#4  Q4: Given an integer array, find the sum of the largest contiguous subarray within the array. For example, given the array A = [0,-1,-5,-2,3,14] it should return 17 because of [3,14]. \n",
    "\n",
    "##kadanes approach 0(n)\n",
    "def max_subarray(arr):\n",
    "    n=len(arr) \n",
    "    max_sum=arr[0]\n",
    "    curr_sum=0\n",
    "    for i in range(n):\n",
    "        curr_sum+=arr[i]\n",
    "        max_sum=max(max_sum,curr_sum)\n",
    "        if curr_sum<0:\n",
    "            curr_sum=0 \n",
    "    return max_sum \n",
    "arr = [0,-1,-5,-2,3,14] \n",
    "res=max_subarray(arr)\n",
    "print(res)\n",
    "        \n"
   ]
  },
  {
   "cell_type": "code",
   "execution_count": null,
   "id": "b42a00c5-a587-413e-b21d-a187644188f6",
   "metadata": {},
   "outputs": [],
   "source": [
    "##naive approach o(n2)\n",
    "\n"
   ]
  },
  {
   "cell_type": "markdown",
   "id": "f57a169c-74b4-4f0f-b79b-aeb98b7077fb",
   "metadata": {},
   "source": [
    "\n",
    "\n",
    "Q5: Define tuples and lists in Python What are the major differences between them?\n",
    "Answer:\n",
    "\n",
    "Lists: In Python, a list is created by placing elements inside square brackets [], separated by commas. A list can have any number of items and they may be of different types (integer, float, string, etc.). A list can also have another list as an item. This is called a nested list.\n",
    "\n",
    "Lists are mutable\n",
    "Lists are better for performing operations, such as insertion and deletion.\n",
    "Lists consume more memory\n",
    "Lists have several built-in methods\n",
    "Tuples: A tuple is a collection of objects which ordered and immutable. Tuples are sequences, just like lists. The differences between tuples and lists are, the tuples cannot be changed unlike lists and tuples use parentheses, whereas lists use square brackets.\n",
    "\n",
    "Tuples are immutable\n",
    "Tuple data type is appropriate for accessing the elements\n",
    "Tuples consume less memory as compared to the list\n",
    "Tuple does not have many built-in methods.\n",
    "Mutable = we can change, add, delete and modify stuff\n",
    "Immutable = we cannot change, add, delete and modify stuff"
   ]
  },
  {
   "cell_type": "markdown",
   "id": "0296ec91-750c-437c-8ee8-e764ce019615",
   "metadata": {},
   "source": [
    "Q7: 𝐖𝐡𝐚𝐭 𝐢𝐬 𝐭𝐡𝐞 𝐝𝐢𝐟𝐟𝐞𝐫𝐞𝐧𝐜𝐞 𝐛𝐞𝐭𝐰𝐞𝐞𝐧 𝐥𝐢𝐬𝐭𝐬, 𝐚𝐫𝐫𝐚𝐲𝐬, 𝐚𝐧𝐝 𝐬𝐞𝐭𝐬 𝐢𝐧 𝐏𝐲𝐭𝐡𝐨𝐧, 𝐚𝐧𝐝 𝐰𝐡𝐞𝐧 𝐲𝐨𝐮 𝐬𝐡𝐨𝐮𝐥𝐝 𝐮𝐬𝐞 𝐞𝐚𝐜𝐡 𝐨𝐟 𝐭𝐡𝐞𝐦?\n",
    "Answer:\n",
    "\n",
    "All three are data structures that can store sequences of data. but with some differences.\n",
    "\n",
    "List denoted by [ ], set by { } , and array/tuple by ( )\n",
    "\n",
    "𝐋𝐢𝐬𝐭: built-in data type in Python that helps store data in sequence with a very rich API that allows insertion removal retrieval and expansion. one of its benefits is that it allows the use of many data types in the same lists as it can store string, integers, floats of any other derived objects. one of its cons that are very slow if it will be used in numerical computation.\n",
    "\n",
    "𝐀𝐫𝐫𝐚𝐲: on the other hand array can only store a single data type like integers only, float only, or any derived object only. but unlike lists, it's very efficient in terms of speed and memory usage (NumPy is one of the best libraries that implements array operations as it's a very rich library that solves many problems in numerical computation like vectorization, broadcasting, ...etc).\n",
    "\n",
    "𝐒𝐞𝐭: it's also a built-in data type in Python and can store more that data types. but it does not allow for the existence of duplicates and if there are duplicates it only uses one of them. provide a lot of methods like unions, diffs, and intersections.\n",
    "\n"
   ]
  },
  {
   "cell_type": "markdown",
   "id": "7a1fad58-b05a-4d94-a588-13e33c89394e",
   "metadata": {},
   "source": [
    "Q8: 𝐄𝐱𝐩𝐥𝐚𝐢𝐧 𝐰𝐡𝐚𝐭 𝐅𝐥𝐚𝐬𝐤 𝐢𝐬 𝐚𝐧𝐝 𝐢𝐭𝐬 𝐛𝐞𝐧𝐞𝐟𝐢𝐭𝐬\n",
    "Answer:\n",
    "\n",
    "Flask is a web framework. This means flask provides you with tools, libraries, and technologies that allow you to build a web application. This web application can be some web pages, a blog, a wiki, or go as big as a web-based calendar application or a commercial website.\n",
    "\n",
    "Benefits of Flask:\n",
    "\n",
    "Scalable Flask’s status as a microframework means that it can be used to grow a tech project such as a web app very quickly.\n",
    "\n",
    "Flexible It allows the project to be rearranged and moved around. Also makes sure that the project structure does not collapse when a part is altered.\n",
    "\n",
    "Easy to negotiate At its core, the microframework is easy to understand for web developers also giving them more control over their code and what is possible.\n",
    "\n",
    "Lightweight Certain parts of a design of a tool/framework might need assembling and reassembling and do not rely on a large number of extensions to function which gives web developers a certain level of control. Further, Flask also supports modular programming, which is where its functionality can be split into several interchangeable modules and each module acts as an independent entity and executes a part of the functionality."
   ]
  },
  {
   "cell_type": "markdown",
   "id": "4ceb67b1-f4c4-4261-8af9-8243f6ec73b0",
   "metadata": {},
   "source": [
    "Q9: Given a string, return the first recurring character in it, or “None” if there is no recurring character. Example: input = \"pythoninterviewquestion\" , output = \"n\""
   ]
  },
  {
   "cell_type": "code",
   "execution_count": 38,
   "id": "bd63eefd-a7d6-455c-88a5-9e23508964c2",
   "metadata": {},
   "outputs": [
    {
     "name": "stdout",
     "output_type": "stream",
     "text": [
      "n\n"
     ]
    }
   ],
   "source": [
    "def recurring_str(input_str):\n",
    "    res=\"\"\n",
    "    for char in input_str:\n",
    "        res=res+char\n",
    "        if res.count(char)>1:\n",
    "            return char \n",
    "    return None\n",
    "string=\"pythoninterviewquestion\"\n",
    "result=recurring_str(string) \n",
    "print(result)\n",
    "        \n"
   ]
  },
  {
   "cell_type": "markdown",
   "id": "3e7ab170-30b1-4544-8b56-16df24d4e615",
   "metadata": {},
   "source": [
    "#10.What is the difference between apply and applymap function in pandas?"
   ]
  },
  {
   "cell_type": "markdown",
   "id": "2b91b435-cc5f-4840-9476-66b2b058ecb3",
   "metadata": {},
   "source": [
    "Both the methods only accept callables as arguments but what sets them apart is that applymap is defined on dataframes and works element-wise. While apply can be defined on data frames as well as series and can work row/column-wise as well as element-wise. In terms of use case, applymap is used for transformations while apply is used for more complex operations and aggregations. Applymap only returns a dataframe while apply can return a scalar value, series, or dataframe."
   ]
  },
  {
   "cell_type": "code",
   "execution_count": 47,
   "id": "418c6908-6af6-4f2d-89c5-b9ac7f147b2e",
   "metadata": {},
   "outputs": [
    {
     "name": "stdout",
     "output_type": "stream",
     "text": [
      "   A  squared\n",
      "0  1        1\n",
      "1  2        4\n",
      "2  3        9\n",
      "3  4       16\n",
      "4  5       25\n"
     ]
    }
   ],
   "source": [
    "##apply \n",
    "import pandas as pd\n",
    "\n",
    "# Sample DataFrame\n",
    "data = {'A': [1, 2, 3, 4, 5]}\n",
    "df = pd.DataFrame(data)\n",
    "\n",
    "# Define a custom function\n",
    "# def square(x):\n",
    "#     return x * x\n",
    "\n",
    "# Apply the function to the 'numbers' column\n",
    "df['squared'] = df['A'].apply(lambda x:x**2)\n",
    "print(df)\n"
   ]
  },
  {
   "cell_type": "code",
   "execution_count": 48,
   "id": "73d1fb09-12e2-4479-843f-193303b49143",
   "metadata": {},
   "outputs": [
    {
     "name": "stdout",
     "output_type": "stream",
     "text": [
      "    A   B\n",
      "0   1  25\n",
      "1   4  36\n",
      "2   9  49\n",
      "3  16  64\n"
     ]
    }
   ],
   "source": [
    "##applymap \n",
    "import pandas as pd \n",
    "data={'A':[1,2,3,4],'B':[5,6,7,8]}\n",
    "df=pd.DataFrame(data)\n",
    "df1=df.applymap(lambda x:x**2) \n",
    "print(df1)"
   ]
  },
  {
   "cell_type": "markdown",
   "id": "f2d0fd20-0323-416d-bb59-e93f394bbd35",
   "metadata": {},
   "source": [
    "##11\n",
    "Write a function to generate N samples from a normal distribution and plot them on the histogram\n"
   ]
  },
  {
   "cell_type": "code",
   "execution_count": 52,
   "id": "34a5a683-7b85-4353-97ca-8b201a2d1c78",
   "metadata": {},
   "outputs": [
    {
     "data": {
      "text/plain": [
       "(array([ 17.,  28., 127., 200., 234., 180., 128.,  61.,  20.,   5.]),\n",
       " array([-2.67888586, -2.1005309 , -1.52217594, -0.94382099, -0.36546603,\n",
       "         0.21288893,  0.79124389,  1.36959884,  1.9479538 ,  2.52630876,\n",
       "         3.10466372]),\n",
       " <BarContainer object of 10 artists>)"
      ]
     },
     "execution_count": 52,
     "metadata": {},
     "output_type": "execute_result"
    },
    {
     "data": {
      "image/png": "[encoded data removed]",
      "text/plain": [
       "<Figure size 640x480 with 1 Axes>"
      ]
     },
     "metadata": {},
     "output_type": "display_data"
    }
   ],
   "source": [
    "import numpy as np\n",
    "import matplotlib.pyplot as plt\n",
    "N=1000\n",
    "x = np.random.randn(N)\n",
    "plt.hist(x)"
   ]
  },
  {
   "cell_type": "code",
   "execution_count": null,
   "id": "17867759-d5fa-41d1-b523-4c1c5ba1a5f0",
   "metadata": {},
   "outputs": [],
   "source": []
  }
 ],
 "metadata": {
  "kernelspec": {
   "display_name": "Python 3 (ipykernel)",
   "language": "python",
   "name": "python3"
  },
  "language_info": {
   "codemirror_mode": {
    "name": "ipython",
    "version": 3
   },
   "file_extension": ".py",
   "mimetype": "text/x-python",
   "name": "python",
   "nbconvert_exporter": "python",
   "pygments_lexer": "ipython3",
   "version": "3.11.7"
  }
 },
 "nbformat": 4,
 "nbformat_minor": 5
}
