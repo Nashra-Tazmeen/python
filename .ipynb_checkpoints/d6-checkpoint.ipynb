{
 "cells": [
  {
   "cell_type": "markdown",
   "id": "38ca6b58-9f9f-4916-b7e6-58efc5c78cb2",
   "metadata": {},
   "source": [
    "1.Write a program which will find all such numbers which are divisible by 7 but are not a multiple of 5,\n",
    "between 2000 and 3200 (both included).The numbers obtained should be printed in a comma-separated sequence on a single line."
   ]
  },
  {
   "cell_type": "code",
   "execution_count": 5,
   "id": "6abddeff-2da6-4247-9fd2-e07a3afe3c44",
   "metadata": {},
   "outputs": [
    {
     "data": {
      "text/plain": [
       "'2002,2009,2016,2023,2037,2044,2051,2058,2072,2079,2086,2093,2107,2114,2121,2128,2142,2149,2156,2163,2177,2184,2191,2198,2212,2219,2226,2233,2247,2254,2261,2268,2282,2289,2296,2303,2317,2324,2331,2338,2352,2359,2366,2373,2387,2394,2401,2408,2422,2429,2436,2443,2457,2464,2471,2478,2492,2499,2506,2513,2527,2534,2541,2548,2562,2569,2576,2583,2597,2604,2611,2618,2632,2639,2646,2653,2667,2674,2681,2688,2702,2709,2716,2723,2737,2744,2751,2758,2772,2779,2786,2793,2807,2814,2821,2828,2842,2849,2856,2863,2877,2884,2891,2898,2912,2919,2926,2933,2947,2954,2961,2968,2982,2989,2996,3003,3017,3024,3031,3038,3052,3059,3066,3073,3087,3094,3101,3108,3122,3129,3136,3143,3157,3164,3171,3178,3192,3199'"
      ]
     },
     "execution_count": 5,
     "metadata": {},
     "output_type": "execute_result"
    }
   ],
   "source": [
    "res=[]\n",
    "for i in range(2000,3201):\n",
    "    if(i%7==0)and(i%5!=0):\n",
    "        res.append(str(i))\n",
    "','.join(res)"
   ]
  },
  {
   "cell_type": "markdown",
   "id": "2fd9adf0-db6b-4f6c-89e0-070973a73654",
   "metadata": {},
   "source": [
    "2.Write a program which can compute the factorial of a given numbers.\n",
    "The results should be printed in a comma-separated sequence on a single line.\n",
    "Suppose the following input is supplied to the program:"
   ]
  },
  {
   "cell_type": "code",
   "execution_count": 10,
   "id": "f016bf85-10af-4880-b97a-ba3370386554",
   "metadata": {},
   "outputs": [
    {
     "name": "stdout",
     "output_type": "stream",
     "text": [
      "40320\n"
     ]
    }
   ],
   "source": [
    "def fact(num):\n",
    "    if num==1 or num==0:\n",
    "        return 1\n",
    "    else:\n",
    "        return num*fact(num-1)\n",
    "num=8\n",
    "print(fact(num))\n",
    "        "
   ]
  },
  {
   "cell_type": "markdown",
   "id": "1fd0e73b-b936-4ffa-884d-a9eecc1d87a0",
   "metadata": {},
   "source": [
    "3.With a given integral number n, write a program to generate a dictionary that contains (i, i*i) such that is an integral number between 1 and n (both included). and then the program should print the dictionary.\n",
    "Suppose the following input is supplied to the program:"
   ]
  },
  {
   "cell_type": "code",
   "execution_count": 12,
   "id": "53ed3b7c-639a-45c0-a3ff-edb0ea8bf205",
   "metadata": {},
   "outputs": [
    {
     "data": {
      "text/plain": [
       "{1: 1, 2: 4, 3: 9, 4: 16, 5: 25, 6: 36, 7: 49, 8: 64}"
      ]
     },
     "execution_count": 12,
     "metadata": {},
     "output_type": "execute_result"
    }
   ],
   "source": [
    "num=8\n",
    "d={}\n",
    "for i in range(1,num+1):\n",
    "    d[i]=i*i\n",
    "d    "
   ]
  },
  {
   "cell_type": "markdown",
   "id": "43bd4eaa-6b01-46cf-be4a-5cd0769f73a5",
   "metadata": {},
   "source": [
    "4.Write a program which accepts a sequence of comma-separated numbers from console and generate a list and a tuple which contains every number.\n",
    "Suppose the following input is supplied to the program:\n",
    "34,67,55,33,12,98"
   ]
  },
  {
   "cell_type": "code",
   "execution_count": 22,
   "id": "81259374-f106-44c3-8e5a-fa091d593262",
   "metadata": {},
   "outputs": [
    {
     "name": "stdin",
     "output_type": "stream",
     "text": [
      "enter n values 1,2,3,4,5\n"
     ]
    },
    {
     "name": "stdout",
     "output_type": "stream",
     "text": [
      "['1', '2', '3', '4', '5']\n",
      "('1', '2', '3', '4', '5')\n"
     ]
    }
   ],
   "source": [
    "values=(input(\"enter n values\"))\n",
    "l=values.split(\",\")\n",
    "t=tuple(l)\n",
    "print(l)\n",
    "print(t)\n"
   ]
  },
  {
   "cell_type": "markdown",
   "id": "460889c5-61c4-44ba-806d-61d0ad2ad6f0",
   "metadata": {},
   "source": [
    "5.Define a class which has at least two methods:\n",
    "getString: to get a string from console input\n",
    "printString: to print the string in upper case.\n",
    "Also please include simple test function to test the class methods"
   ]
  },
  {
   "cell_type": "code",
   "execution_count": 30,
   "id": "7862978d-96cf-4deb-854f-61cdfab3cd57",
   "metadata": {},
   "outputs": [
    {
     "name": "stdin",
     "output_type": "stream",
     "text": [
      "enter string education\n"
     ]
    },
    {
     "name": "stdout",
     "output_type": "stream",
     "text": [
      "EDUCATION\n"
     ]
    }
   ],
   "source": [
    "class inputoutputstring:\n",
    "    def __init__(self):\n",
    "        self.s=\"\"\n",
    "    def getstring(self):\n",
    "        self.s=input(\"enter string\")\n",
    "    def printstring(self):\n",
    "         print(self.s.upper())\n",
    "\n",
    "obj=inputoutputstring()\n",
    "obj.getstring()\n",
    "obj.printstring()"
   ]
  },
  {
   "cell_type": "markdown",
   "id": "76f803bf-4125-4faa-a311-59a967a896ec",
   "metadata": {},
   "source": [
    "6.Question:\n",
    "Write a program that calculates and prints the value according to the given formula:\n",
    "Q = Square root of [(2 * C * D)/H]\n",
    "Following are the fixed values of C and H:\n",
    "C is 50. H is 30.\n",
    "D is the variable whose values should be input to your program in a comma-separated sequence.\n",
    "Example\n",
    "Let us assume the following comma separated input sequence is given to the program:\n",
    "100,150,180\n",
    "The output of the program should be:\n",
    "18,22,24"
   ]
  },
  {
   "cell_type": "code",
   "execution_count": 34,
   "id": "65ec6f64-e2c1-4404-b9d3-0a99029b0034",
   "metadata": {},
   "outputs": [
    {
     "name": "stdin",
     "output_type": "stream",
     "text": [
      " 100,150,180\n"
     ]
    },
    {
     "name": "stdout",
     "output_type": "stream",
     "text": [
      "18,22,24\n"
     ]
    }
   ],
   "source": [
    "import math\n",
    "c=50\n",
    "h=30\n",
    "value = []\n",
    "items=[x for x in input().split(',')]\n",
    "for d in items:\n",
    "    value.append(str(int(round(math.sqrt(2*c*float(d)/h)))))\n",
    "\n",
    "print (','.join(value))"
   ]
  },
  {
   "cell_type": "markdown",
   "id": "2c88892f-f490-4bfd-9f07-715ef632aac7",
   "metadata": {},
   "source": [
    "7.Write a program that accepts a comma separated sequence of words as input and prints the words in a comma-separated sequence after sorting them alphabetically.\n",
    "Suppose the following input is supplied to the program:\n",
    "without,hello,bag,world\n",
    "Then, the output should be:\n",
    "bag,hello,without,world"
   ]
  },
  {
   "cell_type": "code",
   "execution_count": 16,
   "id": "70224ade-0349-417d-945b-9db49f6f87e0",
   "metadata": {},
   "outputs": [
    {
     "name": "stdin",
     "output_type": "stream",
     "text": [
      " hello,bag,world\n"
     ]
    },
    {
     "data": {
      "text/plain": [
       "['bag', 'hello', 'world']"
      ]
     },
     "execution_count": 16,
     "metadata": {},
     "output_type": "execute_result"
    }
   ],
   "source": [
    "items=[x for x in input().split(',')]\n",
    "items.sort()//return none just modifies the original list\n",
    "items\n"
   ]
  },
  {
   "cell_type": "markdown",
   "id": "4539ba6a-46c9-48f0-bc3a-42f86de0fb62",
   "metadata": {},
   "source": [
    "8.Write a program that accepts sequence of lines as input and prints the lines after making all characters in the sentence capitalized.\n",
    "Suppose the following input is supplied to the program:\n",
    "Hello world\n",
    "Practice makes perfect\n",
    "Then, the output should be:\n",
    "HELLO WORLD\n",
    "PRACTICE MAKES PERFECT"
   ]
  },
  {
   "cell_type": "code",
   "execution_count": 17,
   "id": "27ea0bbc-cedd-420e-a200-f3ad0e79e440",
   "metadata": {},
   "outputs": [
    {
     "name": "stdin",
     "output_type": "stream",
     "text": [
      " hello\n",
      " \n"
     ]
    },
    {
     "name": "stdout",
     "output_type": "stream",
     "text": [
      "HELLO\n"
     ]
    }
   ],
   "source": [
    "lines=[]\n",
    "while True:\n",
    "    s=input()\n",
    "    if s:\n",
    "        lines.append(s.upper())\n",
    "    else:\n",
    "        break\n",
    "for sentence in lines:\n",
    "    print(sentence)\n",
    "    "
   ]
  },
  {
   "cell_type": "markdown",
   "id": "09d994cc-ea46-4189-829d-ef0aa2c5a4f4",
   "metadata": {},
   "source": [
    "9.Write a program that accepts a sequence of whitespace separated words as input and prints the words after removing all duplicate words and sorting them alphanumerically.\n",
    "Suppose the following input is supplied to the program:\n",
    "hello world and practice makes perfect and hello world again\n",
    "Then, the output should be:\n",
    "again and hello makes perfect practice world"
   ]
  },
  {
   "cell_type": "code",
   "execution_count": 14,
   "id": "70f314ef-bf2a-4449-b00e-ed1300a7ebe0",
   "metadata": {},
   "outputs": [
    {
     "name": "stdin",
     "output_type": "stream",
     "text": [
      " hello world hello people\n"
     ]
    },
    {
     "data": {
      "text/plain": [
       "['hello', 'people', 'world']"
      ]
     },
     "execution_count": 14,
     "metadata": {},
     "output_type": "execute_result"
    }
   ],
   "source": [
    "words=[word for word in input().split(\" \")]\n",
    "sorted(list(set(words)))//returns new sorted list of items without modifying original list\n"
   ]
  },
  {
   "cell_type": "markdown",
   "id": "6e1047d6-a8f4-45bc-b433-c69bc3e6c011",
   "metadata": {},
   "source": [
    "10.Write a program which accepts a sequence of comma separated 4 digit binary numbers as its input and then check whether they are divisible by 5 or not. The numbers that are divisible by 5 are to be printed in a comma separated sequence.\n",
    "Example:\n",
    "0100,0011,1010,1001"
   ]
  },
  {
   "cell_type": "code",
   "execution_count": 19,
   "id": "b2bb821d-f0cf-4889-a215-93c06b71c984",
   "metadata": {},
   "outputs": [
    {
     "name": "stdin",
     "output_type": "stream",
     "text": [
      " 0100,0011,1010,1001\n"
     ]
    },
    {
     "name": "stdout",
     "output_type": "stream",
     "text": [
      "['1010']\n"
     ]
    }
   ],
   "source": [
    "items=[x for x in input().split(',')]\n",
    "values=[]\n",
    "for p in items:\n",
    "    intp=int(p,2)\n",
    "    if not intp%5:\n",
    "        values.append(p)\n",
    "\n",
    "\n",
    "print(values)\n",
    "\n",
    "        \n",
    "        "
   ]
  },
  {
   "cell_type": "markdown",
   "id": "a838bbd3-4d54-4f7b-9c6f-f5ac7f12e5df",
   "metadata": {},
   "source": [
    "11.Write a program, which will find all such numbers between 1000 and 3000 (both included) such that each digit of the number is an even number.\n",
    "The numbers obtained should be printed in a comma-separated sequence on a single line."
   ]
  },
  {
   "cell_type": "code",
   "execution_count": 31,
   "id": "7e5d981f-994b-4088-8ff1-40630e36542e",
   "metadata": {},
   "outputs": [
    {
     "name": "stdout",
     "output_type": "stream",
     "text": [
      "2000,2002,2004,2006,2008,2020,2022,2024,2026,2028,2040,2042,2044,2046,2048,2060,2062,2064,2066,2068,2080,2082,2084,2086,2088,2200,2202,2204,2206,2208,2220,2222,2224,2226,2228,2240,2242,2244,2246,2248,2260,2262,2264,2266,2268,2280,2282,2284,2286,2288,2400,2402,2404,2406,2408,2420,2422,2424,2426,2428,2440,2442,2444,2446,2448,2460,2462,2464,2466,2468,2480,2482,2484,2486,2488,2600,2602,2604,2606,2608,2620,2622,2624,2626,2628,2640,2642,2644,2646,2648,2660,2662,2664,2666,2668,2680,2682,2684,2686,2688,2800,2802,2804,2806,2808,2820,2822,2824,2826,2828,2840,2842,2844,2846,2848,2860,2862,2864,2866,2868,2880,2882,2884,2886,2888\n"
     ]
    }
   ],
   "source": [
    "values=[]\n",
    "for i in range(1000,3001):\n",
    "    s=str(i)\n",
    "    \n",
    "    if (int(s[0])%2==0) and (int(s[1])%2==0) and (int(s[2])%2==0) and (int(s[3])%2==0):\n",
    "          values.append(s)\n",
    "       \n",
    "\n",
    "print(\",\".join(values))"
   ]
  },
  {
   "cell_type": "markdown",
   "id": "1474dc46-c75e-49fc-9f17-1ae9a787f3c6",
   "metadata": {},
   "source": [
    "11.Write a program that accepts a sentence and calculate the number of letters and digits.\n",
    "Suppose the following input is supplied to the program:"
   ]
  },
  {
   "cell_type": "code",
   "execution_count": 33,
   "id": "892f1c82-a286-4fe3-b06e-1c697ec08aaf",
   "metadata": {},
   "outputs": [
    {
     "name": "stdin",
     "output_type": "stream",
     "text": [
      " hello people 123\n"
     ]
    },
    {
     "name": "stdout",
     "output_type": "stream",
     "text": [
      "[]\n",
      "['hello people 123']\n"
     ]
    }
   ],
   "source": [
    "items=[i for i in input().split(\",\")]\n",
    "digit=[]\n",
    "num=[]\n",
    "for i in items:\n",
    "    if i.isdigit():\n",
    "        digit.append(i)\n",
    "    else:\n",
    "        num.append(i)\n",
    "print(digit)\n",
    "print(num)\n",
    "        "
   ]
  },
  {
   "cell_type": "code",
   "execution_count": 35,
   "id": "1753d76c-8a51-4312-bc11-e71fde4ae60b",
   "metadata": {},
   "outputs": [
    {
     "name": "stdin",
     "output_type": "stream",
     "text": [
      " hello,123\n"
     ]
    },
    {
     "name": "stdout",
     "output_type": "stream",
     "text": [
      "['123']\n",
      "['hello']\n"
     ]
    }
   ],
   "source": [
    "items = [i for i in input().split(\",\")]\n",
    "digit = []\n",
    "num = []\n",
    "\n",
    "for i in items:\n",
    "    if i.isdigit():\n",
    "        digit.append(i)\n",
    "    else:\n",
    "        num.append(i)\n",
    "\n",
    "print(digit)\n",
    "print(num)\n"
   ]
  },
  {
   "cell_type": "code",
   "execution_count": null,
   "id": "3471408a-85f9-4cd4-baa2-689e6c877cd7",
   "metadata": {},
   "outputs": [],
   "source": []
  }
 ],
 "metadata": {
  "kernelspec": {
   "display_name": "Python 3 (ipykernel)",
   "language": "python",
   "name": "python3"
  },
  "language_info": {
   "codemirror_mode": {
    "name": "ipython",
    "version": 3
   },
   "file_extension": ".py",
   "mimetype": "text/x-python",
   "name": "python",
   "nbconvert_exporter": "python",
   "pygments_lexer": "ipython3",
   "version": "3.11.7"
  }
 },
 "nbformat": 4,
 "nbformat_minor": 5
}
