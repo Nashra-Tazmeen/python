{
 "cells": [
  {
   "cell_type": "markdown",
   "id": "666701ff-b308-4964-bd9a-7a80790b217a",
   "metadata": {},
   "source": [
    "##oops in python:\n",
    "programming paradigm based on concept of objects which contain data(attributes/properties) and code (methods/function).It emphasizes modular design for\n",
    "efficient software developement                                                                                                                                                \n",
    "\n",
    "Topics covered:\n",
    "\n",
    "1.classes and objects\n",
    "\n",
    "2..Methods and attributes\n",
    "\n",
    "3..Encapsulation\n",
    "                                                                                                                                                   \n",
    "4.Abstraction\n",
    "                                                                                                                                                   \n",
    "5.Inheritance\n",
    "                                                                                                                                                   \n",
    "6.polymorphism                                                                                                                                                 \n",
    "                                                                                                                                                   \n",
    "                                                                                                                                                   \n",
    "\n"
   ]
  },
  {
   "cell_type": "code",
   "execution_count": 9,
   "id": "b8392e7a-1e37-47e4-9cf8-550f80a6b85f",
   "metadata": {},
   "outputs": [
    {
     "name": "stdout",
     "output_type": "stream",
     "text": [
      "brown\n",
      "herbi\n",
      "yellow\n",
      "carni\n"
     ]
    }
   ],
   "source": [
    "#1.classes and objects:\n",
    "class Animal:\n",
    "    def __init__(self,color,animal_type):#constructor mtd\n",
    "        self.color=color #instance variable(attributes)\n",
    "        self.animal_type= animal_type #instance variable(attributes)\n",
    "        \n",
    "    def display_info(self): #mtd to display info\n",
    "        print(self.color) #accessing the instance varbl\n",
    "        print(self.animal_type) #acessing ins varble\n",
    "        \n",
    "##creating instances of animal class\n",
    "deer= Animal(\"brown\",\"herbi\")\n",
    "lion= Animal(\"yellow\",\"carni\")\n",
    "\n",
    "#displaying info for each instance\n",
    "deer.display_info()\n",
    "lion.display_info()"
   ]
  },
  {
   "cell_type": "code",
   "execution_count": 12,
   "id": "a87bc219-3c6c-4c33-8012-382812fc252b",
   "metadata": {},
   "outputs": [
    {
     "name": "stdout",
     "output_type": "stream",
     "text": [
      "10\n"
     ]
    }
   ],
   "source": [
    "#2.Encapsulation:\n",
    "class Encap:\n",
    "    __a=10 #private attribute\n",
    "    def display_info(self): #public mtd to access private attribute\n",
    "        print(self.__a)\n",
    "obj=Encap()\n",
    "obj.display_info()\n",
    "    \n",
    "        "
   ]
  },
  {
   "cell_type": "markdown",
   "id": "359dfc1d-830b-4541-a398-553dd55ac618",
   "metadata": {},
   "source": [
    "III.Abstraction:abstract class have abstract mtds\n",
    "Abstract mtd:mtd with func declaration no defination\n",
    "Concrete class :class without abstract mtds\n"
   ]
  },
  {
   "cell_type": "code",
   "execution_count": 16,
   "id": "b68559c7-1e08-42e1-9053-61698b19dd74",
   "metadata": {},
   "outputs": [
    {
     "name": "stdout",
     "output_type": "stream",
     "text": [
      "abstract method\n"
     ]
    }
   ],
   "source": [
    "#3.Abstraction:\n",
    "from abc import ABC,abstractmethod\n",
    "class classA(ABC):\n",
    "    def display(self):\n",
    "        pass\n",
    "class demo(classA):\n",
    "    def display(self):\n",
    "        print(\"abstract method\")\n",
    "\n",
    "obj=demo()\n",
    "obj.display()\n"
   ]
  },
  {
   "cell_type": "code",
   "execution_count": 17,
   "id": "c8bf4006-7c35-4d2d-acb9-3f4912b70945",
   "metadata": {},
   "outputs": [
    {
     "name": "stdout",
     "output_type": "stream",
     "text": [
      "child class\n",
      "parent class\n"
     ]
    }
   ],
   "source": [
    "#4Inheritence:\n",
    "class parent:\n",
    "    def display(self):\n",
    "        print(\"parent class\")\n",
    "class child(parent):\n",
    "    def show(self):\n",
    "        print(\"child class\")\n",
    "obj=child()\n",
    "obj.show()\n",
    "obj.display()"
   ]
  },
  {
   "cell_type": "code",
   "execution_count": 18,
   "id": "61f03509-6b6d-4df1-aa25-0e5926130abc",
   "metadata": {},
   "outputs": [
    {
     "name": "stdout",
     "output_type": "stream",
     "text": [
      "None None\n",
      "5 6\n"
     ]
    }
   ],
   "source": [
    "#5.polymorphism:\n",
    "#method overloading:\n",
    "class methodoverload:\n",
    "    def display(self,a=None,b=None):\n",
    "        print(a,b)\n",
    "obj=methodoverload()\n",
    "obj.display()\n",
    "obj.display(5,6)"
   ]
  },
  {
   "cell_type": "code",
   "execution_count": 21,
   "id": "384e08d8-2e8c-4689-a897-e09f8eb56471",
   "metadata": {},
   "outputs": [
    {
     "name": "stdout",
     "output_type": "stream",
     "text": [
      "helloworld\n",
      "14\n"
     ]
    }
   ],
   "source": [
    "#operator  overloading:\n",
    "a=\"hello\"\n",
    "b=\"world\"\n",
    "print(a+b)\n",
    "c=10\n",
    "d=4\n",
    "print(c+d)"
   ]
  },
  {
   "cell_type": "code",
   "execution_count": 26,
   "id": "b3c6da4b-f31a-4c82-ba81-7687da408813",
   "metadata": {},
   "outputs": [
    {
     "name": "stdout",
     "output_type": "stream",
     "text": [
      "bike\n"
     ]
    }
   ],
   "source": [
    "#method overriding:\n",
    "class father:\n",
    "    def transportation(self):\n",
    "        print(\"bicycle\")\n",
    "class son(father):\n",
    "    def transportation(self):\n",
    "        print(\"bike\")\n",
    "obj=son()\n",
    "obj.transportation()"
   ]
  },
  {
   "cell_type": "code",
   "execution_count": null,
   "id": "cb493e23-51c3-4674-87f5-d0fb58541e17",
   "metadata": {},
   "outputs": [],
   "source": []
  }
 ],
 "metadata": {
  "kernelspec": {
   "display_name": "Python 3 (ipykernel)",
   "language": "python",
   "name": "python3"
  },
  "language_info": {
   "codemirror_mode": {
    "name": "ipython",
    "version": 3
   },
   "file_extension": ".py",
   "mimetype": "text/x-python",
   "name": "python",
   "nbconvert_exporter": "python",
   "pygments_lexer": "ipython3",
   "version": "3.11.7"
  }
 },
 "nbformat": 4,
 "nbformat_minor": 5
}
