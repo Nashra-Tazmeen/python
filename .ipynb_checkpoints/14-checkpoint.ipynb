{
 "cells": [
  {
   "cell_type": "code",
   "execution_count": 1,
   "id": "25593f02-7018-4c7a-9472-e47d689107df",
   "metadata": {},
   "outputs": [
    {
     "name": "stdout",
     "output_type": "stream",
     "text": [
      "Sorted string: hnopty\n"
     ]
    }
   ],
   "source": [
    "#1Write a Python program to sort a string lexicographically.\n",
    "def sort_string_lexicographically(s):\n",
    "    return ''.join(sorted(s))\n",
    "\n",
    "# Example usage\n",
    "input_string = \"python\"\n",
    "sorted_string = sort_string_lexicographically(input_string)\n",
    "print(\"Sorted string:\", sorted_string)\n"
   ]
  },
  {
   "cell_type": "code",
   "execution_count": 2,
   "id": "47ea4e99-356f-4e4e-b8ab-306ebd918936",
   "metadata": {},
   "outputs": [
    {
     "name": "stdout",
     "output_type": "stream",
     "text": [
      "hello\n"
     ]
    }
   ],
   "source": [
    "#2 remove \\n from string\n",
    "str=\"hello\\n\"\n",
    "print(str.rstrip())"
   ]
  },
  {
   "cell_type": "code",
   "execution_count": 3,
   "id": "0105d909-a5f4-4ed2-98f9-33c9466ef0e6",
   "metadata": {},
   "outputs": [
    {
     "name": "stdout",
     "output_type": "stream",
     "text": [
      "\n",
      "\n",
      "Python is a widely used high-level, general-purpose, interpreted,\n",
      "dynamic programming language. Its design philosophy emphasizes\n",
      "code readability, and its syntax allows programmers to express\n",
      "concepts in fewer lines of code than possible in languages such\n",
      "as C++ or Java.\n",
      "\n",
      "\n"
     ]
    }
   ],
   "source": [
    "##3remove text indentation\n",
    "import textwrap\n",
    "sample_text = '''\n",
    "    Python is a widely used high-level, general-purpose, interpreted,\n",
    "    dynamic programming language. Its design philosophy emphasizes\n",
    "    code readability, and its syntax allows programmers to express\n",
    "    concepts in fewer lines of code than possible in languages such\n",
    "    as C++ or Java.\n",
    "    '''\n",
    "text_without_Indentation = textwrap.dedent(sample_text)\n",
    "print()\n",
    "print(text_without_Indentation )\n",
    "print()\n"
   ]
  },
  {
   "cell_type": "code",
   "execution_count": 4,
   "id": "a8ae27f2-b629-41e4-a45a-b1122fe77525",
   "metadata": {},
   "outputs": [
    {
     "name": "stdout",
     "output_type": "stream",
     "text": [
      "\n",
      "1\n",
      "\n"
     ]
    }
   ],
   "source": [
    "##4 Python: Count occurrences of a substring in a string\n",
    "# Define a string 'str1' with a sentence.\n",
    "str1 = 'The quick brown fox jumps over the lazy dog.'\n",
    "\n",
    "# Print an empty line for spacing.\n",
    "print()\n",
    "\n",
    "# Count and print the number of occurrences of the substring \"fox\" in the string 'str1'.\n",
    "print(str1.count(\"fox\"))\n",
    "\n",
    "# Print an empty line for spacing.\n",
    "print() \n"
   ]
  },
  {
   "cell_type": "code",
   "execution_count": 10,
   "id": "f8464868-0a24-4446-a5a7-b36e9c857e02",
   "metadata": {},
   "outputs": [
    {
     "name": "stdout",
     "output_type": "stream",
     "text": [
      "Reversed words: Python from world Hello\n"
     ]
    }
   ],
   "source": [
    "##5Write a Python program to reverse words in a string.\n",
    "def reverse_words(sentence):\n",
    "    words = sentence.split()         # Split sentence into words\n",
    "    reversed_words = words[::-1]     # Reverse the list of words\n",
    "    return ' '.join(reversed_words)  # Join the reversed list back into a string\n",
    "\n",
    "# Example usage\n",
    "input_sentence = \"Hello world from Python\"\n",
    "reversed_sentence = reverse_words(input_sentence)\n",
    "print(\"Reversed words:\", reversed_sentence)\n",
    "\n",
    "\n"
   ]
  },
  {
   "cell_type": "code",
   "execution_count": 15,
   "id": "c7e73b0f-522e-4157-b7e3-57a1e2ccfa0a",
   "metadata": {},
   "outputs": [
    {
     "name": "stdout",
     "output_type": "stream",
     "text": [
      "hll wrld\n"
     ]
    }
   ],
   "source": [
    "##6Write a Python program to strip a set of characters from a string.\n",
    "str1=\"hello world\"\n",
    "str2=\"aeiou\"\n",
    "new_str=[i for i in str1 if i not in str2 ]\n",
    "print(''.join(new_str))"
   ]
  },
  {
   "cell_type": "code",
   "execution_count": null,
   "id": "be31932f-201c-43fe-b882-7b7eb69f54cf",
   "metadata": {},
   "outputs": [],
   "source": [
    "##7"
   ]
  }
 ],
 "metadata": {
  "kernelspec": {
   "display_name": "Python 3 (ipykernel)",
   "language": "python",
   "name": "python3"
  },
  "language_info": {
   "codemirror_mode": {
    "name": "ipython",
    "version": 3
   },
   "file_extension": ".py",
   "mimetype": "text/x-python",
   "name": "python",
   "nbconvert_exporter": "python",
   "pygments_lexer": "ipython3",
   "version": "3.11.7"
  }
 },
 "nbformat": 4,
 "nbformat_minor": 5
}
