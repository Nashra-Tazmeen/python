{
 "cells": [
  {
   "cell_type": "markdown",
   "id": "055711ac-a953-465a-9924-8685bc420bfd",
   "metadata": {},
   "source": [
    "Beginner: Basic Subarray Questions"
   ]
  },
  {
   "cell_type": "code",
   "execution_count": 2,
   "id": "6756a181-5f87-4cdb-af18-617ed1da4017",
   "metadata": {},
   "outputs": [
    {
     "name": "stdout",
     "output_type": "stream",
     "text": [
      "[1]\n",
      "[1, 2]\n",
      "[1, 2, 3]\n",
      "[2]\n",
      "[2, 3]\n",
      "[3]\n",
      "20\n"
     ]
    }
   ],
   "source": [
    "#1Find and print all possible subarrays of an array.  and print the sum of all subarrays\n",
    "arr=[1,2,3]\n",
    "n=len(arr)\n",
    "res=[]\n",
    "for i in range(n):\n",
    "    for j in range(i,n):\n",
    "        sub_arr=arr[i:j+1] \n",
    "        sum_arr=sum(sub_arr)\n",
    "        res.append(sum_arr) \n",
    "        print(sub_arr) \n",
    "print(sum(res))\n"
   ]
  },
  {
   "cell_type": "code",
   "execution_count": 33,
   "id": "9961a402-53c1-4804-aae0-7e2885edaea5",
   "metadata": {},
   "outputs": [
    {
     "name": "stdout",
     "output_type": "stream",
     "text": [
      "{(-4, 2, -3, -1): -6}\n"
     ]
    }
   ],
   "source": [
    "##2min sum of subarrays  in the given array\n",
    "arr=[3, -4, 2, -3, -1, 7, -5]  \n",
    "n=len(arr) \n",
    "subarray_sums={}\n",
    "for i in range(n):\n",
    "    for j in range(i,n):\n",
    "        sub_arr=tuple(arr[i:j+1])\n",
    "        sum_arr=sum(sub_arr)\n",
    "        subarray_sums[sub_arr]=sum_arr\n",
    "\n",
    "min_sum=min(subarray_sums.values())\n",
    "res={key:value for key,value in subarray_sums.items() if value==min_sum}\n",
    "print(res)\n",
    "        \n"
   ]
  },
  {
   "cell_type": "code",
   "execution_count": 37,
   "id": "0c41ad48-9af0-468b-b2d3-18ccd83468bb",
   "metadata": {},
   "outputs": [
    {
     "name": "stdout",
     "output_type": "stream",
     "text": [
      "10\n"
     ]
    }
   ],
   "source": [
    "##3count the total number of subarray \n",
    "arr=[1,2,3,4]\n",
    "n=len(arr)\n",
    "num_subarray=n*(n+1)//2 \n",
    "print(num_subarray)\n"
   ]
  },
  {
   "cell_type": "code",
   "execution_count": 41,
   "id": "03b08b28-79ad-4185-867c-bf3ff8291150",
   "metadata": {},
   "outputs": [
    {
     "name": "stdout",
     "output_type": "stream",
     "text": [
      "(1,)\n",
      "(1, 3)\n",
      "(1, 3, -1)\n",
      "(1, 3, -1, -3)\n",
      "(1, 3, -1, -3, 5)\n",
      "(1, 3, -1, -3, 5, 3)\n",
      "(1, 3, -1, -3, 5, 3, 6)\n",
      "(1, 3, -1, -3, 5, 3, 6, 7)\n",
      "(3,)\n",
      "(3, -1)\n",
      "(3, -1, -3)\n",
      "(3, -1, -3, 5)\n",
      "(3, -1, -3, 5, 3)\n",
      "(3, -1, -3, 5, 3, 6)\n",
      "(3, -1, -3, 5, 3, 6, 7)\n",
      "(-1,)\n",
      "(-1, -3)\n",
      "(-1, -3, 5)\n",
      "(-1, -3, 5, 3)\n",
      "(-1, -3, 5, 3, 6)\n",
      "(-1, -3, 5, 3, 6, 7)\n",
      "(-3,)\n",
      "(-3, 5)\n",
      "(-3, 5, 3)\n",
      "(-3, 5, 3, 6)\n",
      "(-3, 5, 3, 6, 7)\n",
      "(5,)\n",
      "(5, 3)\n",
      "(5, 3, 6)\n",
      "(5, 3, 6, 7)\n",
      "(3,)\n",
      "(3, 6)\n",
      "(3, 6, 7)\n",
      "(6,)\n",
      "(6, 7)\n",
      "(7,)\n",
      "{(1, 3, -1): 3, (3, -1, -3): 3, (-1, -3, 5): 5, (-3, 5, 3): 5, (5, 3, 6): 6, (3, 6, 7): 7}\n"
     ]
    }
   ],
   "source": [
    "##4Find the largest element in each subarray of size k   \n",
    "\n",
    "arr=[1, 3, -1, -3, 5, 3, 6, 7]\n",
    "n=len(arr)\n",
    "k=3\n",
    "dict={}\n",
    "for i in range(n):\n",
    "    for j in range(i,n):\n",
    "        sub_array=tuple(arr[i:j+1])\n",
    "        print(sub_array)\n",
    "        if len(sub_array)==3:\n",
    "            max_num=max(sub_array)\n",
    "            dict[sub_array]=max_num \n",
    "\n",
    "print(dict)\n",
    "            \n",
    "            \n",
    "            \n"
   ]
  },
  {
   "cell_type": "code",
   "execution_count": null,
   "id": "cadfa10d-7368-4e7b-80cc-f2a2f6f787f1",
   "metadata": {},
   "outputs": [],
   "source": [
    "##5"
   ]
  }
 ],
 "metadata": {
  "kernelspec": {
   "display_name": "Python 3 (ipykernel)",
   "language": "python",
   "name": "python3"
  },
  "language_info": {
   "codemirror_mode": {
    "name": "ipython",
    "version": 3
   },
   "file_extension": ".py",
   "mimetype": "text/x-python",
   "name": "python",
   "nbconvert_exporter": "python",
   "pygments_lexer": "ipython3",
   "version": "3.11.7"
  }
 },
 "nbformat": 4,
 "nbformat_minor": 5
}
