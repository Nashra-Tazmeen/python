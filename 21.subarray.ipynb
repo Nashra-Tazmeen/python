{
 "cells": [
  {
   "cell_type": "markdown",
   "id": "10199152-e1d6-46ec-ba31-64ea9a8e388e",
   "metadata": {},
   "source": [
    "Beginner: Basic Subarray Questions(all questions solved in bruteforce method)"
   ]
  },
  {
   "cell_type": "code",
   "execution_count": 2,
   "id": "6756a181-5f87-4cdb-af18-617ed1da4017",
   "metadata": {},
   "outputs": [
    {
     "name": "stdout",
     "output_type": "stream",
     "text": [
      "[1]\n",
      "[1, 2]\n",
      "[1, 2, 3]\n",
      "[2]\n",
      "[2, 3]\n",
      "[3]\n",
      "20\n"
     ]
    }
   ],
   "source": [
    "#1Find and print all possible subarrays of an array.  and print the sum of all subarrays\n",
    "arr=[1,2,3]\n",
    "n=len(arr)\n",
    "res=[]\n",
    "for i in range(n):\n",
    "    for j in range(i,n):\n",
    "        sub_arr=arr[i:j+1] \n",
    "        sum_arr=sum(sub_arr)\n",
    "        res.append(sum_arr) \n",
    "        print(sub_arr) \n",
    "print(sum(res))\n"
   ]
  },
  {
   "cell_type": "code",
   "execution_count": 33,
   "id": "9961a402-53c1-4804-aae0-7e2885edaea5",
   "metadata": {},
   "outputs": [
    {
     "name": "stdout",
     "output_type": "stream",
     "text": [
      "{(-4, 2, -3, -1): -6}\n"
     ]
    }
   ],
   "source": [
    "##2min sum of subarrays  in the given array\n",
    "arr=[3, -4, 2, -3, -1, 7, -5]  \n",
    "n=len(arr) \n",
    "subarray_sums={}\n",
    "for i in range(n):\n",
    "    for j in range(i,n):\n",
    "        sub_arr=tuple(arr[i:j+1])\n",
    "        sum_arr=sum(sub_arr)\n",
    "        subarray_sums[sub_arr]=sum_arr\n",
    "\n",
    "min_sum=min(subarray_sums.values())\n",
    "res={key:value for key,value in subarray_sums.items() if value==min_sum}\n",
    "print(res)\n",
    "        \n"
   ]
  },
  {
   "cell_type": "code",
   "execution_count": 37,
   "id": "0c41ad48-9af0-468b-b2d3-18ccd83468bb",
   "metadata": {},
   "outputs": [
    {
     "name": "stdout",
     "output_type": "stream",
     "text": [
      "10\n"
     ]
    }
   ],
   "source": [
    "##3count the total number of subarray \n",
    "arr=[1,2,3,4]\n",
    "n=len(arr)\n",
    "num_subarray=n*(n+1)//2 \n",
    "print(num_subarray)\n"
   ]
  },
  {
   "cell_type": "code",
   "execution_count": 42,
   "id": "03b08b28-79ad-4185-867c-bf3ff8291150",
   "metadata": {},
   "outputs": [
    {
     "name": "stdout",
     "output_type": "stream",
     "text": [
      "(1,)\n",
      "(1, 3)\n",
      "(1, 3, -1)\n",
      "(1, 3, -1, -3)\n",
      "(1, 3, -1, -3, 5)\n",
      "(1, 3, -1, -3, 5, 3)\n",
      "(1, 3, -1, -3, 5, 3, 6)\n",
      "(1, 3, -1, -3, 5, 3, 6, 7)\n",
      "(3,)\n",
      "(3, -1)\n",
      "(3, -1, -3)\n",
      "(3, -1, -3, 5)\n",
      "(3, -1, -3, 5, 3)\n",
      "(3, -1, -3, 5, 3, 6)\n",
      "(3, -1, -3, 5, 3, 6, 7)\n",
      "(-1,)\n",
      "(-1, -3)\n",
      "(-1, -3, 5)\n",
      "(-1, -3, 5, 3)\n",
      "(-1, -3, 5, 3, 6)\n",
      "(-1, -3, 5, 3, 6, 7)\n",
      "(-3,)\n",
      "(-3, 5)\n",
      "(-3, 5, 3)\n",
      "(-3, 5, 3, 6)\n",
      "(-3, 5, 3, 6, 7)\n",
      "(5,)\n",
      "(5, 3)\n",
      "(5, 3, 6)\n",
      "(5, 3, 6, 7)\n",
      "(3,)\n",
      "(3, 6)\n",
      "(3, 6, 7)\n",
      "(6,)\n",
      "(6, 7)\n",
      "(7,)\n",
      "{(1, 3, -1): 3, (3, -1, -3): 3, (-1, -3, 5): 5, (-3, 5, 3): 5, (5, 3, 6): 6, (3, 6, 7): 7}\n"
     ]
    }
   ],
   "source": [
    "##4Find the largest element in each subarray of size k   \n",
    "\n",
    "arr=[1, 3, -1, -3, 5, 3, 6, 7]\n",
    "n=len(arr)\n",
    "k=3\n",
    "dict={}\n",
    "for i in range(n):\n",
    "    for j in range(i,n):\n",
    "        sub_array=tuple(arr[i:j+1])\n",
    "        print(sub_array)\n",
    "        if len(sub_array)==k:\n",
    "            max_num=max(sub_array)\n",
    "            dict[sub_array]=max_num \n",
    "\n",
    "print(dict)\n",
    "            \n",
    "            \n",
    "            \n"
   ]
  },
  {
   "cell_type": "markdown",
   "id": "52a06bae-618e-42a7-a984-f232c475bc41",
   "metadata": {},
   "source": [
    "Intermediate questions"
   ]
  },
  {
   "cell_type": "code",
   "execution_count": 47,
   "id": "a73ef9bf-8b18-4bc8-b2c1-f2d7d6097396",
   "metadata": {},
   "outputs": [
    {
     "name": "stdout",
     "output_type": "stream",
     "text": [
      "{(-1, 7): 6}\n"
     ]
    }
   ],
   "source": [
    "##1Find the maximum sum of any subarray (Kadane's Algorithm)-optimized way \n",
    "arr=[3, -4, 2, -3, -1, 7, -5]   \n",
    "n=len(arr)\n",
    "dict={}\n",
    "for i in range(n):\n",
    "    for j in range(i,n):\n",
    "        sub_array=tuple(arr[i:j+2] )\n",
    "        sum_array=sum(sub_array)\n",
    "        dict[sub_array]=sum_array\n",
    "\n",
    "max_sum=max(dict.values())\n",
    "res={key:value for key,value in dict.items() if value==max_sum}\n",
    "print(res)\n",
    "        \n"
   ]
  },
  {
   "cell_type": "code",
   "execution_count": 48,
   "id": "c5ae02e2-d6cd-4de9-ad77-6032355ce1db",
   "metadata": {},
   "outputs": [
    {
     "name": "stdout",
     "output_type": "stream",
     "text": [
      "{(3,): 3, (3, -4): -1, (3, -4, 2): 1, (3, -4, 2, -3): -2, (3, -4, 2, -3, -1): -3, (3, -4, 2, -3, -1, 7): 4, (3, -4, 2, -3, -1, 7, -5): -1, (-4,): -4, (-4, 2): -2, (-4, 2, -3): -5, (-4, 2, -3, -1): -6, (-4, 2, -3, -1, 7): 1, (-4, 2, -3, -1, 7, -5): -4, (2,): 2, (2, -3): -1, (2, -3, -1): -2, (2, -3, -1, 7): 5, (2, -3, -1, 7, -5): 0, (-3,): -3, (-3, -1): -4, (-3, -1, 7): 3, (-3, -1, 7, -5): -2, (-1,): -1, (-1, 7): 6, (-1, 7, -5): 1, (7,): 7, (7, -5): 2, (-5,): -5}\n"
     ]
    }
   ],
   "source": [
    "##2Find the minimum sum of any subarray.\n",
    "arr=[3, -4, 2, -3, -1, 7, -5]\n",
    "n=len(arr)\n",
    "dict={}\n",
    "for i in range(n):\n",
    "    for j in range(i,n):\n",
    "        sub_array=tuple(arr[i:j+1])\n",
    "        sum_array=sum(sub_array)\n",
    "        dict[sub_array]=sum_array\n",
    "\n",
    "print(dict)"
   ]
  },
  {
   "cell_type": "code",
   "execution_count": 51,
   "id": "6378ba44-8f3d-4049-970a-405fda1a39d5",
   "metadata": {},
   "outputs": [
    {
     "name": "stdout",
     "output_type": "stream",
     "text": [
      "1\n"
     ]
    }
   ],
   "source": [
    "##3Count the number of subarrays with a given sum k.\n",
    "arr=[3, -4, 2, -3, -1, 7, -5]\n",
    "n=len(arr)\n",
    "res=[]\n",
    "k=6\n",
    "for i in range(n):\n",
    "    for j in range(i,n):\n",
    "        sub_array=arr[i:j+1]\n",
    "        sum_array=sum(sub_array)\n",
    "        if sum_array==k:\n",
    "            res.append(sum_array)\n",
    "print(len(res))\n",
    "\n"
   ]
  },
  {
   "cell_type": "code",
   "execution_count": 57,
   "id": "3c066c43-8376-4729-8e4c-a6902004dc0c",
   "metadata": {},
   "outputs": [
    {
     "name": "stdout",
     "output_type": "stream",
     "text": [
      "{(3, -4, 2): 1, (-4, 2, -3, -1, 7): 1, (-1, 7, -5): 1}\n",
      "(-4, 2, -3, -1, 7)\n"
     ]
    }
   ],
   "source": [
    "##4Find the longest subarray with a sum equal to k\n",
    "arr=[3, -4, 2, -3, -1, 7, -5]\n",
    "n=len(arr)\n",
    "\n",
    "k=1 \n",
    "dict={}\n",
    "for i in range(n):\n",
    "    for j in range(i,n):\n",
    "        sub_array=tuple(arr[i:j+1])\n",
    "        sum_array=sum(sub_array)\n",
    "        if sum_array==k:\n",
    "            dict[sub_array]=sum_array  \n",
    "print(dict)\n",
    "max_len_subarray=max(dict.keys(),key=len)\n",
    "print(max_len_subarray)\n",
    "\n",
    "        "
   ]
  },
  {
   "cell_type": "code",
   "execution_count": 59,
   "id": "635b6605-868f-435d-827c-b889bff08e0c",
   "metadata": {},
   "outputs": [
    {
     "name": "stdout",
     "output_type": "stream",
     "text": [
      "{(3, -4, 2, -3, -1, 7): 4, (2,): 2, (-1, 7): 6, (7, -5): 2}\n"
     ]
    }
   ],
   "source": [
    "##5Count the number of subarrays with an even sum.\n",
    "arr=[3, -4, 2, -3, -1, 7, -5]\n",
    "n=len(arr)\n",
    "dict={}\n",
    "for i in range(n):\n",
    "    for j in range(i,n):\n",
    "        sub_array=tuple(arr[i:j+1])\n",
    "        sum_array=sum(sub_array)\n",
    "        if sum_array%2==0 and sum_array>0:\n",
    "            dict[sub_array]=sum_array \n",
    "print(dict)\n",
    "            \n"
   ]
  },
  {
   "cell_type": "code",
   "execution_count": 61,
   "id": "8ec83ada-4a0a-4fc6-9742-80d31b32d041",
   "metadata": {},
   "outputs": [
    {
     "name": "stdout",
     "output_type": "stream",
     "text": [
      "[[3], [3, -4], [3, -4, 2], [-4], [-4, 2], [2], [2], [2, -1], [2, -1, 7], [2, -1, 7, -5], [-1], [-1, 7], [-1, 7, -5], [7], [7, -5], [-5], [-5]]\n"
     ]
    }
   ],
   "source": [
    "##6Find the number of subarrays with all distinct elements\n",
    "arr=[3, -4, 2, 2, -1, 7, -5,-5]\n",
    "n=len(arr)\n",
    "count=0\n",
    "dict={}\n",
    "for i in range(n):\n",
    "    for j in range(i,n):\n",
    "        sub_array=arr[i:j+1] \n",
    "        if len(sub_array)==len(set(sub_array)):\n",
    "            res.append(sub_array)\n",
    "\n",
    "print(res)\n"
   ]
  },
  {
   "cell_type": "code",
   "execution_count": 65,
   "id": "b23ca1ae-de25-43cd-a2d7-decba20059f4",
   "metadata": {},
   "outputs": [
    {
     "name": "stdout",
     "output_type": "stream",
     "text": [
      "{(3, -4, 2, 2, -1, 7, -5, -5): 8400}\n"
     ]
    }
   ],
   "source": [
    "##7Find the maximum product of any subarray.\n",
    "import math\n",
    "arr=[3, -4, 2, 2, -1, 7, -5,-5]\n",
    "n=len(arr)\n",
    "dict={}\n",
    "for i in range(n):\n",
    "    for j in range(i,n):\n",
    "        sub_array=tuple(arr[i:j+1])\n",
    "        pro_arr=math.prod(sub_array)\n",
    "        dict[sub_array]=pro_arr\n",
    "max_pro=max(dict.values())\n",
    "res={key:value for key,value in dict.items() if value==max_pro}\n",
    "print(res)\n",
    "        \n",
    "        "
   ]
  },
  {
   "cell_type": "code",
   "execution_count": null,
   "id": "c8371121-531e-46a3-895a-f92ee9c9d52b",
   "metadata": {},
   "outputs": [],
   "source": []
  }
 ],
 "metadata": {
  "kernelspec": {
   "display_name": "Python 3 (ipykernel)",
   "language": "python",
   "name": "python3"
  },
  "language_info": {
   "codemirror_mode": {
    "name": "ipython",
    "version": 3
   },
   "file_extension": ".py",
   "mimetype": "text/x-python",
   "name": "python",
   "nbconvert_exporter": "python",
   "pygments_lexer": "ipython3",
   "version": "3.11.7"
  }
 },
 "nbformat": 4,
 "nbformat_minor": 5
}
