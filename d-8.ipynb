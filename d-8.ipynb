{
 "cells": [
  {
   "cell_type": "code",
   "execution_count": 9,
   "id": "6df4c631-f12a-4ec6-9c9f-491638065f23",
   "metadata": {},
   "outputs": [
    {
     "name": "stdout",
     "output_type": "stream",
     "text": [
      "6\n"
     ]
    }
   ],
   "source": [
    "class rectangle:\n",
    "    def calculate_area(self,w,l):\n",
    "     \n",
    "        print(l*w)\n",
    "obj=rectangle()\n",
    "obj.calculate_area(2,3)"
   ]
  },
  {
   "cell_type": "markdown",
   "id": "3cc2a72b-6918-48b8-8270-d93efba2219d",
   "metadata": {},
   "source": [
    "In Python, the self parameter is a reference to the current instance of the class. It allows you to access the instance variables and methods within the class. When you define a method inside a class, the first parameter of that method should be self, so the method knows which instance of the class is calling it.\n",
    "\n",
    "Even if you are not using any instance variables, self is still required because it's how Python distinguishes between instance methods (which operate on an object) and regular functions. When you call an instance method, Python automatically passes the object (referred to by self) to the method."
   ]
  },
  {
   "cell_type": "code",
   "execution_count": 17,
   "id": "dabbe295-3bda-4c12-80c5-94c015e87266",
   "metadata": {},
   "outputs": [
    {
     "name": "stdout",
     "output_type": "stream",
     "text": [
      "6\n"
     ]
    }
   ],
   "source": [
    "class rec:\n",
    "    def __init__(self,w,l):\n",
    "        self.w=w\n",
    "        self.l=l\n",
    "    def compute(self):\n",
    "        print(self.w*self.l)\n",
    "obj=rec(2,3)\n",
    "obj.compute()"
   ]
  },
  {
   "cell_type": "markdown",
   "id": "a0a9529d-d4ec-466a-ad27-a191530e64a2",
   "metadata": {},
   "source": [
    "1.Write a function to compute 5/0 and use try/except to catch the exceptions."
   ]
  },
  {
   "cell_type": "code",
   "execution_count": 19,
   "id": "41ff8a17-6974-43bc-be7c-4a4c84ebeb0d",
   "metadata": {},
   "outputs": [
    {
     "name": "stdout",
     "output_type": "stream",
     "text": [
      "<class 'ZeroDivisionError'>\n"
     ]
    }
   ],
   "source": [
    "def throws():\n",
    "    return 5/0\n",
    "try:\n",
    "    throws()\n",
    "except:\n",
    "    print(ZeroDivisionError)"
   ]
  },
  {
   "cell_type": "markdown",
   "id": "43227dc2-df8a-48ed-8ee9-19a82f0d99f2",
   "metadata": {},
   "source": [
    "2.Please write a program which prints all permutations of [1,2,3]"
   ]
  },
  {
   "cell_type": "code",
   "execution_count": 23,
   "id": "bc19d7ae-77e5-48ca-829d-1d0ee24e1233",
   "metadata": {},
   "outputs": [
    {
     "name": "stdout",
     "output_type": "stream",
     "text": [
      "[(1, 2, 3), (1, 3, 2), (2, 1, 3), (2, 3, 1), (3, 1, 2), (3, 2, 1)]\n"
     ]
    }
   ],
   "source": [
    "import itertools\n",
    "print(list(itertools.permutations([1,2,3])))"
   ]
  },
  {
   "cell_type": "markdown",
   "id": "47272e61-0182-47cb-a340-f6ab7a20198e",
   "metadata": {},
   "source": [
    "3.Please write a program which accepts a string from console and print the characters that have even indexes.\n",
    "H1e2l3l4o5w6o7r8l9d\n",
    "Example:H1e2l3l4o5w6o7r8l9d"
   ]
  },
  {
   "cell_type": "code",
   "execution_count": 30,
   "id": "2b3bf1f0-e614-4fc6-8fdd-28e5c70506e3",
   "metadata": {},
   "outputs": [
    {
     "name": "stdin",
     "output_type": "stream",
     "text": [
      " H1e2l3l4o5w6o7r8l9d \n"
     ]
    },
    {
     "data": {
      "text/plain": [
       "'Helloworld'"
      ]
     },
     "execution_count": 30,
     "metadata": {},
     "output_type": "execute_result"
    }
   ],
   "source": [
    "s=input()\n",
    "res=[]\n",
    "for i in range(len(s)):\n",
    "    if i%2==0:\n",
    "        res.append(s[i])\n",
    "''.join(res)"
   ]
  },
  {
   "cell_type": "code",
   "execution_count": 31,
   "id": "669d2791-83b3-4caa-8b60-e32bfb5b0273",
   "metadata": {},
   "outputs": [
    {
     "name": "stdin",
     "output_type": "stream",
     "text": [
      " H1e2l3l4o5w6o7r8l9d\n"
     ]
    },
    {
     "data": {
      "text/plain": [
       "'Helloworld'"
      ]
     },
     "execution_count": 31,
     "metadata": {},
     "output_type": "execute_result"
    }
   ],
   "source": [
    "s=input()\n",
    "str=s[::2]#extracts every second character\n",
    "s"
   ]
  },
  {
   "cell_type": "markdown",
   "id": "aa577a31-f9e4-4702-9782-6420ef80d24f",
   "metadata": {},
   "source": [
    "3.If the following string is given as input to the program:\n",
    "\n",
    "abcdefgabc"
   ]
  },
  {
   "cell_type": "code",
   "execution_count": 36,
   "id": "3eadd317-6535-4432-b700-e2e3a296a377",
   "metadata": {},
   "outputs": [
    {
     "name": "stdin",
     "output_type": "stream",
     "text": [
      " abcdefgabc\n"
     ]
    },
    {
     "data": {
      "text/plain": [
       "{'a': 2, 'b': 2, 'c': 2, 'd': 1, 'e': 1, 'f': 1, 'g': 1}"
      ]
     },
     "execution_count": 36,
     "metadata": {},
     "output_type": "execute_result"
    }
   ],
   "source": [
    "s=input()\n",
    "d={}\n",
    "\n",
    "for i in s:\n",
    "    if i not in d:\n",
    "        d[i]=1\n",
    "    else:\n",
    "        d[i]+=1\n",
    "d\n"
   ]
  },
  {
   "cell_type": "markdown",
   "id": "8caa00b4-5238-4f6d-aaf4-677f868bbdba",
   "metadata": {},
   "source": [
    "4.Define a class Person and its two child classes: Male and Female. All classes have a method \"getGender\" which can print \"Male\" for Male class and \"Female\" for Female class.\n",
    "\n",
    "Hints:\n",
    "Use Subclass(Parentclass) to define a child class."
   ]
  },
  {
   "cell_type": "code",
   "execution_count": 38,
   "id": "2bf99226-af1c-431c-bc7d-72a2f539c414",
   "metadata": {},
   "outputs": [
    {
     "name": "stdout",
     "output_type": "stream",
     "text": [
      "male\n",
      "female\n"
     ]
    }
   ],
   "source": [
    "class person:\n",
    "    pass\n",
    "class male(person):\n",
    "    def get_gender(self):\n",
    "        print(\"male\")\n",
    "class female(person):\n",
    "    def get_gender(self):\n",
    "        print(\"female\")\n",
    "obj1=male()\n",
    "obj2=female()\n",
    "obj1.get_gender()\n",
    "obj2.get_gender()\n"
   ]
  },
  {
   "cell_type": "markdown",
   "id": "a2daf1d3-71b9-47c5-970b-39a778b364e1",
   "metadata": {},
   "source": [
    "5.With a given list [12,24,35,24,88,120,155,88,120,155], write a program to print this list after removing all duplicate values with original order reserved.\n",
    "\n",
    "Hints:\n",
    "Use set() to store a number of values without duplicate."
   ]
  },
  {
   "cell_type": "code",
   "execution_count": 41,
   "id": "e8712da9-dfa5-4716-bcdf-7682225c1099",
   "metadata": {},
   "outputs": [
    {
     "name": "stdout",
     "output_type": "stream",
     "text": [
      "{35, 12, 155, 24, 88, 120}\n"
     ]
    }
   ],
   "source": [
    "def removeDuplicate( li ):\n",
    "   new_list=set(li)\n",
    "   return new_list\n",
    "\n",
    "li=[12,24,35,24,88,120,155,88,120,155]\n",
    "print (removeDuplicate(li))\n"
   ]
  },
  {
   "cell_type": "markdown",
   "id": "bc3dad2c-9a73-4112-8a98-8200a56ad31b",
   "metadata": {},
   "source": [
    "6.with two given lists [1,3,6,78,35,55] and [12,24,35,24,88,120,155], write a program to make a list whose elements are intersection of the above given lists.\n",
    "\n",
    "Hints:"
   ]
  },
  {
   "cell_type": "code",
   "execution_count": 45,
   "id": "9ecdcbb4-7e82-48e3-857f-074589d09adb",
   "metadata": {},
   "outputs": [
    {
     "data": {
      "text/plain": [
       "[35]"
      ]
     },
     "execution_count": 45,
     "metadata": {},
     "output_type": "execute_result"
    }
   ],
   "source": [
    "set1=set([1,3,6,78,35,55])\n",
    "set2=set([12,24,35,24,88,120,155])\n",
    "set3=set1&set2\n",
    "list(set3)\n",
    "         "
   ]
  },
  {
   "cell_type": "markdown",
   "id": "0b998285-d3e8-44ae-b8eb-8d110e151c14",
   "metadata": {},
   "source": [
    "7.By using list comprehension, please write a program to print the list after removing the value 24 in [12,24,35,24,88,120,155].\n"
   ]
  },
  {
   "cell_type": "code",
   "execution_count": 46,
   "id": "0154b553-31c1-4513-ba3a-c8df6b40d42b",
   "metadata": {},
   "outputs": [
    {
     "data": {
      "text/plain": [
       "[12, 35, 88, 120, 155]"
      ]
     },
     "execution_count": 46,
     "metadata": {},
     "output_type": "execute_result"
    }
   ],
   "source": [
    "li=[12,24,35,24,88,120,155]\n",
    "new_li=[i for i in li if i!=24]\n",
    "new_li\n"
   ]
  },
  {
   "cell_type": "markdown",
   "id": "2f26b0cc-703d-4c63-8ed2-ca7aa53ce638",
   "metadata": {},
   "source": [
    "8.By using list comprehension, please write a program to print the list after removing the 0th,4th,5th numbers in [12,24,35,70,88,120,155].\n"
   ]
  },
  {
   "cell_type": "code",
   "execution_count": 47,
   "id": "1fd55b61-f184-4884-a607-9db9bbc28b4e",
   "metadata": {},
   "outputs": [
    {
     "name": "stdout",
     "output_type": "stream",
     "text": [
      "[24, 35, 70, 155]\n"
     ]
    }
   ],
   "source": [
    "li = [12,24,35,70,88,120,155]\n",
    "li = [x for (i,x) in enumerate(li) if i not in (0,4,5)]\n",
    "print (li)"
   ]
  },
  {
   "cell_type": "code",
   "execution_count": null,
   "id": "50267328-3287-4bf9-a6b5-31214554439e",
   "metadata": {},
   "outputs": [],
   "source": []
  }
 ],
 "metadata": {
  "kernelspec": {
   "display_name": "Python 3 (ipykernel)",
   "language": "python",
   "name": "python3"
  },
  "language_info": {
   "codemirror_mode": {
    "name": "ipython",
    "version": 3
   },
   "file_extension": ".py",
   "mimetype": "text/x-python",
   "name": "python",
   "nbconvert_exporter": "python",
   "pygments_lexer": "ipython3",
   "version": "3.11.7"
  }
 },
 "nbformat": 4,
 "nbformat_minor": 5
}
