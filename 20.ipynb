{
 "cells": [
  {
   "cell_type": "code",
   "execution_count": 4,
   "id": "365de7e2-fda2-48b3-b638-d356a7e6ce57",
   "metadata": {},
   "outputs": [
    {
     "name": "stdout",
     "output_type": "stream",
     "text": [
      "[4, 5, 1, 2, 3]\n"
     ]
    }
   ],
   "source": [
    "##1Rotate an Array by K Positions:\n",
    "# Write a function to rotate an array to the right by k positions.\n",
    "# Example: [1, 2, 3, 4, 5], k=2 → [4, 5, 1, 2, 3].\n",
    "lst=[1,2,3,4,5]\n",
    "start=0 \n",
    "k=2\n",
    "n=k%len(lst)\n",
    "for i in range(n):\n",
    "    last_el=lst.pop()\n",
    "    lst.insert(0,last_el)  \n",
    "\n",
    "print(lst)\n",
    "    "
   ]
  },
  {
   "cell_type": "code",
   "execution_count": 9,
   "id": "20994d4c-d573-40c4-aa27-a934a4e49004",
   "metadata": {},
   "outputs": [
    {
     "name": "stdout",
     "output_type": "stream",
     "text": [
      "[3, 4, 5, 1, 2]\n"
     ]
    }
   ],
   "source": [
    "# 2Left Rotate an Array by K Positions:\n",
    "# Rotate an array to the left by k positions.\n",
    "# Example: [1, 2, 3, 4, 5], k=2 → [3, 4, 5, 1, 2]. \n",
    "\n",
    "lst=[1,2,3,4,5]\n",
    "start=0 \n",
    "k=2\n",
    "n=k%len(lst) \n",
    "for i in range(n):\n",
    "    first_ele=lst.pop(0)\n",
    "  \n",
    "    lst.append(first_ele) \n",
    "print(lst)"
   ]
  },
  {
   "cell_type": "code",
   "execution_count": 16,
   "id": "b44a1f56-20e0-4d6e-86f1-00e365a7ce23",
   "metadata": {},
   "outputs": [
    {
     "name": "stdout",
     "output_type": "stream",
     "text": [
      "yes\n"
     ]
    }
   ],
   "source": [
    "# 3Check if Two Arrays are Rotations of Each Other:\n",
    "# Determine if one array is a rotation of another.\n",
    "# Example: [1, 2, 3, 4] and [3, 4, 1, 2] → True. \n",
    "lst1=[1,2,3,4]\n",
    "lst2=[3,4,1,2] \n",
    "n=len(lst1)\n",
    "if len(lst1)==len(lst2):\n",
    "    \n",
    "    for i in range(n):\n",
    "        if lst1[i:n]+lst1[0:i]==lst2:\n",
    "            print(\"yes\") \n",
    "            break\n",
    "    else:\n",
    "        print(\"no\")\n",
    "\n"
   ]
  },
  {
   "cell_type": "code",
   "execution_count": null,
   "id": "3370cba7-1f7c-42f4-be1a-4f435f0b2a33",
   "metadata": {},
   "outputs": [],
   "source": [
    "lst1 = [1, 2, 3, 4]\n",
    "lst2 = [3, 4, 1, 2]\n",
    "\n",
    "# Ensure both lists have the same length before comparing\n",
    "if len(lst1) == len(lst2):\n",
    "    for i in range(len(lst1)):\n",
    "        # Rotate lst1 by i positions and check if it matches lst2\n",
    "        if lst1[i:] + lst1[:i] == lst2:\n",
    "            print(\"yes\")\n",
    "            break\n",
    "    else:\n",
    "        print(\"no\")\n",
    "else:\n",
    "    print(\"no\")\n"
   ]
  }
 ],
 "metadata": {
  "kernelspec": {
   "display_name": "Python 3 (ipykernel)",
   "language": "python",
   "name": "python3"
  },
  "language_info": {
   "codemirror_mode": {
    "name": "ipython",
    "version": 3
   },
   "file_extension": ".py",
   "mimetype": "text/x-python",
   "name": "python",
   "nbconvert_exporter": "python",
   "pygments_lexer": "ipython3",
   "version": "3.11.7"
  }
 },
 "nbformat": 4,
 "nbformat_minor": 5
}
