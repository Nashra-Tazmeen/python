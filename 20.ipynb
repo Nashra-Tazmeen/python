{
 "cells": [
  {
   "cell_type": "code",
   "execution_count": 4,
   "id": "365de7e2-fda2-48b3-b638-d356a7e6ce57",
   "metadata": {},
   "outputs": [
    {
     "name": "stdout",
     "output_type": "stream",
     "text": [
      "[4, 5, 1, 2, 3]\n"
     ]
    }
   ],
   "source": [
    "##1Rotate an Array by K Positions:\n",
    "# Write a function to rotate an array to the right by k positions.\n",
    "# Example: [1, 2, 3, 4, 5], k=2 → [4, 5, 1, 2, 3].\n",
    "lst=[1,2,3,4,5]\n",
    "start=0 \n",
    "k=2\n",
    "n=k%len(lst)\n",
    "for i in range(n):\n",
    "    last_el=lst.pop()\n",
    "    lst.insert(0,last_el)  \n",
    "\n",
    "print(lst)\n",
    "    "
   ]
  },
  {
   "cell_type": "code",
   "execution_count": 9,
   "id": "20994d4c-d573-40c4-aa27-a934a4e49004",
   "metadata": {},
   "outputs": [
    {
     "name": "stdout",
     "output_type": "stream",
     "text": [
      "[3, 4, 5, 1, 2]\n"
     ]
    }
   ],
   "source": [
    "# 2Left Rotate an Array by K Positions:\n",
    "# Rotate an array to the left by k positions.\n",
    "# Example: [1, 2, 3, 4, 5], k=2 → [3, 4, 5, 1, 2]. \n",
    "\n",
    "lst=[1,2,3,4,5]\n",
    "start=0 \n",
    "k=2\n",
    "n=k%len(lst) \n",
    "for i in range(n):\n",
    "    first_ele=lst.pop(0)\n",
    "  \n",
    "    lst.append(first_ele) \n",
    "print(lst)"
   ]
  },
  {
   "cell_type": "code",
   "execution_count": 17,
   "id": "b44a1f56-20e0-4d6e-86f1-00e365a7ce23",
   "metadata": {},
   "outputs": [
    {
     "name": "stdout",
     "output_type": "stream",
     "text": [
      "yes\n"
     ]
    }
   ],
   "source": [
    "# 3Check if Two Arrays are Rotations of Each Other:\n",
    "# Determine if one array is a rotation of another.\n",
    "# Example: [1, 2, 3, 4] and [3, 4, 1, 2] → True. \n",
    "lst1=[1,2,3,4]\n",
    "lst2=[3,4,1,2] \n",
    "n=len(lst1)\n",
    "if len(lst1)==len(lst2):\n",
    "    \n",
    "    for i in range(n):\n",
    "        if lst1[i:n]+lst1[0:i]==lst2:\n",
    "            print(\"yes\") \n",
    "            break\n",
    "    else:\n",
    "        print(\"no\")\n",
    "\n"
   ]
  },
  {
   "cell_type": "code",
   "execution_count": 21,
   "id": "46022a3c-113d-4347-bb73-4d19135f6ef7",
   "metadata": {},
   "outputs": [
    {
     "name": "stdout",
     "output_type": "stream",
     "text": [
      "[1, 2, 3, 4]\n"
     ]
    }
   ],
   "source": [
    "lst = [1, 2, 3, 4]\n",
    "n = len(lst)\n",
    "\n",
    "# Reversing the list using rotation logic\n",
    "for i in range(n):\n",
    "    first_ele = lst.pop(0)  # Remove the first element\n",
    "    lst.append(first_ele)  # Add it to the end of the list\n",
    "\n",
    "print(lst)\n",
    "\n"
   ]
  },
  {
   "cell_type": "markdown",
   "id": "5c316da0-9355-45a0-b46b-e436f56fa094",
   "metadata": {},
   "source": [
    "ntermediate Problems:\n",
    "Rotate a Subarray:\n",
    "Rotate only a specific subarray of the given array.\n",
    "Example: Rotate indices 1 to 3 in [1, 2, 3, 4, 5] by 2 → [1, 4, 5, 2, 3].\n",
    "\n",
    "Minimum Rotations to Sort an Array:\n",
    "Calculate the minimum number of rotations needed to sort a rotated array.\n",
    "Example: [3, 4, 5, 1, 2] → 3 rotations.\n",
    "\n",
    "Find the Rotation Count in a Sorted Rotated Array:\n",
    "Determine how many rotations a sorted array has undergone.\n",
    "Example: [5, 6, 1, 2, 3, 4] → 2 rotations.\n",
    "\n",
    "Rotate an Array Without Using Extra Space:\n",
    "Implement a rotation algorithm in-place without extra space.\n",
    "Example: [1, 2, 3, 4, 5], k=3 → [3, 4, 5, 1, 2].\n",
    "\n",
    "Rotate an Array Using Reversal Algorithm:\n",
    "Use the reversal technique to rotate an array.\n",
    "Example: Reverse parts of [1, 2, 3, 4, 5] to achieve rotation by 2.\n",
    "\n",
    "Check Circular Rotations Among Multiple Arrays:\n",
    "Check if a set of arrays are all rotations of the same base array.\n",
    "Example: [1, 2, 3], [3, 1, 2], [2, 3, 1] → True.\n",
    "\n",
    "Rotate a 2D Array Clockwise:\n",
    "Rotate a 2D array or matrix clockwise by 90 degrees.\n",
    "Example: [[1, 2], [3, 4]] → [[3, 1], [4, 2]].\n",
    "\n",
    "Rotate a 2D Array Counterclockwise:\n",
    "Rotate a 2D array or matrix counterclockwise by 90 degrees.\n",
    "Example: [[1, 2], [3, 4]] → [[2, 4], [1, 3]].\n",
    "\n",
    "Find an Element After K Rotations:\n",
    "Determine the position of an element after k rotations of the array.\n",
    "Example: Find 5 in [1, 2, 3, 4, 5], k=2 → New position is 2.\n",
    "\n",
    "Rotate Array Elements into Zig-Zag Order:\n",
    "Rearrange elements after rotation to follow a zig-zag pattern (a < b > c < d).\n",
    "Example: [4, 3, 7, 8, 6, 2, 1] → [3, 7, 4, 8, 2, 6, 1].\n",
    "\n"
   ]
  },
  {
   "cell_type": "code",
   "execution_count": null,
   "id": "a2565bc3-75b2-4893-9a86-72bf8b55cf0e",
   "metadata": {},
   "outputs": [],
   "source": []
  }
 ],
 "metadata": {
  "kernelspec": {
   "display_name": "Python 3 (ipykernel)",
   "language": "python",
   "name": "python3"
  },
  "language_info": {
   "codemirror_mode": {
    "name": "ipython",
    "version": 3
   },
   "file_extension": ".py",
   "mimetype": "text/x-python",
   "name": "python",
   "nbconvert_exporter": "python",
   "pygments_lexer": "ipython3",
   "version": "3.11.7"
  }
 },
 "nbformat": 4,
 "nbformat_minor": 5
}
