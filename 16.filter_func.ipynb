{
 "cells": [
  {
   "cell_type": "markdown",
   "id": "0cec96fc-d2af-4177-9037-66dd7bf88258",
   "metadata": {},
   "source": [
    "# **Types of Programming**\n",
    "\n",
    "Programming can be classified into several paradigms, each providing a different approach to solving problems. The most common types of programming are:\n",
    "\n",
    "- **Procedural Programming**: Code is executed sequentially, focusing on functions or procedures to manipulate data.\n",
    "- **Object-Oriented Programming (OOP)**: Organizes data and behavior into objects. It’s widely used for creating models, especially in data science.\n",
    "- **Functional Programming**: Focuses on the use of functions, immutability, and avoiding side effects.\n",
    "- **Declarative Programming**: Focuses on defining *what* should be done rather than *how*, useful in databases and big data tasks.\n",
    "- **Event-Driven Programming**: Responds to events like user input or data streams, often used for building real-time applications.\n",
    "\n",
    "Each paradigm offers different strengths for various programming tasks.\n",
    "\n",
    "---\n",
    "\n",
    "# **Functional Programming**\n",
    "\n",
    "Functional programming (FP) is a paradigm that treats computation as the evaluation of mathematical functions and avoids changing state or mutable data. It is often used for tasks that require:\n",
    "\n",
    "- **Immutability**: Data cannot be changed once it’s created.\n",
    "- **Higher-Order Functions**: Functions that take other functions as arguments or return them as results.\n",
    "- **Pure Functions**: Functions that have no side effects and always produce the same output for the same input.\n",
    "\n",
    "In Python, functional programming is supported through built-in functions like `map()`, `filter()`, `reduce()`, and list comprehensions. FP is particularly useful for cleaner, more concise code and tasks involving complex data transformations.\n",
    "\n",
    "---\n",
    "\n",
    "# **Filter Function**\n",
    "\n",
    "## **Definition**\n",
    "\n",
    "The `filter()` function in Python is used to construct an iterator from elements of an iterable for which a function returns `True`. It is a more concise, functional way of filtering items compared to using regular loops.\n",
    "\n",
    "### **Syntax**:\n",
    "```python\n",
    "filter(function, iterable)\n",
    "### Why Use `filter()` Over a Normal Loop?\n",
    "\n",
    "Using `filter()` can make code more readable and concise, especially for straightforward filtering tasks. With `filter()`, you specify only the filtering condition, making it clear what elements are being selected.\n",
    "\n",
    "\n"
   ]
  },
  {
   "cell_type": "code",
   "execution_count": 1,
   "id": "acbd32ff-d074-4034-9f61-bf7772eb7591",
   "metadata": {},
   "outputs": [
    {
     "name": "stdout",
     "output_type": "stream",
     "text": [
      "[2, 4, 6]\n"
     ]
    }
   ],
   "source": [
    "##.1Using a loop to filter even numbers from a list\n",
    "numbers = [1, 2, 3, 4, 5, 6]\n",
    "even_numbers = []\n",
    "\n",
    "for num in numbers:\n",
    "    if num % 2 == 0:\n",
    "        even_numbers.append(num)\n",
    "\n",
    "print(even_numbers)\n"
   ]
  },
  {
   "cell_type": "code",
   "execution_count": 8,
   "id": "e1e60f84-666d-43ad-939d-a720b96384fe",
   "metadata": {},
   "outputs": [
    {
     "name": "stdout",
     "output_type": "stream",
     "text": [
      "[2, 4, 6]\n"
     ]
    }
   ],
   "source": [
    "##with filter function\n",
    "def even_num(i):\n",
    "    if i%2==0:\n",
    "        return True \n",
    "\n",
    "lst=[1,2,3,4,5,6]\n",
    "res=list(filter(even_num,lst))\n",
    "print(res)"
   ]
  },
  {
   "cell_type": "code",
   "execution_count": 15,
   "id": "e76cd085-fece-4d9d-a347-9fc8920b822a",
   "metadata": {},
   "outputs": [
    {
     "name": "stdout",
     "output_type": "stream",
     "text": [
      "[{'name': 'b', 'age': 44}]\n"
     ]
    }
   ],
   "source": [
    "##2.filter the where age>34\n",
    "people=[{'name':'a','age':23},{'name':'b','age':44}]\n",
    "def age_filteration(x):\n",
    "    return x['age']>34\n",
    "print(list(filter(age_filteration,people)))\n",
    "\n",
    "         "
   ]
  },
  {
   "cell_type": "code",
   "execution_count": 16,
   "id": "eeb4998b-be24-4add-bd45-ac73af269c5b",
   "metadata": {},
   "outputs": [
    {
     "name": "stdout",
     "output_type": "stream",
     "text": [
      "['fish', 'elephant']\n"
     ]
    }
   ],
   "source": [
    "##3filter string with specific length\n",
    "# List of words\n",
    "words = [\"cat\", \"dog\", \"fish\", \"elephant\", \"ant\"]\n",
    "\n",
    "# Function to check if word has more than 3 characters\n",
    "def longer_than_three(word):\n",
    "    return len(word) > 3\n",
    "\n",
    "# Using filter to get words with length > 3\n",
    "long_words = list(filter(longer_than_three, words))\n",
    "print(long_words)  # Output: ['fish', 'elephant']\n"
   ]
  },
  {
   "cell_type": "code",
   "execution_count": 19,
   "id": "9a999a1b-c621-457f-a8ef-3ae859dcb4da",
   "metadata": {},
   "outputs": [
    {
     "name": "stdout",
     "output_type": "stream",
     "text": [
      "['madam', 'racecar', 'level']\n"
     ]
    }
   ],
   "source": [
    "##4 filter palindromic words\n",
    "words = [\"madam\", \"racecar\", \"hello\", \"world\", \"level\"]\n",
    "def palindromic_words(word):\n",
    "    return word==word[::-1] \n",
    "print(list(filter(palindromic_words,words)))"
   ]
  },
  {
   "cell_type": "code",
   "execution_count": 21,
   "id": "af27d838-607f-44d3-9bca-9bbf1499c5fd",
   "metadata": {},
   "outputs": [
    {
     "name": "stdout",
     "output_type": "stream",
     "text": [
      "[3, 6, 9, 12, 15]\n"
     ]
    }
   ],
   "source": [
    "##5 filter multiples of number \n",
    "numbers = [1, 3, 4, 6, 7, 9, 12, 15]\n",
    "print(list(filter(lambda x:x%3==0,numbers)))"
   ]
  },
  {
   "cell_type": "code",
   "execution_count": null,
   "id": "bfb27465-9686-4712-a1b0-7571362bff6c",
   "metadata": {},
   "outputs": [],
   "source": []
  }
 ],
 "metadata": {
  "kernelspec": {
   "display_name": "Python 3 (ipykernel)",
   "language": "python",
   "name": "python3"
  },
  "language_info": {
   "codemirror_mode": {
    "name": "ipython",
    "version": 3
   },
   "file_extension": ".py",
   "mimetype": "text/x-python",
   "name": "python",
   "nbconvert_exporter": "python",
   "pygments_lexer": "ipython3",
   "version": "3.11.7"
  }
 },
 "nbformat": 4,
 "nbformat_minor": 5
}
