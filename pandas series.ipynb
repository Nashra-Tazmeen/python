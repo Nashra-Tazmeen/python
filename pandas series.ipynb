{
 "cells": [
  {
   "cell_type": "markdown",
   "id": "d50f8eaa-82fa-4ea7-856d-5c73b0d1b921",
   "metadata": {},
   "source": [
    "A Series is a one-dimensional array with labeled indices in Pandas, essentially like a single column of data. It’s useful when you need to handle a single list or array with index labels, such as a time series or list of scores.\n",
    "\n",
    "A DataFrame is a two-dimensional structure with rows and columns, where each column can be a different data type. It’s ideal for handling tabular data, like a spreadsheet or SQL table, where you have multiple columns with associated labels.\n",
    "\n",
    "Use cases:\n",
    "\n",
    "Series: Storing data for a single variable, like prices over time.\n",
    "DataFrame: Handling structured datasets, like a dataset of employees with columns for name, age, and department.\n",
    "\n",
    "In summary, a Series is like a list or array but with the added flexibility of labeled indexing, data alignment, handling of missing values, and many built-in functions—features that make it better suited for data analysis tasks.\n",
    "\n",
    "In machine learning and data analysis, Pandas Series is commonly used in these scenarios:\n",
    "\n",
    "Working with Single Columns: When you need to isolate a single column from a DataFrame (like a target variable y), it’s often represented as a Series.\n",
    "\n",
    "python\n",
    "\n",
    "y = df['target_column']  # Extracts a single column as a Series\n",
    "\n",
    "\n",
    "\n",
    "\n",
    "\n"
   ]
  },
  {
   "cell_type": "code",
   "execution_count": 10,
   "id": "b5ecba8a-4de8-4e60-815f-ecff310c8ff0",
   "metadata": {},
   "outputs": [
    {
     "name": "stdout",
     "output_type": "stream",
     "text": [
      "0    1\n",
      "1    2\n",
      "2    3\n",
      "3    4\n",
      "dtype: int64\n"
     ]
    }
   ],
   "source": [
    "#1. Write a Pandas program to create and display a one-dimensional array-like object containing an array of data using Pandas module.\n",
    "import pandas as pd\n",
    "ds=pd.Series([1,2,3,4])\n",
    "print(ds)"
   ]
  },
  {
   "cell_type": "code",
   "execution_count": 3,
   "id": "8b2a37c8-967a-4413-a543-ec295aa2af55",
   "metadata": {},
   "outputs": [
    {
     "name": "stdout",
     "output_type": "stream",
     "text": [
      "<class 'pandas.core.series.Series'>\n",
      "<bound method IndexOpsMixin.tolist of 0    1\n",
      "1    2\n",
      "2    3\n",
      "3    4\n",
      "dtype: int64>\n"
     ]
    }
   ],
   "source": [
    "#2Write a Pandas program to convert a Panda module Series to Python list and it's type\n",
    "ds=pd.Series([1,2,3,4])\n",
    "print(type(ds))\n",
    "print(ds.tolist)"
   ]
  },
  {
   "cell_type": "code",
   "execution_count": 5,
   "id": "733fdd3a-3021-4e65-bcd3-4c3491ba01ec",
   "metadata": {},
   "outputs": [
    {
     "name": "stdout",
     "output_type": "stream",
     "text": [
      "0    1\n",
      "1    1\n",
      "2    1\n",
      "3    1\n",
      "4    1\n",
      "dtype: int64\n",
      "0     3\n",
      "1     7\n",
      "2    11\n",
      "3    15\n",
      "4    19\n",
      "dtype: int64\n",
      "0    2.000000\n",
      "1    1.333333\n",
      "2    1.200000\n",
      "3    1.142857\n",
      "4    1.111111\n",
      "dtype: float64\n"
     ]
    }
   ],
   "source": [
    "#3Write a Pandas program to add, subtract, multiple and divide two Pandas Series.\n",
    "\n",
    "ds1=pd.Series([2,4,6,8,10])\n",
    "ds2=pd.Series([1,3,5,7,9])\n",
    "print(ds1-ds2)\n",
    "print(ds1+ds2)\n",
    "print(ds1/ds2)\n"
   ]
  },
  {
   "cell_type": "code",
   "execution_count": 6,
   "id": "9e595aa4-03ad-4bd6-8c43-60d9774f515d",
   "metadata": {},
   "outputs": [
    {
     "name": "stdout",
     "output_type": "stream",
     "text": [
      "Series1:\n",
      "0     2\n",
      "1     4\n",
      "2     6\n",
      "3     8\n",
      "4    10\n",
      "dtype: int64\n",
      "Series2:\n",
      "0     1\n",
      "1     3\n",
      "2     5\n",
      "3     7\n",
      "4    10\n",
      "dtype: int64\n",
      "Compare the elements of the said Series:\n",
      "Equals:\n",
      "0    False\n",
      "1    False\n",
      "2    False\n",
      "3    False\n",
      "4     True\n",
      "dtype: bool\n",
      "Greater than:\n",
      "0     True\n",
      "1     True\n",
      "2     True\n",
      "3     True\n",
      "4    False\n",
      "dtype: bool\n",
      "Less than:\n",
      "0    False\n",
      "1    False\n",
      "2    False\n",
      "3    False\n",
      "4    False\n",
      "dtype: bool\n"
     ]
    }
   ],
   "source": [
    "#4.compare two data series\n",
    "import pandas as pd\n",
    "ds1 = pd.Series([2, 4, 6, 8, 10])\n",
    "ds2 = pd.Series([1, 3, 5, 7, 10])\n",
    "print(\"Series1:\")\n",
    "print(ds1)\n",
    "print(\"Series2:\")\n",
    "print(ds2)\n",
    "print(\"Compare the elements of the said Series:\")\n",
    "print(\"Equals:\")\n",
    "print(ds1 == ds2)\n",
    "print(\"Greater than:\")\n",
    "print(ds1 > ds2)\n",
    "print(\"Less than:\")\n",
    "print(ds1 < ds2)\n"
   ]
  },
  {
   "cell_type": "code",
   "execution_count": 7,
   "id": "4e3113c9-aa69-441d-9161-9f7a65b79a5c",
   "metadata": {},
   "outputs": [
    {
     "name": "stdout",
     "output_type": "stream",
     "text": [
      "a    100\n",
      "b    200\n",
      "c    300\n",
      "d    400\n",
      "e    800\n",
      "dtype: int64\n"
     ]
    }
   ],
   "source": [
    "#5.Write a Pandas program to convert a dictionary to a Pandas series\n",
    "\n",
    "dict1={'a': 100, 'b': 200, 'c': 300, 'd': 400, 'e': 800}\n",
    "new_series=pd.Series(dict1)\n",
    "print(new_series)\n"
   ]
  },
  {
   "cell_type": "code",
   "execution_count": 8,
   "id": "9922349e-2d8a-428e-b834-9be1b65439d7",
   "metadata": {},
   "outputs": [
    {
     "name": "stdout",
     "output_type": "stream",
     "text": [
      "0    1\n",
      "1    2\n",
      "2    3\n",
      "3    4\n",
      "dtype: int32\n"
     ]
    }
   ],
   "source": [
    "#6.Numpy arrays to pandas series \n",
    "import numpy as np \n",
    "arr=np.array([1,2,3,4])\n",
    "new_series=pd.Series(arr)\n",
    "print(new_series)\n"
   ]
  },
  {
   "cell_type": "code",
   "execution_count": 14,
   "id": "ffb96669-63a8-4a5e-a790-70c56cbd1d6d",
   "metadata": {},
   "outputs": [
    {
     "name": "stdout",
     "output_type": "stream",
     "text": [
      "0         1\n",
      "1         2\n",
      "2         3\n",
      "3    python\n",
      "dtype: object\n",
      "0     2\n",
      "1     4\n",
      "2     6\n",
      "3     8\n",
      "4    10\n",
      "dtype: int64\n"
     ]
    }
   ],
   "source": [
    "#7 chnage data type of coulmn of series column\n",
    "ds=pd.Series([1,2,3,'python'])\n",
    "print(ds)\n",
    "ds2=pd.to_numeric(ds1)\n",
    "print(ds2)\n"
   ]
  },
  {
   "cell_type": "code",
   "execution_count": 16,
   "id": "88a7dfb6-0659-431a-9126-f800c4deeae8",
   "metadata": {},
   "outputs": [
    {
     "name": "stdout",
     "output_type": "stream",
     "text": [
      "0    1\n",
      "1    2\n",
      "2    3\n",
      "3    4\n",
      "dtype: int64\n",
      "[1 2 3 4]\n",
      "<class 'numpy.ndarray'>\n"
     ]
    }
   ],
   "source": [
    "#8 series to array \n",
    "ds=pd.Series([1,2,3,4])\n",
    "print(ds) \n",
    "a=ds.values\n",
    "print(a)\n",
    "print(type(a))"
   ]
  },
  {
   "cell_type": "code",
   "execution_count": 19,
   "id": "de0a9b48-1fae-4871-9cce-5d771610e5d9",
   "metadata": {},
   "outputs": [
    {
     "name": "stdout",
     "output_type": "stream",
     "text": [
      "0      [red, green]\n",
      "1    [yellow, blue]\n",
      "dtype: object\n",
      "0       red\n",
      "1     green\n",
      "2    yellow\n",
      "3      blue\n",
      "dtype: object\n"
     ]
    }
   ],
   "source": [
    "#9 series of list into single list \n",
    "ds1=pd.Series([['red','green'],['yellow','blue']])\n",
    "print(ds1)\n",
    "ds1=ds1.apply(pd.Series).stack().reset_index(drop=True)\n",
    "print(ds1)"
   ]
  },
  {
   "cell_type": "code",
   "execution_count": 21,
   "id": "17ca0ffc-112c-4112-8d24-864b986342af",
   "metadata": {},
   "outputs": [
    {
     "name": "stdout",
     "output_type": "stream",
     "text": [
      "0      1\n",
      "1      2\n",
      "2      3\n",
      "3      4\n",
      "4    500\n",
      "5    php\n",
      "dtype: object\n"
     ]
    }
   ],
   "source": [
    "#10 add some data to original series\n",
    "ds1=pd.Series([1,2,3,4])\n",
    "ds1=pd.concat([ds1, pd.Series([500, \"php\"])], ignore_index=True)\n",
    "print(ds1)"
   ]
  },
  {
   "cell_type": "code",
   "execution_count": 1,
   "id": "636aa5e2-4bd6-4232-908b-35613b2c440d",
   "metadata": {},
   "outputs": [
    {
     "name": "stdout",
     "output_type": "stream",
     "text": [
      "Series:\n",
      "0    10\n",
      "1    20\n",
      "2    30\n",
      "3    40\n",
      "4    50\n",
      "Name: Numbers, dtype: int64\n",
      "\n",
      "Element at index 2: 30\n",
      "\n",
      "Sum of the Series: 150\n",
      "Mean of the Series: 30.0\n",
      "\n",
      "Elements greater than 25:\n"
     ]
    },
    {
     "ename": "NameError",
     "evalue": "name 'prin' is not defined",
     "output_type": "error",
     "traceback": [
      "\u001b[1;31m---------------------------------------------------------------------------\u001b[0m",
      "\u001b[1;31mNameError\u001b[0m                                 Traceback (most recent call last)",
      "Cell \u001b[1;32mIn[1], line 23\u001b[0m\n\u001b[0;32m     21\u001b[0m \u001b[38;5;66;03m# Accessing elements by condition (values greater than 25)\u001b[39;00m\n\u001b[0;32m     22\u001b[0m \u001b[38;5;28mprint\u001b[39m(\u001b[38;5;124m\"\u001b[39m\u001b[38;5;130;01m\\n\u001b[39;00m\u001b[38;5;124mElements greater than 25:\u001b[39m\u001b[38;5;124m\"\u001b[39m)\n\u001b[1;32m---> 23\u001b[0m prin\n",
      "\u001b[1;31mNameError\u001b[0m: name 'prin' is not defined"
     ]
    }
   ],
   "source": [
    "#11 \n",
    "import pandas as pd\n",
    "\n",
    "# Creating a Pandas Series from a list\n",
    "data = [10, 20, 30, 40, 50]\n",
    "series = pd.Series(data, name=\"Numbers\")\n",
    "\n",
    "# Display the Series\n",
    "print(\"Series:\")\n",
    "print(series)\n",
    "\n",
    "# Accessing elements by index\n",
    "print(\"\\nElement at index 2:\", series[2])\n",
    "\n",
    "# Calculating the sum of all elements\n",
    "print(\"\\nSum of the Series:\", series.sum())\n",
    "\n",
    "# Calculating the mean of all elements\n",
    "print(\"Mean of the Series:\", series.mean())\n",
    "\n",
    "# Accessing elements by condition (values greater than 25)\n",
    "print(\"\\nElements greater than 25:\")\n",
    "\n"
   ]
  },
  {
   "cell_type": "code",
   "execution_count": null,
   "id": "14040c36-aeb9-49c3-b127-2c759a0c6c6d",
   "metadata": {},
   "outputs": [],
   "source": []
  },
  {
   "cell_type": "code",
   "execution_count": null,
   "id": "bd92d3e9-f4f3-426c-8c2c-d2c29ddf624b",
   "metadata": {},
   "outputs": [],
   "source": []
  }
 ],
 "metadata": {
  "kernelspec": {
   "display_name": "Python 3 (ipykernel)",
   "language": "python",
   "name": "python3"
  },
  "language_info": {
   "codemirror_mode": {
    "name": "ipython",
    "version": 3
   },
   "file_extension": ".py",
   "mimetype": "text/x-python",
   "name": "python",
   "nbconvert_exporter": "python",
   "pygments_lexer": "ipython3",
   "version": "3.11.7"
  }
 },
 "nbformat": 4,
 "nbformat_minor": 5
}
