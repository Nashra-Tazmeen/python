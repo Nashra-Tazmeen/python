{
 "cells": [
  {
   "cell_type": "code",
   "execution_count": 2,
   "id": "6e7f29a3-17f6-4281-845e-55aaf7bb7a1f",
   "metadata": {},
   "outputs": [
    {
     "name": "stdout",
     "output_type": "stream",
     "text": [
      "    name  age department\n",
      "0  alice   20        cse\n",
      "1    bob   18        ece\n",
      "2  david   19         IT\n"
     ]
    }
   ],
   "source": [
    "#1.create a pandas data frame\n",
    "import pandas as pd\n",
    "data={'name':['alice','bob','david'],'age':[20,18,19],'department':['cse','ece','IT']}\n",
    "df=pd.DataFrame(data)\n",
    "print(df)"
   ]
  },
  {
   "cell_type": "code",
   "execution_count": 3,
   "id": "4ff2d1ae-5a58-40ef-b404-bea7f4a8d730",
   "metadata": {},
   "outputs": [
    {
     "name": "stdout",
     "output_type": "stream",
     "text": [
      "    name  age\n",
      "0  alice   20\n",
      "1    bob   18\n",
      "2  david   19\n"
     ]
    }
   ],
   "source": [
    "#2.select given columns\n",
    "df1=df[['name','age']]\n",
    "print(df1)"
   ]
  },
  {
   "cell_type": "code",
   "execution_count": 6,
   "id": "0e29e7f7-c47f-4692-813b-a61023263942",
   "metadata": {},
   "outputs": [
    {
     "name": "stdout",
     "output_type": "stream",
     "text": [
      "    name  age department\n",
      "0  alice   20        cse\n",
      "2  david   19         IT\n"
     ]
    }
   ],
   "source": [
    "#3select records where age >20\n",
    "df2=df[df['age']>18]\n",
    "print(df2)"
   ]
  },
  {
   "cell_type": "code",
   "execution_count": 7,
   "id": "91c4c7e1-7928-4e78-9609-761305be9ceb",
   "metadata": {},
   "outputs": [
    {
     "name": "stdout",
     "output_type": "stream",
     "text": [
      "    name  age department\n",
      "0  alice   20        cse\n",
      "2  david   19         IT\n",
      "1    bob   18        ece\n"
     ]
    }
   ],
   "source": [
    "#4sort the records by age (desc order)\n",
    "df3=df.sort_values(by='age',ascending=False)\n",
    "print(df3)\n"
   ]
  },
  {
   "cell_type": "code",
   "execution_count": 8,
   "id": "0dcaa572-bebf-4ece-b8c7-f70f6537159c",
   "metadata": {},
   "outputs": [
    {
     "name": "stdout",
     "output_type": "stream",
     "text": [
      "19.0\n"
     ]
    }
   ],
   "source": [
    "#5 calcukate mean age \n",
    "avg=df['age'].mean()\n",
    "print(avg)"
   ]
  },
  {
   "cell_type": "code",
   "execution_count": 9,
   "id": "6ca7f8d4-a592-46bd-81da-ab6692a56e94",
   "metadata": {},
   "outputs": [
    {
     "name": "stdout",
     "output_type": "stream",
     "text": [
      "    name  age department          course\n",
      "0  alice   20        cse    data science\n",
      "1    bob   18        ece  cyber security\n",
      "2  david   19         IT    data analyst\n"
     ]
    }
   ],
   "source": [
    "#6add new column course \n",
    "df['course']=['data science','cyber security','data analyst']\n",
    "print(df)\n",
    "              \n"
   ]
  },
  {
   "cell_type": "code",
   "execution_count": 10,
   "id": "8ec1463d-3381-44c6-be19-b3108c570416",
   "metadata": {},
   "outputs": [
    {
     "name": "stdout",
     "output_type": "stream",
     "text": [
      "20\n"
     ]
    }
   ],
   "source": [
    "#7.max age student\n",
    "max_age=df['age'].max()\n",
    "print(max_age)"
   ]
  },
  {
   "cell_type": "code",
   "execution_count": 12,
   "id": "c25d22d9-787d-4b92-a2eb-667a8c19d677",
   "metadata": {},
   "outputs": [
    {
     "name": "stdout",
     "output_type": "stream",
     "text": [
      "department\n",
      "IT     1\n",
      "cse    1\n",
      "ece    1\n",
      "Name: name, dtype: int64\n"
     ]
    }
   ],
   "source": [
    "#8count of students by department\n",
    "count_students=df.groupby('department')['name'].count()\n",
    "print(count_students)\n"
   ]
  },
  {
   "cell_type": "code",
   "execution_count": 13,
   "id": "b021158e-d449-4db4-afec-bd866544de10",
   "metadata": {},
   "outputs": [
    {
     "name": "stdout",
     "output_type": "stream",
     "text": [
      "    name  age department          course  fee structure\n",
      "0  alice   20        cse    data science          20000\n",
      "1    bob   18        ece  cyber security          10000\n",
      "2  david   19         IT    data analyst           5000\n"
     ]
    }
   ],
   "source": [
    "#9.add another coulmn fee of course\n",
    "df['fee structure']=[20000,10000,5000]\n",
    "print(df)\n",
    "                     "
   ]
  },
  {
   "cell_type": "code",
   "execution_count": 15,
   "id": "0181170c-3f65-4ba0-8392-968d21d227b4",
   "metadata": {},
   "outputs": [
    {
     "name": "stdout",
     "output_type": "stream",
     "text": [
      "    name  age department        course  fee structure\n",
      "0  alice   20        cse  data science          20000\n"
     ]
    }
   ],
   "source": [
    "#10select records where fees graeyer than 10 k\n",
    "df4=df[df['fee structure']>10000]\n",
    "print(df4)"
   ]
  },
  {
   "cell_type": "code",
   "execution_count": 17,
   "id": "b673cad7-11c8-4209-99e3-30c33ce182a6",
   "metadata": {},
   "outputs": [
    {
     "name": "stdout",
     "output_type": "stream",
     "text": [
      "35000\n"
     ]
    }
   ],
   "source": [
    "#11 total fees\n",
    "total_fees=df['fee structure'].sum()\n",
    "print(total_fees)"
   ]
  },
  {
   "cell_type": "code",
   "execution_count": null,
   "id": "109431c6-7a54-44b2-baa4-68975b6214c4",
   "metadata": {},
   "outputs": [],
   "source": []
  }
 ],
 "metadata": {
  "kernelspec": {
   "display_name": "Python 3 (ipykernel)",
   "language": "python",
   "name": "python3"
  },
  "language_info": {
   "codemirror_mode": {
    "name": "ipython",
    "version": 3
   },
   "file_extension": ".py",
   "mimetype": "text/x-python",
   "name": "python",
   "nbconvert_exporter": "python",
   "pygments_lexer": "ipython3",
   "version": "3.11.7"
  }
 },
 "nbformat": 4,
 "nbformat_minor": 5
}
