{
 "cells": [
  {
   "cell_type": "code",
   "execution_count": 7,
   "id": "5117db20-0847-44fe-8ba3-07b9eea41780",
   "metadata": {},
   "outputs": [
    {
     "name": "stdout",
     "output_type": "stream",
     "text": [
      "821\n"
     ]
    }
   ],
   "source": [
    "##1reverse a number\n",
    "n=128\n",
    "str_num=str(n)\n",
    "rev_str=str_num[::-1]\n",
    "print(rev_str)\n",
    "\n",
    "\n",
    "\n",
    "        "
   ]
  },
  {
   "cell_type": "code",
   "execution_count": 8,
   "id": "edc7c432-550f-4c38-bb77-c4911b7b151f",
   "metadata": {},
   "outputs": [
    {
     "name": "stdout",
     "output_type": "stream",
     "text": [
      "821\n"
     ]
    }
   ],
   "source": [
    "num=128 \n",
    "reverse=0 \n",
    "while num>0:\n",
    "    remainder=num%10\n",
    "    reverse=reverse*10+remainder \n",
    "    num=num//10 \n",
    "print(reverse)\n"
   ]
  },
  {
   "cell_type": "code",
   "execution_count": 11,
   "id": "0e45ca19-c5d9-416e-8a29-c6041c6b24eb",
   "metadata": {},
   "outputs": [
    {
     "name": "stdin",
     "output_type": "stream",
     "text": [
      "enter the number 6\n"
     ]
    },
    {
     "name": "stdout",
     "output_type": "stream",
     "text": [
      "0\n",
      "1\n",
      "1\n",
      "2\n",
      "3\n",
      "5\n",
      "8\n",
      "13\n",
      "21\n"
     ]
    }
   ],
   "source": [
    "#2fibnoci series \n",
    "n=int(input(\"enter the number\"))\n",
    "n1=0\n",
    "n2=1\n",
    "print(n1)\n",
    "print(n2)\n",
    "while n>=0:\n",
    "    nth=n1+n2 \n",
    "    print(nth)\n",
    "    n1=n2\n",
    "    n2=nth \n",
    "    n-=1 \n",
    "\n",
    "    \n",
    "    "
   ]
  },
  {
   "cell_type": "code",
   "execution_count": 12,
   "id": "1117191e-c42b-48ca-8b50-632afefdedab",
   "metadata": {},
   "outputs": [
    {
     "name": "stdout",
     "output_type": "stream",
     "text": [
      "16\n"
     ]
    }
   ],
   "source": [
    "##3hcf/gcd \n",
    "def compute_gcd(a,b):\n",
    "    if b==0:\n",
    "        return a\n",
    "    else:\n",
    "        return compute_gcd(b,a%b) \n",
    "\n",
    "a=64\n",
    "b=48 \n",
    "print(compute_gcd(a,b))\n",
    "    \n"
   ]
  },
  {
   "cell_type": "code",
   "execution_count": 13,
   "id": "3f03abbd-3e58-462e-b9d7-41f2cd37a26f",
   "metadata": {},
   "outputs": [
    {
     "ename": "SyntaxError",
     "evalue": "invalid character '“' (U+201C) (450414220.py, line 2)",
     "output_type": "error",
     "traceback": [
      "\u001b[1;36m  Cell \u001b[1;32mIn[13], line 2\u001b[1;36m\u001b[0m\n\u001b[1;33m    n = int(input(“Enter any number: “))\u001b[0m\n\u001b[1;37m                  ^\u001b[0m\n\u001b[1;31mSyntaxError\u001b[0m\u001b[1;31m:\u001b[0m invalid character '“' (U+201C)\n"
     ]
    }
   ],
   "source": [
    "##4 perfect number\n",
    "n = int(input(“Enter any number: “))\n",
    "sump= 0\n",
    "for i in range(1, n):\n",
    "    if(n % i == 0):\n",
    "        sump= sump + i\n",
    "if (sump == n):\n",
    "    print(“The number is a Perfect number”)\n",
    "else:\n",
    "    print(“The number is not a Perfect number”)"
   ]
  },
  {
   "cell_type": "code",
   "execution_count": 18,
   "id": "a69f5348-8519-4216-ad56-86e82db9e7f7",
   "metadata": {},
   "outputs": [
    {
     "name": "stdout",
     "output_type": "stream",
     "text": [
      "not anagram\n"
     ]
    }
   ],
   "source": [
    "##5 string anagram or not \n",
    "str1=\"listen\"\n",
    "str2=\"silent\"\n",
    "if len(str1)!=len(str2):\n",
    "    print(\"not anagram\") \n",
    "else:\n",
    "    new_str1=sorted(str1)\n",
    "    new_str2=sorted(str2)\n",
    "    if new_str1==new_str2:\n",
    "        print(\"anagram\")\n",
    "    else:\n",
    "        print(\"no\")\n",
    "        "
   ]
  },
  {
   "cell_type": "code",
   "execution_count": 20,
   "id": "4576a6d3-478c-4b7a-b181-f7be8b115bed",
   "metadata": {},
   "outputs": [
    {
     "name": "stdout",
     "output_type": "stream",
     "text": [
      "yes\n"
     ]
    }
   ],
   "source": [
    "##6 string palindorm\n",
    "str1=\"madam\"\n",
    "str2=str1[::-1]\n",
    "if str1==str2:\n",
    "    print(\"yes\") \n",
    "else:\n",
    "    print(\"no\")\n",
    "\n"
   ]
  },
  {
   "cell_type": "code",
   "execution_count": 27,
   "id": "d90c6a31-5a7d-4307-9e38-113a93d02721",
   "metadata": {},
   "outputs": [
    {
     "name": "stdout",
     "output_type": "stream",
     "text": [
      "2\n"
     ]
    }
   ],
   "source": [
    "##7 calculate frequency of character in a str\n",
    "\n",
    "str=\"airplane\"\n",
    "char='a'\n",
    "char_counts=str.count(char)\n",
    "print(char_counts)"
   ]
  },
  {
   "cell_type": "code",
   "execution_count": 30,
   "id": "e05c68ff-f612-4c92-a43d-4d6761e1f720",
   "metadata": {},
   "outputs": [
    {
     "name": "stdout",
     "output_type": "stream",
     "text": [
      "[1, 2, 3, 4, 5, 7]\n"
     ]
    }
   ],
   "source": [
    "##8bubble sort \n",
    "arr=[1,4,3,5,2,7]\n",
    "n=len(arr)\n",
    "for i in range(n):\n",
    "    for j in range(i+1,n-1):\n",
    "        if arr[i]>arr[j]:\n",
    "            arr[i],arr[j]=arr[j],arr[i] \n",
    "print(arr)\n"
   ]
  },
  {
   "cell_type": "code",
   "execution_count": null,
   "id": "b1175802-861a-42c5-8acd-116e173ee5a0",
   "metadata": {},
   "outputs": [],
   "source": [
    "##9 mege sort"
   ]
  },
  {
   "cell_type": "code",
   "execution_count": 2,
   "id": "9f738c3a-50fe-4d57-b0cd-c71de4f0454a",
   "metadata": {},
   "outputs": [
    {
     "name": "stdout",
     "output_type": "stream",
     "text": [
      "yes leap year\n"
     ]
    }
   ],
   "source": [
    "##10 leap year or not \n",
    "year=2020\n",
    "if (year%4==0 and year%100!=0) or year%400==0:\n",
    "    print(\"yes leap year\")\n",
    "else:\n",
    "    print(\"no\")\n"
   ]
  },
  {
   "cell_type": "code",
   "execution_count": 10,
   "id": "cc53403f-1d8a-4152-9e04-3eafeb75d105",
   "metadata": {},
   "outputs": [
    {
     "name": "stdout",
     "output_type": "stream",
     "text": [
      "r e i n s t a\n"
     ]
    }
   ],
   "source": [
    "#11 non repeating char in a string 0(n2)\n",
    "#take user input\n",
    "string=\"prepinsta\"\n",
    "dict={}\n",
    "res=[]\n",
    "for i in string:\n",
    "    char_count=string.count(i)taking 0(n)\n",
    "    dict[i]=char_count \n",
    "for i,j in dict.items():\n",
    "    if j==1:\n",
    "        res.append(i) \n",
    "print(' '.join(res))"
   ]
  },
  {
   "cell_type": "code",
   "execution_count": 13,
   "id": "197e6f49-36ff-4bee-973b-165dd03bc3f7",
   "metadata": {},
   "outputs": [
    {
     "name": "stdout",
     "output_type": "stream",
     "text": [
      "['r', 'e', 'i', 'n', 's', 't', 'a']\n"
     ]
    }
   ],
   "source": [
    "string=\"prepinsta\"\n",
    "char_count={}\n",
    "for char in string:\n",
    "    char_count[char]=char_count.get(char,0)+1 \n",
    "res=[key for key,value in char_count.items() if value==1]\n",
    "print(res)"
   ]
  },
  {
   "cell_type": "code",
   "execution_count": 14,
   "id": "c11980cb-d3bb-4b3c-85f2-5aa1d2716ff2",
   "metadata": {},
   "outputs": [
    {
     "name": "stdin",
     "output_type": "stream",
     "text": [
      "Enter String :\n",
      " hello worls\n",
      "Enter substring which has to be replaced :\n",
      " worls\n",
      "Enter substring with which str1 has to be replaced :\n",
      " people\n"
     ]
    },
    {
     "name": "stdout",
     "output_type": "stream",
     "text": [
      "String after replacement\n",
      "hello people\n"
     ]
    }
   ],
   "source": [
    "##12 replace substring in a str \n",
    "string=input(\"Enter String :\\n\")\n",
    "str1=input(\"Enter substring which has to be replaced :\\n\")\n",
    "str2=input(\"Enter substring with which str1 has to be replaced :\\n\")\n",
    "string=string.replace(str1,str2)\n",
    "print(\"String after replacement\")\n",
    "print(string)\n"
   ]
  },
  {
   "cell_type": "code",
   "execution_count": null,
   "id": "fd4d284d-fa1e-4bfc-bebb-c436d5cb31bb",
   "metadata": {},
   "outputs": [],
   "source": [
    "##13 heap sort "
   ]
  },
  {
   "cell_type": "code",
   "execution_count": 15,
   "id": "ee4f28b2-341a-4434-99eb-7cc12f2e5278",
   "metadata": {},
   "outputs": [
    {
     "name": "stdout",
     "output_type": "stream",
     "text": [
      "[5, 1, 3, 2, 4]\n"
     ]
    }
   ],
   "source": [
    "##14replace array by its rank\n"
   ]
  },
  {
   "cell_type": "code",
   "execution_count": 25,
   "id": "f14eeaa6-6b86-42c7-ac35-6072f0bc5c5a",
   "metadata": {},
   "outputs": [
    {
     "ename": "IndexError",
     "evalue": "list assignment index out of range",
     "output_type": "error",
     "traceback": [
      "\u001b[1;31m---------------------------------------------------------------------------\u001b[0m",
      "\u001b[1;31mIndexError\u001b[0m                                Traceback (most recent call last)",
      "Cell \u001b[1;32mIn[25], line 8\u001b[0m\n\u001b[0;32m      5\u001b[0m arr1\u001b[38;5;241m=\u001b[39m[\u001b[38;5;241m0\u001b[39m]\u001b[38;5;241m*\u001b[39mn\n\u001b[0;32m      7\u001b[0m \u001b[38;5;28;01mfor\u001b[39;00m i \u001b[38;5;129;01min\u001b[39;00m \u001b[38;5;28mrange\u001b[39m(n):\n\u001b[1;32m----> 8\u001b[0m     arr1[n\u001b[38;5;241m-\u001b[39mi]\u001b[38;5;241m=\u001b[39marr[i]\n\u001b[0;32m      9\u001b[0m \u001b[38;5;28mprint\u001b[39m(arr1)\n",
      "\u001b[1;31mIndexError\u001b[0m: list assignment index out of range"
     ]
    }
   ],
   "source": [
    "import heapq\n",
    "arr = [100, 2, 70, 12 , 90]\n",
    "x=heapq.nlargest(5,arr)\n",
    "n=len(arr)\n",
    "arr1=[0]*n\n",
    "\n",
    "for i in range(n):\n",
    "    arr1[n-i]=arr[i]\n",
    "print(arr1) \n",
    "    \n"
   ]
  },
  {
   "cell_type": "code",
   "execution_count": 28,
   "id": "c3b8cc81-bc85-406c-9b19-263a492beac7",
   "metadata": {},
   "outputs": [
    {
     "name": "stdout",
     "output_type": "stream",
     "text": [
      "[(1, 2), (3, 12), (2, 70), (4, 90), (0, 100)]\n",
      "Original array: [100, 2, 70, 12, 90]\n",
      "Ranked array: [5, 1, 3, 2, 4]\n"
     ]
    }
   ],
   "source": [
    "def replace_with_ranks(arr):\n",
    "    # Step 1: Create a sorted version of the array with indices\n",
    "    sorted_arr = sorted(enumerate(arr), key=lambda x: x[1])\n",
    "    print(sorted_arr)\n",
    "    \n",
    "    # Step 2: Assign ranks (handle duplicates if needed)\n",
    "    ranks = {}\n",
    "    rank = 1\n",
    "    for index, value in sorted_arr:\n",
    "        if value not in ranks:  # Assign rank only if the value hasn't been ranked yet\n",
    "            ranks[value] = rank\n",
    "            rank += 1\n",
    "    \n",
    "    # Step 3: Replace each element in the original array with its rank\n",
    "    ranked_arr = [ranks[value] for value in arr]\n",
    "    \n",
    "    return ranked_arr\n",
    "\n",
    "# Test the function\n",
    "arr = [100, 2, 70, 12 , 90]\n",
    "ranked_arr = replace_with_ranks(arr)\n",
    "print(\"Original array:\", arr)\n",
    "print(\"Ranked array:\", ranked_arr)\n"
   ]
  },
  {
   "cell_type": "code",
   "execution_count": null,
   "id": "5d59547c-e653-472f-a69c-87b18c496332",
   "metadata": {},
   "outputs": [],
   "source": []
  }
 ],
 "metadata": {
  "kernelspec": {
   "display_name": "Python 3 (ipykernel)",
   "language": "python",
   "name": "python3"
  },
  "language_info": {
   "codemirror_mode": {
    "name": "ipython",
    "version": 3
   },
   "file_extension": ".py",
   "mimetype": "text/x-python",
   "name": "python",
   "nbconvert_exporter": "python",
   "pygments_lexer": "ipython3",
   "version": "3.11.7"
  }
 },
 "nbformat": 4,
 "nbformat_minor": 5
}
