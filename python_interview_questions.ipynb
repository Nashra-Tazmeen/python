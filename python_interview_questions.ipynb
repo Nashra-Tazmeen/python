{
 "cells": [
  {
   "cell_type": "code",
   "execution_count": 7,
   "id": "5117db20-0847-44fe-8ba3-07b9eea41780",
   "metadata": {},
   "outputs": [
    {
     "name": "stdout",
     "output_type": "stream",
     "text": [
      "821\n"
     ]
    }
   ],
   "source": [
    "##1reverse a number\n",
    "n=128\n",
    "str_num=str(n)\n",
    "rev_str=str_num[::-1]\n",
    "print(rev_str)\n",
    "\n",
    "\n",
    "\n",
    "        "
   ]
  },
  {
   "cell_type": "code",
   "execution_count": 8,
   "id": "edc7c432-550f-4c38-bb77-c4911b7b151f",
   "metadata": {},
   "outputs": [
    {
     "name": "stdout",
     "output_type": "stream",
     "text": [
      "821\n"
     ]
    }
   ],
   "source": [
    "num=128 \n",
    "reverse=0 \n",
    "while num>0:\n",
    "    remainder=num%10\n",
    "    reverse=reverse*10+remainder \n",
    "    num=num//10 \n",
    "print(reverse)\n"
   ]
  },
  {
   "cell_type": "code",
   "execution_count": 11,
   "id": "0e45ca19-c5d9-416e-8a29-c6041c6b24eb",
   "metadata": {},
   "outputs": [
    {
     "name": "stdin",
     "output_type": "stream",
     "text": [
      "enter the number 6\n"
     ]
    },
    {
     "name": "stdout",
     "output_type": "stream",
     "text": [
      "0\n",
      "1\n",
      "1\n",
      "2\n",
      "3\n",
      "5\n",
      "8\n",
      "13\n",
      "21\n"
     ]
    }
   ],
   "source": [
    "#2fibnoci series \n",
    "n=int(input(\"enter the number\"))\n",
    "n1=0\n",
    "n2=1\n",
    "print(n1)\n",
    "print(n2)\n",
    "while n>=0:\n",
    "    nth=n1+n2 \n",
    "    print(nth)\n",
    "    n1=n2\n",
    "    n2=nth \n",
    "    n-=1 \n",
    "\n",
    "    \n",
    "    "
   ]
  },
  {
   "cell_type": "code",
   "execution_count": 12,
   "id": "1117191e-c42b-48ca-8b50-632afefdedab",
   "metadata": {},
   "outputs": [
    {
     "name": "stdout",
     "output_type": "stream",
     "text": [
      "16\n"
     ]
    }
   ],
   "source": [
    "##3hcf/gcd \n",
    "def compute_gcd(a,b):\n",
    "    if b==0:\n",
    "        return a\n",
    "    else:\n",
    "        return compute_gcd(b,a%b) \n",
    "\n",
    "a=64\n",
    "b=48 \n",
    "print(compute_gcd(a,b))\n",
    "    \n"
   ]
  },
  {
   "cell_type": "code",
   "execution_count": 13,
   "id": "3f03abbd-3e58-462e-b9d7-41f2cd37a26f",
   "metadata": {},
   "outputs": [
    {
     "ename": "SyntaxError",
     "evalue": "invalid character '“' (U+201C) (450414220.py, line 2)",
     "output_type": "error",
     "traceback": [
      "\u001b[1;36m  Cell \u001b[1;32mIn[13], line 2\u001b[1;36m\u001b[0m\n\u001b[1;33m    n = int(input(“Enter any number: “))\u001b[0m\n\u001b[1;37m                  ^\u001b[0m\n\u001b[1;31mSyntaxError\u001b[0m\u001b[1;31m:\u001b[0m invalid character '“' (U+201C)\n"
     ]
    }
   ],
   "source": [
    "##4 perfect number\n",
    "n = int(input(“Enter any number: “))\n",
    "sump= 0\n",
    "for i in range(1, n):\n",
    "    if(n % i == 0):\n",
    "        sump= sump + i\n",
    "if (sump == n):\n",
    "    print(“The number is a Perfect number”)\n",
    "else:\n",
    "    print(“The number is not a Perfect number”)"
   ]
  },
  {
   "cell_type": "code",
   "execution_count": 18,
   "id": "a69f5348-8519-4216-ad56-86e82db9e7f7",
   "metadata": {},
   "outputs": [
    {
     "name": "stdout",
     "output_type": "stream",
     "text": [
      "not anagram\n"
     ]
    }
   ],
   "source": [
    "##5 string anagram or not \n",
    "str1=\"listen\"\n",
    "str2=\"silent\"\n",
    "if len(str1)!=len(str2):\n",
    "    print(\"not anagram\") \n",
    "else:\n",
    "    new_str1=sorted(str1)\n",
    "    new_str2=sorted(str2)\n",
    "    if new_str1==new_str2:\n",
    "        print(\"anagram\")\n",
    "    else:\n",
    "        print(\"no\")\n",
    "        "
   ]
  },
  {
   "cell_type": "code",
   "execution_count": 20,
   "id": "4576a6d3-478c-4b7a-b181-f7be8b115bed",
   "metadata": {},
   "outputs": [
    {
     "name": "stdout",
     "output_type": "stream",
     "text": [
      "yes\n"
     ]
    }
   ],
   "source": [
    "##6 string palindorm\n",
    "str1=\"madam\"\n",
    "str2=str1[::-1]\n",
    "if str1==str2:\n",
    "    print(\"yes\") \n",
    "else:\n",
    "    print(\"no\")\n",
    "\n"
   ]
  },
  {
   "cell_type": "code",
   "execution_count": 27,
   "id": "d90c6a31-5a7d-4307-9e38-113a93d02721",
   "metadata": {},
   "outputs": [
    {
     "name": "stdout",
     "output_type": "stream",
     "text": [
      "2\n"
     ]
    }
   ],
   "source": [
    "##7 calculate frequency of character in a str\n",
    "\n",
    "str=\"airplane\"\n",
    "char='a'\n",
    "char_counts=str.count(char)\n",
    "print(char_counts)"
   ]
  },
  {
   "cell_type": "code",
   "execution_count": 29,
   "id": "e05c68ff-f612-4c92-a43d-4d6761e1f720",
   "metadata": {},
   "outputs": [
    {
     "name": "stdout",
     "output_type": "stream",
     "text": [
      "[1, 2, 3, 4, 5, 7]\n"
     ]
    }
   ],
   "source": [
    "##8bubble sort \n",
    "arr=[1,4,3,5,2,7]\n",
    "n=len(arr)\n",
    "for i in range(n):\n",
    "    for j in range(i+1,n):\n",
    "        if arr[i]>arr[j]:\n",
    "            arr[i],arr[j]=arr[j],arr[i] \n",
    "print(arr)\n"
   ]
  },
  {
   "cell_type": "code",
   "execution_count": null,
   "id": "b1175802-861a-42c5-8acd-116e173ee5a0",
   "metadata": {},
   "outputs": [],
   "source": []
  }
 ],
 "metadata": {
  "kernelspec": {
   "display_name": "Python 3 (ipykernel)",
   "language": "python",
   "name": "python3"
  },
  "language_info": {
   "codemirror_mode": {
    "name": "ipython",
    "version": 3
   },
   "file_extension": ".py",
   "mimetype": "text/x-python",
   "name": "python",
   "nbconvert_exporter": "python",
   "pygments_lexer": "ipython3",
   "version": "3.11.7"
  }
 },
 "nbformat": 4,
 "nbformat_minor": 5
}
