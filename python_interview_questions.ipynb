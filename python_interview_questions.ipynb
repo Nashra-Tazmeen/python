{
 "cells": [
  {
   "cell_type": "code",
   "execution_count": 7,
   "id": "5117db20-0847-44fe-8ba3-07b9eea41780",
   "metadata": {},
   "outputs": [
    {
     "name": "stdout",
     "output_type": "stream",
     "text": [
      "821\n"
     ]
    }
   ],
   "source": [
    "##1reverse a number\n",
    "n=128\n",
    "str_num=str(n)\n",
    "rev_str=str_num[::-1]\n",
    "print(rev_str)\n",
    "\n",
    "\n",
    "\n",
    "        "
   ]
  },
  {
   "cell_type": "code",
   "execution_count": 8,
   "id": "edc7c432-550f-4c38-bb77-c4911b7b151f",
   "metadata": {},
   "outputs": [
    {
     "name": "stdout",
     "output_type": "stream",
     "text": [
      "821\n"
     ]
    }
   ],
   "source": [
    "num=128 \n",
    "reverse=0 \n",
    "while num>0:\n",
    "    remainder=num%10\n",
    "    reverse=reverse*10+remainder \n",
    "    num=num//10 \n",
    "print(reverse)\n"
   ]
  },
  {
   "cell_type": "code",
   "execution_count": 11,
   "id": "0e45ca19-c5d9-416e-8a29-c6041c6b24eb",
   "metadata": {},
   "outputs": [
    {
     "name": "stdin",
     "output_type": "stream",
     "text": [
      "enter the number 6\n"
     ]
    },
    {
     "name": "stdout",
     "output_type": "stream",
     "text": [
      "0\n",
      "1\n",
      "1\n",
      "2\n",
      "3\n",
      "5\n",
      "8\n",
      "13\n",
      "21\n"
     ]
    }
   ],
   "source": [
    "#2fibnoci series \n",
    "n=int(input(\"enter the number\"))\n",
    "n1=0\n",
    "n2=1\n",
    "print(n1)\n",
    "print(n2)\n",
    "while n>=0:\n",
    "    nth=n1+n2 \n",
    "    print(nth)\n",
    "    n1=n2\n",
    "    n2=nth \n",
    "    n-=1 \n",
    "\n",
    "    \n",
    "    "
   ]
  },
  {
   "cell_type": "code",
   "execution_count": 12,
   "id": "1117191e-c42b-48ca-8b50-632afefdedab",
   "metadata": {},
   "outputs": [
    {
     "name": "stdout",
     "output_type": "stream",
     "text": [
      "16\n"
     ]
    }
   ],
   "source": [
    "##3hcf/gcd \n",
    "def compute_gcd(a,b):\n",
    "    if b==0:\n",
    "        return a\n",
    "    else:\n",
    "        return compute_gcd(b,a%b) \n",
    "\n",
    "a=64\n",
    "b=48 \n",
    "print(compute_gcd(a,b))\n",
    "    \n"
   ]
  },
  {
   "cell_type": "code",
   "execution_count": 13,
   "id": "3f03abbd-3e58-462e-b9d7-41f2cd37a26f",
   "metadata": {},
   "outputs": [
    {
     "ename": "SyntaxError",
     "evalue": "invalid character '“' (U+201C) (450414220.py, line 2)",
     "output_type": "error",
     "traceback": [
      "\u001b[1;36m  Cell \u001b[1;32mIn[13], line 2\u001b[1;36m\u001b[0m\n\u001b[1;33m    n = int(input(“Enter any number: “))\u001b[0m\n\u001b[1;37m                  ^\u001b[0m\n\u001b[1;31mSyntaxError\u001b[0m\u001b[1;31m:\u001b[0m invalid character '“' (U+201C)\n"
     ]
    }
   ],
   "source": [
    "##4 perfect number\n",
    "n = int(input(“Enter any number: “))\n",
    "sump= 0\n",
    "for i in range(1, n):\n",
    "    if(n % i == 0):\n",
    "        sump= sump + i\n",
    "if (sump == n):\n",
    "    print(“The number is a Perfect number”)\n",
    "else:\n",
    "    print(“The number is not a Perfect number”)"
   ]
  },
  {
   "cell_type": "code",
   "execution_count": 18,
   "id": "a69f5348-8519-4216-ad56-86e82db9e7f7",
   "metadata": {},
   "outputs": [
    {
     "name": "stdout",
     "output_type": "stream",
     "text": [
      "not anagram\n"
     ]
    }
   ],
   "source": [
    "##5 string anagram or not \n",
    "str1=\"listen\"\n",
    "str2=\"silent\"\n",
    "if len(str1)!=len(str2):\n",
    "    print(\"not anagram\") \n",
    "else:\n",
    "    new_str1=sorted(str1)\n",
    "    new_str2=sorted(str2)\n",
    "    if new_str1==new_str2:\n",
    "        print(\"anagram\")\n",
    "    else:\n",
    "        print(\"no\")\n",
    "        "
   ]
  },
  {
   "cell_type": "code",
   "execution_count": 20,
   "id": "4576a6d3-478c-4b7a-b181-f7be8b115bed",
   "metadata": {},
   "outputs": [
    {
     "name": "stdout",
     "output_type": "stream",
     "text": [
      "yes\n"
     ]
    }
   ],
   "source": [
    "##6 string palindorm\n",
    "str1=\"madam\"\n",
    "str2=str1[::-1]\n",
    "if str1==str2:\n",
    "    print(\"yes\") \n",
    "else:\n",
    "    print(\"no\")\n",
    "\n"
   ]
  },
  {
   "cell_type": "code",
   "execution_count": 27,
   "id": "d90c6a31-5a7d-4307-9e38-113a93d02721",
   "metadata": {},
   "outputs": [
    {
     "name": "stdout",
     "output_type": "stream",
     "text": [
      "2\n"
     ]
    }
   ],
   "source": [
    "##7 calculate frequency of character in a str\n",
    "\n",
    "str=\"airplane\"\n",
    "char='a'\n",
    "char_counts=str.count(char)\n",
    "print(char_counts)"
   ]
  },
  {
   "cell_type": "code",
   "execution_count": 30,
   "id": "e05c68ff-f612-4c92-a43d-4d6761e1f720",
   "metadata": {},
   "outputs": [
    {
     "name": "stdout",
     "output_type": "stream",
     "text": [
      "[1, 2, 3, 4, 5, 7]\n"
     ]
    }
   ],
   "source": [
    "##8bubble sort \n",
    "arr=[1,4,3,5,2,7]\n",
    "n=len(arr)\n",
    "for i in range(n):\n",
    "    for j in range(i+1,n-1):\n",
    "        if arr[i]>arr[j]:\n",
    "            arr[i],arr[j]=arr[j],arr[i] \n",
    "print(arr)\n"
   ]
  },
  {
   "cell_type": "code",
   "execution_count": null,
   "id": "b1175802-861a-42c5-8acd-116e173ee5a0",
   "metadata": {},
   "outputs": [],
   "source": [
    "##9 mege sort"
   ]
  },
  {
   "cell_type": "code",
   "execution_count": 2,
   "id": "9f738c3a-50fe-4d57-b0cd-c71de4f0454a",
   "metadata": {},
   "outputs": [
    {
     "name": "stdout",
     "output_type": "stream",
     "text": [
      "yes leap year\n"
     ]
    }
   ],
   "source": [
    "##10 leap year or not \n",
    "year=2020\n",
    "if (year%4==0 and year%100!=0) or year%400==0:\n",
    "    print(\"yes leap year\")\n",
    "else:\n",
    "    print(\"no\")\n"
   ]
  },
  {
   "cell_type": "code",
   "execution_count": 10,
   "id": "cc53403f-1d8a-4152-9e04-3eafeb75d105",
   "metadata": {},
   "outputs": [
    {
     "name": "stdout",
     "output_type": "stream",
     "text": [
      "r e i n s t a\n"
     ]
    }
   ],
   "source": [
    "#11 non repeating char in a string 0(n2)\n",
    "#take user input\n",
    "string=\"prepinsta\"\n",
    "dict={}\n",
    "res=[]\n",
    "for i in string:\n",
    "    char_count=string.count(i)taking 0(n)\n",
    "    dict[i]=char_count \n",
    "for i,j in dict.items():\n",
    "    if j==1:\n",
    "        res.append(i) \n",
    "print(' '.join(res))"
   ]
  },
  {
   "cell_type": "code",
   "execution_count": 13,
   "id": "197e6f49-36ff-4bee-973b-165dd03bc3f7",
   "metadata": {},
   "outputs": [
    {
     "name": "stdout",
     "output_type": "stream",
     "text": [
      "['r', 'e', 'i', 'n', 's', 't', 'a']\n"
     ]
    }
   ],
   "source": [
    "string=\"prepinsta\"\n",
    "char_count={}\n",
    "for char in string:\n",
    "    char_count[char]=char_count.get(char,0)+1 \n",
    "res=[key for key,value in char_count.items() if value==1]\n",
    "print(res)"
   ]
  },
  {
   "cell_type": "code",
   "execution_count": 14,
   "id": "c11980cb-d3bb-4b3c-85f2-5aa1d2716ff2",
   "metadata": {},
   "outputs": [
    {
     "name": "stdin",
     "output_type": "stream",
     "text": [
      "Enter String :\n",
      " hello worls\n",
      "Enter substring which has to be replaced :\n",
      " worls\n",
      "Enter substring with which str1 has to be replaced :\n",
      " people\n"
     ]
    },
    {
     "name": "stdout",
     "output_type": "stream",
     "text": [
      "String after replacement\n",
      "hello people\n"
     ]
    }
   ],
   "source": [
    "##12 replace substring in a str \n",
    "string=input(\"Enter String :\\n\")\n",
    "str1=input(\"Enter substring which has to be replaced :\\n\")\n",
    "str2=input(\"Enter substring with which str1 has to be replaced :\\n\")\n",
    "string=string.replace(str1,str2)\n",
    "print(\"String after replacement\")\n",
    "print(string)\n"
   ]
  },
  {
   "cell_type": "code",
   "execution_count": null,
   "id": "fd4d284d-fa1e-4bfc-bebb-c436d5cb31bb",
   "metadata": {},
   "outputs": [],
   "source": [
    "##13 heap sort "
   ]
  },
  {
   "cell_type": "code",
   "execution_count": 15,
   "id": "ee4f28b2-341a-4434-99eb-7cc12f2e5278",
   "metadata": {},
   "outputs": [
    {
     "name": "stdout",
     "output_type": "stream",
     "text": [
      "[5, 1, 3, 2, 4]\n"
     ]
    }
   ],
   "source": [
    "##14replace array by its rank\n"
   ]
  },
  {
   "cell_type": "code",
   "execution_count": 28,
   "id": "c3b8cc81-bc85-406c-9b19-263a492beac7",
   "metadata": {},
   "outputs": [
    {
     "name": "stdout",
     "output_type": "stream",
     "text": [
      "[(1, 2), (3, 12), (2, 70), (4, 90), (0, 100)]\n",
      "Original array: [100, 2, 70, 12, 90]\n",
      "Ranked array: [5, 1, 3, 2, 4]\n"
     ]
    }
   ],
   "source": [
    "def replace_with_ranks(arr):\n",
    "    # Step 1: Create a sorted version of the array with indices\n",
    "    sorted_arr = sorted(enumerate(arr), key=lambda x: x[1])\n",
    "    print(sorted_arr)\n",
    "    \n",
    "    # Step 2: Assign ranks (handle duplicates if needed)\n",
    "    ranks = {}\n",
    "    rank = 1\n",
    "    for index, value in sorted_arr:\n",
    "        if value not in ranks:  # Assign rank only if the value hasn't been ranked yet\n",
    "            ranks[value] = rank\n",
    "            rank += 1\n",
    "    \n",
    "    # Step 3: Replace each element in the original array with its rank\n",
    "    ranked_arr = [ranks[value] for value in arr]\n",
    "    \n",
    "    return ranked_arr\n",
    "\n",
    "# Test the function\n",
    "arr = [100, 2, 70, 12 , 90]\n",
    "ranked_arr = replace_with_ranks(arr)\n",
    "print(\"Original array:\", arr)\n",
    "print(\"Ranked array:\", ranked_arr)\n"
   ]
  },
  {
   "cell_type": "code",
   "execution_count": 31,
   "id": "8c6780ae-05c2-4666-b67d-2c4697d8e650",
   "metadata": {},
   "outputs": [
    {
     "name": "stdout",
     "output_type": "stream",
     "text": [
      "[4, 5, 1, 2, 3]\n"
     ]
    }
   ],
   "source": [
    "##15 right rotation \n",
    "arr=[1,2,3,4,5]\n",
    "k=2\n",
    "n=len(arr)\n",
    "k1=k%n \n",
    "for i in range(k1):\n",
    "    last_ele=arr.pop()\n",
    "    arr.insert(0,last_ele) \n",
    "print(arr)"
   ]
  },
  {
   "cell_type": "code",
   "execution_count": 33,
   "id": "a270cf44-26f0-4c67-9387-f93d3856cdb7",
   "metadata": {},
   "outputs": [
    {
     "name": "stdout",
     "output_type": "stream",
     "text": [
      "[3, 4, 5, 1, 2]\n"
     ]
    }
   ],
   "source": [
    "##16 left rotation \n",
    "arr=[1,2,3,4,5] \n",
    "k=2 \n",
    "n=len(arr)\n",
    "k1=k%n \n",
    "for i in range(k1):\n",
    "    first_ele=arr.pop(0)\n",
    "    arr.append(first_ele) \n",
    "print(arr)"
   ]
  },
  {
   "cell_type": "code",
   "execution_count": 38,
   "id": "0a9a180e-e9c1-45db-bc4c-891106408aa5",
   "metadata": {},
   "outputs": [
    {
     "name": "stdout",
     "output_type": "stream",
     "text": [
      "[30, 40, 50]\n"
     ]
    }
   ],
   "source": [
    "##17 non-repeating ele in an array\n",
    "from collections import Counter \n",
    "arr = [10, 30, 40, 20, 10, 20, 50, 10] \n",
    "values_count=Counter(arr)\n",
    "res=[i for i,j in values_count.items() if j==1 ]\n",
    "print(res)\n"
   ]
  },
  {
   "cell_type": "code",
   "execution_count": 55,
   "id": "645d98b5-492a-4ec0-8236-634dbaaa8f37",
   "metadata": {},
   "outputs": [
    {
     "name": "stdout",
     "output_type": "stream",
     "text": [
      "5545455\n"
     ]
    }
   ],
   "source": [
    "##18 longest palindrome in an array\n",
    "arr = [1, 232, 5545455, 909090, 161]\n",
    "res=[]\n",
    "for num in arr:\n",
    "    num_new=str(num)\n",
    "    if num_new==num_new[::-1]:\n",
    "        res.append(int(num_new))\n",
    "\n",
    "\n",
    "result=max(res,key=lambda x:len(str(x)))\n",
    "print(result)\n"
   ]
  },
  {
   "cell_type": "code",
   "execution_count": 56,
   "id": "205ce319-29f1-4316-be8b-c2be04c0235f",
   "metadata": {},
   "outputs": [
    {
     "name": "stdout",
     "output_type": "stream",
     "text": [
      "6\n"
     ]
    }
   ],
   "source": [
    "##19 factorial of number \n",
    "def factorial(n):\n",
    "    if n==0 or n==1:\n",
    "        return 1 \n",
    "    else:\n",
    "        return n*factorial(n-1) \n",
    "print(factorial(3))\n"
   ]
  },
  {
   "cell_type": "code",
   "execution_count": 61,
   "id": "3caafdc4-9a4d-4f7d-8e8b-44bd54780e75",
   "metadata": {},
   "outputs": [
    {
     "name": "stdout",
     "output_type": "stream",
     "text": [
      "yes\n"
     ]
    }
   ],
   "source": [
    "##20 armstrong number or not \n",
    "n=153\n",
    "n1=str(n)\n",
    "p=len(n1)\n",
    "res=[]\n",
    "for i in n1:\n",
    "    value=int(i)**p\n",
    "    res.append(value) \n",
    "if n==sum(res):\n",
    "    print(\"yes\")\n",
    "else:\n",
    "    print(\"no\")"
   ]
  },
  {
   "cell_type": "code",
   "execution_count": 64,
   "id": "5210432e-681d-49b9-a137-352716293f69",
   "metadata": {},
   "outputs": [
    {
     "name": "stdout",
     "output_type": "stream",
     "text": [
      "15\n"
     ]
    }
   ],
   "source": [
    "##21 sum of natural numbers using recursion\n",
    "n=5 \n",
    "sum=0\n",
    "for i in range(n):\n",
    "    sum+=i+1\n",
    "print(sum)\n",
    "    "
   ]
  },
  {
   "cell_type": "code",
   "execution_count": 67,
   "id": "b05b3415-8813-4a60-87ee-ef1b9520cfb5",
   "metadata": {},
   "outputs": [
    {
     "name": "stdout",
     "output_type": "stream",
     "text": [
      "15\n"
     ]
    }
   ],
   "source": [
    "def sum_nn(n):\n",
    "    if n==1:\n",
    "        return 1 \n",
    "    else:\n",
    "        return n+sum_nn(n-1) \n",
    "\n",
    "res=sum_nn(5)\n",
    "print(res)\n"
   ]
  },
  {
   "cell_type": "code",
   "execution_count": 70,
   "id": "d2696441-70b4-44eb-bc7d-385529926ade",
   "metadata": {},
   "outputs": [
    {
     "name": "stdin",
     "output_type": "stream",
     "text": [
      "enter a char k\n"
     ]
    },
    {
     "name": "stdout",
     "output_type": "stream",
     "text": [
      "no not a vowel\n"
     ]
    }
   ],
   "source": [
    "##22 char vowel or not \n",
    "char=input(\"enter a char\")\n",
    "char=char.lower()\n",
    "if (char=='a' or char=='e' or char=='i' or char=='o' or char=='u'):\n",
    "    print(\"yes it is vowel\")\n",
    "else:\n",
    "    print(\"no not a vowel\")\n",
    "    \n"
   ]
  },
  {
   "cell_type": "code",
   "execution_count": 72,
   "id": "ebbda397-e6fd-4062-80b2-0bb09f1a103f",
   "metadata": {},
   "outputs": [
    {
     "name": "stdin",
     "output_type": "stream",
     "text": [
      "enter charcater c\n"
     ]
    },
    {
     "name": "stdout",
     "output_type": "stream",
     "text": [
      "99\n"
     ]
    }
   ],
   "source": [
    "##23 ascii value of char\n",
    "char=input(\"enter charcater\")\n",
    "print(ord(char))"
   ]
  },
  {
   "cell_type": "code",
   "execution_count": 74,
   "id": "d31c2afc-9faf-45af-802c-5f7ab7e24ad6",
   "metadata": {},
   "outputs": [
    {
     "name": "stdout",
     "output_type": "stream",
     "text": [
      "stry\n"
     ]
    }
   ],
   "source": [
    "##24 remove all the characters from str except alphabets \n",
    "string=\"12str34,y6\"\n",
    "res=\"\"\n",
    "for char in string:\n",
    "    if char.isalpha():\n",
    "        res+=char \n",
    "print(res)"
   ]
  },
  {
   "cell_type": "code",
   "execution_count": 77,
   "id": "415e70bb-3679-47ae-96b4-6c4f834f8830",
   "metadata": {},
   "outputs": [
    {
     "name": "stdout",
     "output_type": "stream",
     "text": [
      "4\n"
     ]
    }
   ],
   "source": [
    "##25 smallest ele of the array \n",
    "arr=[10, 89, 9, 56, 4, 80, 8] \n",
    "mini=arr[0]\n",
    "for i in range(len(arr)):\n",
    "    if arr[i]<mini:\n",
    "        mini=arr[i] \n",
    "print(mini)\n",
    "    "
   ]
  },
  {
   "cell_type": "code",
   "execution_count": 83,
   "id": "af9cc94c-8240-408d-87a3-175b893092f7",
   "metadata": {},
   "outputs": [
    {
     "name": "stdout",
     "output_type": "stream",
     "text": [
      "[50, 40, 30, 20, 10]\n"
     ]
    }
   ],
   "source": [
    "##26 reverse array\n",
    "arr= [10, 20, 30, 40, 50] \n",
    "start=0\n",
    "end=len(arr)-1\n",
    "while start<end:\n",
    "    arr[start],arr[end]=arr[end],arr[start]\n",
    "    start+=1 \n",
    "    end-=1 \n",
    "print(arr)\n"
   ]
  },
  {
   "cell_type": "code",
   "execution_count": 87,
   "id": "736999c8-ac42-451d-aeed-43fc24d453a4",
   "metadata": {},
   "outputs": [
    {
     "name": "stdout",
     "output_type": "stream",
     "text": [
      "[10, 20, 30, 40, 50, 88]\n"
     ]
    }
   ],
   "source": [
    "##27 sort elements of the array\n",
    "arr= [10, 20,88, 30, 40, 50]  \n",
    "arr.sort()\n",
    "print(arr) \n",
    "\n",
    "res=sorted(arr)\n",
    "print(res)"
   ]
  },
  {
   "cell_type": "code",
   "execution_count": 93,
   "id": "82e18365-ec11-4df4-acf2-486cc3bbd0c6",
   "metadata": {},
   "outputs": [
    {
     "name": "stdout",
     "output_type": "stream",
     "text": [
      "[10, 20, 30, 40, 50, 88]\n"
     ]
    }
   ],
   "source": [
    "##28 without sort method \n",
    "arr= [10, 20,88, 30, 40, 50] \n",
    "n=len(arr)\n",
    "for i in range(n):\n",
    "    for j in range(i+1,n): \n",
    "        if arr[i]>arr[j]:\n",
    "            arr[i],arr[j]=arr[j],arr[i]\n",
    "print(arr)\n",
    "        "
   ]
  },
  {
   "cell_type": "code",
   "execution_count": null,
   "id": "a427abbd-4130-4974-8f7c-f0119820ebe9",
   "metadata": {},
   "outputs": [],
   "source": []
  }
 ],
 "metadata": {
  "kernelspec": {
   "display_name": "Python 3 (ipykernel)",
   "language": "python",
   "name": "python3"
  },
  "language_info": {
   "codemirror_mode": {
    "name": "ipython",
    "version": 3
   },
   "file_extension": ".py",
   "mimetype": "text/x-python",
   "name": "python",
   "nbconvert_exporter": "python",
   "pygments_lexer": "ipython3",
   "version": "3.11.7"
  }
 },
 "nbformat": 4,
 "nbformat_minor": 5
}
